{
 "cells": [
  {
   "cell_type": "markdown",
   "metadata": {},
   "source": [
    "# Basics of Python - Part 3 - Conditionals and Loops\n",
    "\n",
    "In this module, we will look at the conditionals and for and while loops briefly. Why conditionals? Conditional statements are boolen statements helping us to check some given conditions and act accordingly. For example, we tell the computer do this:\n",
    "\n",
    "If this statement is true, then perform b.\n",
    "\n",
    "On the other hand, for and while statements helps us to do the repetitive statements in an efficient way. If we want to do the same repetitive task over and over by using values similar to each other, we could use a for (or while) statement instead of typinng the same thing over an over. By doing this, we write a more clean, neat code while saving a lot of time.\n",
    "\n",
    "Here is the related documentation about these: https://docs.python.org/3/tutorial/controlflow.html "
   ]
  },
  {
   "cell_type": "markdown",
   "metadata": {},
   "source": [
    "## If statements\n",
    "\n",
    "If statements are used to check conditional arguments. Checking a condition means using comparison operators to find out if the statement is True or False. So, we use ==, !=, <, <=, > and >= to check whether a statement is True or False (Please refer to Part 1 for the comparison operators). \n",
    "\n",
    "* If we are checking several conditions at the same time, we use if, elif and else as follows. (If we already used one if statement, the second condition must be written with elif (shortcut for else if)) \n",
    "\n",
    "* Here is how an if statement works: Computer checks the first condition; if it is True, it will give you that output. If not True, it goes to the second condition. If the second one is True, that will produce the output. If that is also not True, it will check the next statement and so on.\n",
    "\n",
    "* We write the last statement with else. This is optional. Note that else statement doesn't have any conditional argument. This means if all other conditions are not satisfied, this is what you want your computer to do. \n",
    "\n",
    "* Indentation is very important when writing these statements. It is 4 spaces from left. Also, don't forget semicolon : at the end of each statement. Otherwise, it will give a SyntaxError.\n",
    "\n",
    "Practice these below with the following codes. Note that I changed the value of apples each time so that it prints a different portion of the code.\n",
    "\n",
    "    "
   ]
  },
  {
   "cell_type": "code",
   "execution_count": 1,
   "metadata": {},
   "outputs": [
    {
     "name": "stdout",
     "output_type": "stream",
     "text": [
      "Since apples=12 the first portion of the code is satisfied and the code prints this.\n"
     ]
    }
   ],
   "source": [
    "apples=12\n",
    "\n",
    "if apples==12:\n",
    "    print('Since apples=12 the first portion of the code is satisfied and the code prints this.')\n",
    "elif apples !=10:\n",
    "    print(\"Even if this is True, the code stopped at the first step since that condition is satisfied. You won't see this.\")\n",
    "else:\n",
    "    print(\"The first condition is already True, so you won't see this.\")\n",
    "\n"
   ]
  },
  {
   "cell_type": "code",
   "execution_count": 2,
   "metadata": {},
   "outputs": [
    {
     "name": "stdout",
     "output_type": "stream",
     "text": [
      "You are seeing this because first condition is not satisfied and this one is satisfied.\n"
     ]
    }
   ],
   "source": [
    "apples=11\n",
    "\n",
    "if apples==12:\n",
    "    print(\"This is skipped since apples is not equal to 12.\")\n",
    "elif apples !=10:\n",
    "    print(\"You are seeing this because first condition is not satisfied and this one is satisfied.\")\n",
    "else:\n",
    "    print(\"The second condition is already True, so you won't see this.\")\n",
    "\n"
   ]
  },
  {
   "cell_type": "code",
   "execution_count": 3,
   "metadata": {},
   "outputs": [
    {
     "name": "stdout",
     "output_type": "stream",
     "text": [
      "Since the other two conditions are not satisfied, this is what it will print next.\n"
     ]
    }
   ],
   "source": [
    "apples=10\n",
    "\n",
    "if apples==12:\n",
    "    print(\"This is skipped since apples is not equal to 12.\")\n",
    "elif apples !=10:\n",
    "    print(\"This is skipped since apples is equal to 10.\")\n",
    "else:\n",
    "    print('Since the other two conditions are not satisfied, this is what it will print next.')\n"
   ]
  },
  {
   "cell_type": "markdown",
   "metadata": {},
   "source": [
    "In addition, we could combine several conditions with logical operators 'and', 'or' and 'not'. 'and' means both conditions must be True for that code portion to run; 'or' statement means, if one of them True, that code portion would still run. "
   ]
  },
  {
   "cell_type": "code",
   "execution_count": 4,
   "metadata": {},
   "outputs": [
    {
     "name": "stdout",
     "output_type": "stream",
     "text": [
      "Since both of these conditions are satisfied, you are seeing this output.\n",
      "If you are seeing this output, it means that one of the conditions must be satisfied.\n",
      "------------\n"
     ]
    }
   ],
   "source": [
    "apples=12\n",
    "oranges=10\n",
    "pears=14\n",
    "\n",
    "\n",
    "if apples<oranges or apples<pears:\n",
    "    print(\"Since both of these conditions are satisfied, you are seeing this output.\")\n",
    "else:\n",
    "    print(\"If you are seeing this output, it means one of the conditions in the if statement is not satisfied.\")\n",
    "\n",
    "#If you want to see how it changes when we change 'and' to 'or', please uncomment the code below and run. \n",
    "#Seeing both outputs at the same time might be confusing, so you may want to comment the code above \n",
    "#by using triple quotes to see only one output.\n",
    "\n",
    "\n",
    "\n",
    "if apples<oranges or apples<pears:\n",
    "    print(\"If you are seeing this output, it means that one of the conditions must be satisfied.\")\n",
    "else:\n",
    "    print(\"If you are seeing this output, it means none of the conditions is satisfied.\")\n",
    "\n",
    "\n",
    "print('------------')"
   ]
  },
  {
   "cell_type": "markdown",
   "metadata": {},
   "source": [
    "Here is a cool tip: If you are unsure of what your code is doing, have a couple of print statement in each part so that you\n",
    "will see when it is running, or how it is running etc. I will be using this trick below to explain for statements, as well."
   ]
  },
  {
   "cell_type": "markdown",
   "metadata": {},
   "source": [
    "## For statements\n",
    "\n",
    "In the example below, the task is simple: Multiply numbers in the given list by 3 and write each result separately. The list given below has only 4 elements. To perform this task one by one, we have to write print(my_list[position]*3) 4 times to produce the results that we want. Imagine that we have 1000 elements! There must be a better way of doing this simple task. So, instead, we write a two line code by using a for loop (which is another control flow statement) and let it iterate through the list:\n"
   ]
  },
  {
   "cell_type": "code",
   "execution_count": 1,
   "metadata": {
    "scrolled": true
   },
   "outputs": [
    {
     "name": "stdout",
     "output_type": "stream",
     "text": [
      "3\n",
      "6\n",
      "9\n",
      "12\n",
      "--------------------\n",
      "--------------------\n",
      "3\n",
      "6\n",
      "9\n",
      "12\n"
     ]
    }
   ],
   "source": [
    "my_list=[1,2,3,4]\n",
    "\n",
    "print(my_list[0]*3)\n",
    "print(my_list[1]*3)\n",
    "print(my_list[2]*3)\n",
    "print(my_list[3]*3)\n",
    "\n",
    "print('--------------------')\n",
    "\n",
    "'''Just for fun, uncomment the code below and see what it prints.'''\n",
    "\n",
    "#print(my_list*3)\n",
    "\n",
    "print('--------------------')\n",
    "\n",
    "for n in my_list:\n",
    "    print(n*3)    "
   ]
  },
  {
   "cell_type": "markdown",
   "metadata": {},
   "source": [
    "## Example 1:\n",
    "\n",
    "Find all numbers between 1 and 40 that are divisible by 3?\n",
    "\n",
    "We solve this in the following way:\n",
    "\n",
    "* First, we create an empty list. \n",
    "* By using a for loop, we add numbers satisfiying the condition to the list.\n",
    "* Since there is a condition to be checked, we have to use an if statement inside the for statement. Therefore, we have to nest it  in the following way. Note that every time, indentation=4 spaces.\n",
    "* The condition given is that the number should be divisible by 3. So, we will use %3, which gives the remainder. If a number is divisible by 3, the remainder becomes 0. \n"
   ]
  },
  {
   "cell_type": "code",
   "execution_count": 6,
   "metadata": {},
   "outputs": [
    {
     "name": "stdout",
     "output_type": "stream",
     "text": [
      "[3, 6, 9, 12, 15, 18, 21, 24, 27, 30, 33, 36, 39]\n"
     ]
    }
   ],
   "source": [
    "\n",
    "divisible_3=[] \n",
    "\n",
    "for n in range(1,40):\n",
    "    if n%3==0:\n",
    "        divisible_3.append(n)\n",
    "\n",
    "#Now, let's see the list of all these numbers.\n",
    "print(divisible_3)\n"
   ]
  },
  {
   "cell_type": "markdown",
   "metadata": {},
   "source": [
    "## Exercise:\n",
    "\n",
    "Find all numbers in list lst=[5, 10, 15, 20, 25, 30, 35, 40, 45,50,55,60,65,70,75,80] that are divisible by both 5 and 7.\n",
    "\n",
    "Answer: [35,70] "
   ]
  },
  {
   "cell_type": "code",
   "execution_count": 7,
   "metadata": {},
   "outputs": [],
   "source": [
    "lst=[5, 10, 15, 20, 25, 30, 35, 40, 45,50,55,60,65,70,75,80]\n",
    "\n"
   ]
  },
  {
   "cell_type": "markdown",
   "metadata": {},
   "source": [
    "## Example 2:\n",
    "\n",
    "Let's consider all numbers between 10 and 20. You can use range(10,21) for this list. (Please don't forget: indexing starts with 0 so you have to have 11 to have 10 elements.)\n",
    "\n",
    "- Multiply all even numbers between 10 and 20 by 10 and add them to a new list, called lst.\n",
    "- Multiply all numbers that are divisible by 3 by 100, add those to lst, as well.\n",
    "\n",
    "(a) How many elements are in lst?\n",
    "\n",
    "(b) What is the sum of elements in lst?\n"
   ]
  },
  {
   "cell_type": "code",
   "execution_count": 8,
   "metadata": {
    "scrolled": true
   },
   "outputs": [
    {
     "name": "stdout",
     "output_type": "stream",
     "text": [
      "[100, 120, 140, 160, 180, 200, 1200, 1500, 1800]\n",
      "----------\n",
      "(a) There are 9 elements in lst.\n",
      "(b) The sum of all elements in lst is 5400.\n"
     ]
    }
   ],
   "source": [
    "lst1=[]\n",
    "\n",
    "for n in range(10,21):\n",
    "    if n%2==0:\n",
    "        lst1.append(n*10)\n",
    "\n",
    "for n in range(10,21):\n",
    "    if n%3==0:\n",
    "        lst1.append(n*100)\n",
    "\n",
    "#Now, let's see the list of all these numbers.\n",
    "\n",
    "print(lst1)\n",
    "\n",
    "print('----------')\n",
    "\n",
    "#We count them by len() and find the sum by sum():\n",
    "\n",
    "print('(a) There are {} elements in lst.'.format(len(lst1)))\n",
    "\n",
    "print('(b) The sum of all elements in lst is {}.'.format(sum(lst1)))\n"
   ]
  },
  {
   "cell_type": "markdown",
   "metadata": {},
   "source": [
    "In the code above, we used two for loops since two conditions were given. So, the computer performs the first one, add items to the list, then do the second one. The list is constructed accordingly.\n",
    "\n",
    "Instead of using two for loops, we could do this with one for loop. However, we have to use two if statements as two conditions are given separately. Please see the remark below to see what happens if we use elif instead of if. \n",
    "\n",
    "In addition, this will produce a (differently ordered) list since the for loop runs through 10 to 21 one by one."
   ]
  },
  {
   "cell_type": "code",
   "execution_count": 9,
   "metadata": {},
   "outputs": [
    {
     "name": "stdout",
     "output_type": "stream",
     "text": [
      "[100, 120, 1200, 140, 1500, 160, 180, 1800, 200]\n",
      "----------\n",
      "(a) There are 9 elements in lst.\n",
      "(b) The sum of all elements in lst is 5400.\n"
     ]
    }
   ],
   "source": [
    "lst2=[]\n",
    "\n",
    "for n in range(10,21):\n",
    "    if n%2==0:\n",
    "        lst2.append(n*10)\n",
    "    if n%3==0:\n",
    "        lst2.append(n*100)\n",
    "\n",
    "#Now, let's see the list of all these numbers.\n",
    "\n",
    "print(lst2)\n",
    "\n",
    "print('----------')\n",
    "\n",
    "#We count them by len() and find the sum by sum():\n",
    "\n",
    "print('(a) There are {} elements in lst.'.format(len(lst2)))\n",
    "\n",
    "print('(b) The sum of all elements in lst is {}.'.format(sum(lst2)))\n"
   ]
  },
  {
   "cell_type": "markdown",
   "metadata": {},
   "source": [
    "## Remark 1: \n",
    "\n",
    "(1) Note that in the code above, we used two if statements in the for statement. It was because of the instructions given. In addition, note that for loop runs one by one. Therefore, since 12 is divisible by 2 and 3, we have 120 (because it was divisible by 2) and 1200 (because it was divisible by 3). Since there are two if statements, we see both results when it runs 3.\n",
    "\n",
    "However, if you use elif instead of if, it will skip the second part (with elif) since the first portion of the code is true. Therefore, the answer would be incorrect. Please see the code below:\n",
    "\n",
    "(2) In addition, note that the computer does not perform this in the way given in the statement. Since the code goes through the list one by one, we see 1500 (a result of the second statement given) added in the code when it runs 15."
   ]
  },
  {
   "cell_type": "code",
   "execution_count": 17,
   "metadata": {},
   "outputs": [
    {
     "name": "stdout",
     "output_type": "stream",
     "text": [
      "[100, 120, 140, 1500, 160, 180, 200]\n"
     ]
    }
   ],
   "source": [
    "lst_with_elif=[]\n",
    "\n",
    "for n in range(10,21):\n",
    "    if n%2==0:\n",
    "        lst_with_elif.append(n*10)\n",
    "    elif n%3==0:\n",
    "        lst_with_elif.append(n*100)\n",
    "\n",
    "print(lst_with_elif)\n"
   ]
  },
  {
   "cell_type": "markdown",
   "metadata": {},
   "source": [
    "## Remark 2:\n",
    "\n",
    "Let's look at how computer understands lists that we found:"
   ]
  },
  {
   "cell_type": "code",
   "execution_count": 18,
   "metadata": {},
   "outputs": [
    {
     "name": "stdout",
     "output_type": "stream",
     "text": [
      "This is the first list: [100, 120, 140, 160, 180, 200, 1200, 1500, 1800]\n",
      "This is the second list: [100, 120, 1200, 140, 1500, 160, 180, 1800, 200]\n",
      "----------\n",
      "False\n"
     ]
    }
   ],
   "source": [
    "print('This is the first list: {}'.format(lst1))\n",
    "print('This is the second list: {}'.format(lst2))\n",
    "\n",
    "print('----------')\n",
    "\n",
    "print(lst1==lst2)\n"
   ]
  },
  {
   "cell_type": "markdown",
   "metadata": {},
   "source": [
    "As you can see, these two lists are different to the computer even though they contain the same elements. Since lists are ordered, computer understands that these are two different lists. That's why the check condition returns False.\n",
    "\n",
    "If you would like to know if two lists have the same elements, turn them into sets and check the condition. Since sets are unordered unlike lists, it will print True confirming that two lists indeed have the same elements."
   ]
  },
  {
   "cell_type": "code",
   "execution_count": 19,
   "metadata": {},
   "outputs": [
    {
     "name": "stdout",
     "output_type": "stream",
     "text": [
      "This is the first set: {160, 100, 200, 1800, 140, 1200, 180, 120, 1500}\n",
      "This is the second set: {160, 100, 1800, 200, 140, 1200, 180, 120, 1500}\n",
      "----------\n",
      "True\n"
     ]
    }
   ],
   "source": [
    "set1=set(lst1)\n",
    "set2=set(lst2)\n",
    "\n",
    "print('This is the first set: {}'.format(set1))\n",
    "print('This is the second set: {}'.format(set2))\n",
    "\n",
    "print('----------')\n",
    "\n",
    "print(set1==set2)\n"
   ]
  },
  {
   "cell_type": "markdown",
   "metadata": {},
   "source": [
    "### List Comprehensions\n",
    "\n",
    "Here, let's look at an effective way of creating new lists from old ones. Let's say we want to add 5 to each element of the list\n",
    "lst=[1,2,3,4,5]. Then we could do it by using list comperehsions. \n",
    "\n",
    "In the same way, we could create a new tuple by using tuple(); a new set by using set() or a new dictionary by using dict(). For dictionaries, we have to modify the code a little bit."
   ]
  },
  {
   "cell_type": "code",
   "execution_count": 2,
   "metadata": {},
   "outputs": [
    {
     "name": "stdout",
     "output_type": "stream",
     "text": [
      "[11, 12, 13, 14, 15]\n",
      "[11, 12, 13, 14, 15]\n",
      "(11, 12, 13, 14, 15)\n",
      "{11, 12, 13, 14, 15}\n",
      "{1: 11, 2: 12, 3: 13, 4: 14, 5: 15}\n"
     ]
    }
   ],
   "source": [
    "lst=[1,2,3,4,5]\n",
    "\n",
    "'''A new list from an old one:'''\n",
    "new_lst=[x+10 for x in lst]\n",
    "print(new_lst)\n",
    "\n",
    "new_lst2=list(x+10 for x in lst)\n",
    "print(new_lst2)\n",
    "\n",
    "'''A new tuple from a given list'''\n",
    "new_tuple=tuple(x+10 for x in lst)\n",
    "print(new_tuple)\n",
    "\n",
    "'''A new set from a given list'''\n",
    "new_set=set(x+10 for x in lst)\n",
    "print(new_set)\n",
    "\n",
    "'''A new dictionary from a given list. We have to do this in a different way since dictionaries \n",
    "have key, value pairs. So, we have to define keys as well. Notice the difference in the code below:'''\n",
    "new_dict=dict((x, x+10) for x in lst)\n",
    "\n",
    "print(new_dict)\n"
   ]
  },
  {
   "cell_type": "code",
   "execution_count": 3,
   "metadata": {},
   "outputs": [
    {
     "name": "stdout",
     "output_type": "stream",
     "text": [
      "['key 1', 'key 2']\n",
      "['apple', 'oranges']\n"
     ]
    }
   ],
   "source": [
    "dict1={'key 1':'apple','key 2':'oranges'}\n",
    "\n",
    "'''Let's say, we want to create two lists, one for keys of dict1, another for values of dict1. '''\n",
    "\n",
    "#We first create two empty lists:\n",
    "keys_list=[]\n",
    "values_list=[]\n",
    "\n",
    "#Now, let's iterate over dict1.items() and get the elements we want:\n",
    "for k, v in dict1.items():\n",
    "    keys_list.append(k)\n",
    "    values_list.append(v)\n",
    "\n",
    "print(keys_list)\n",
    "\n",
    "print(values_list)\n"
   ]
  },
  {
   "cell_type": "markdown",
   "metadata": {},
   "source": [
    "## While Statements\n",
    "\n",
    "A while statement runs if the statement is True and terminates when the statement becomes False. So, we need to clearly define when the loop starts, how it should be modified and when it would stop.\n",
    "\n",
    "For a complete coverage, you may want to look at the documentation at\n",
    "https://docs.python.org/3/reference/compound_stmts.html#the-while-statement"
   ]
  },
  {
   "cell_type": "code",
   "execution_count": 4,
   "metadata": {},
   "outputs": [
    {
     "name": "stdout",
     "output_type": "stream",
     "text": [
      "9\n",
      "8\n",
      "7\n",
      "6\n",
      "5\n"
     ]
    }
   ],
   "source": [
    "# the following code first print(x), then reduce it by 1 and if x<5 it terminates. If we don't have a clear expression of\n",
    "#how it goes (like reducing by 1) and when it stops, it would run infinitely many times.\n",
    "\n",
    "lst=[1,2,3,4,5,6,7,8,9,10]\n",
    "\n",
    "x=9 #you have to give a starting point. If this number is not in lst, the code doesn't start becase of the while statement.\n",
    "\n",
    "while x in lst: \n",
    "    print(x) \n",
    "    x=x-1\n",
    "    if x<5:\n",
    "        break\n",
    "        \n",
    "        \n",
    "    "
   ]
  },
  {
   "cell_type": "code",
   "execution_count": null,
   "metadata": {},
   "outputs": [],
   "source": []
  }
 ],
 "metadata": {
  "kernelspec": {
   "display_name": "Python 3",
   "language": "python",
   "name": "python3"
  },
  "language_info": {
   "codemirror_mode": {
    "name": "ipython",
    "version": 3
   },
   "file_extension": ".py",
   "mimetype": "text/x-python",
   "name": "python",
   "nbconvert_exporter": "python",
   "pygments_lexer": "ipython3",
   "version": "3.8.8"
  }
 },
 "nbformat": 4,
 "nbformat_minor": 2
}
