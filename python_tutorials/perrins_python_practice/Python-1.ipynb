{
 "cells": [
  {
   "cell_type": "markdown",
   "metadata": {},
   "source": [
    "# Basics of Python - Part 1"
   ]
  },
  {
   "cell_type": "markdown",
   "metadata": {},
   "source": [
    "In this part of the tutorial, we will see some basic data types and some basic operations using Python Language. These are very important to know because it will help you to identify some basic operations using these. So, please get yourself familiar with these. \n",
    "\n",
    "What I will cover below are far from being complete. However, it is a good starting point for beginners, and a good refreshing tutorial for students who already know the language. \n",
    "\n",
    "As with any language (human or computer), there is always more to learn. So, please don't be shy and ask about the topics that you are confused/don't understand. If you want a comprehensive coverage, you could always check the documentation of the Python language at https://docs.python.org/3/ or https://docs.python.org/2/library/index.html. If that seems too much, or you want to get help on a specific topic or on your code, you may want to visit https://stackoverflow.com/ and ask your questions. Of course, you could Google it and choose another online tutorial or article that is best for your needs. "
   ]
  },
  {
   "cell_type": "code",
   "execution_count": 1,
   "metadata": {},
   "outputs": [
    {
     "data": {
      "text/plain": [
       "'As you can see from above, using # for writing long comments would be a tedious and time consuming task.\\nSo, instead of commenting out every line with #, you could put them (i.e., your comment or part of your code) between \\ntriple quotes (like this paragraph) so that it becomes easier and more readable.'"
      ]
     },
     "execution_count": 1,
     "metadata": {},
     "output_type": "execute_result"
    }
   ],
   "source": [
    "#First of all, to write a comment in Python, we use # symbol. This does not interfere with the other code that\n",
    "#we are writing and running. These are extremely useful to make notes for your future self or for others so that\n",
    "#you or they clearly understand your code and your notes about your code.\n",
    "\n",
    "'''As you can see from above, using # for writing long comments would be a tedious and time consuming task.\n",
    "So, instead of commenting out every line with #, you could put them (i.e., your comment or part of your code) between \n",
    "triple quotes (like this paragraph) so that it becomes easier and more readable.'''\n"
   ]
  },
  {
   "cell_type": "code",
   "execution_count": 3,
   "metadata": {},
   "outputs": [
    {
     "data": {
      "text/plain": [
       "'----'"
      ]
     },
     "execution_count": 3,
     "metadata": {},
     "output_type": "execute_result"
    }
   ],
   "source": [
    "'''Sometimes, I will ask you to uncomment a line of code to see what it is more clearly. Uncomment means simply\n",
    "remove # symbol at the beginning of the code or remove triple quotes entirely.'''\n",
    "\"----\"\n",
    "\n",
    "#\"Uncomment this line and shift+enter and see what happens.\"\n"
   ]
  },
  {
   "cell_type": "markdown",
   "metadata": {},
   "source": [
    "## Data Types\n",
    "\n",
    "Knowing type of your data is very important because remember this is how you communicate with the computer. Some of the tools that you use will depend on the type of the data.  \n",
    "\n",
    "In your code, if you want to know the type of something, you could always check it by writing type(). Let's practice some of them. If you want to learn about all available data types, you could visit https://docs.python.org/2/library/types.html. \n"
   ]
  },
  {
   "cell_type": "code",
   "execution_count": 4,
   "metadata": {},
   "outputs": [
    {
     "name": "stdout",
     "output_type": "stream",
     "text": [
      "2\n",
      "<class 'int'>\n",
      "2.0\n",
      "<class 'float'>\n",
      "2\n",
      "<class 'str'>\n",
      "2\n",
      "<class 'str'>\n",
      "True\n",
      "<class 'bool'>\n"
     ]
    }
   ],
   "source": [
    "'''Below, you will see a different way of writing the same thing, number 2. Depending on the way that you write, \n",
    "it becomes a different thing in Python. This might be extremely useful (and fun) and you could even get very \n",
    "creative this way. Later, I will give an example about this but for now let's focus on the basics.'''\n",
    "\n",
    "#Integers\n",
    "print(2)\n",
    "print(type(2))\n",
    "\n",
    "#Floats\n",
    "print(2.0)\n",
    "print(type(2.0))\n",
    "\n",
    "#Strings\n",
    "print('2')\n",
    "print(type('2'))\n",
    "\n",
    "#Strings can also be expressed with \"\"\n",
    "print(\"2\")\n",
    "print(type(\"2\"))\n",
    "\n",
    "#Boolen type, True or False\n",
    "print(True)\n",
    "print(type(True))\n"
   ]
  },
  {
   "cell_type": "markdown",
   "metadata": {},
   "source": [
    "Knowing the type would be useful when you need to convert the type of numbers, as well. If you want to convert an integer to a string, simply use str(), integer to a float, use float() etc. "
   ]
  },
  {
   "cell_type": "code",
   "execution_count": 4,
   "metadata": {},
   "outputs": [
    {
     "name": "stdout",
     "output_type": "stream",
     "text": [
      "2\n",
      "<class 'int'>\n",
      "2\n",
      "<class 'str'>\n",
      "1\n"
     ]
    }
   ],
   "source": [
    "#Integer 2\n",
    "print(2)\n",
    "print(type(2))\n",
    "\n",
    "#Let's convert it into a string and look at its type.\n",
    "print(str(2))\n",
    "print(type(str(2)))\n",
    "\n",
    "#Let's convert float 1.23 to integer type. It will print only the part before dot.\n",
    "print(int(1.23))"
   ]
  },
  {
   "cell_type": "markdown",
   "metadata": {},
   "source": [
    "## Creating Outputs\n",
    "\n",
    "Sometimes, we want to express the output in a nice way with sentences or words. I will explain some of the common ways below."
   ]
  },
  {
   "cell_type": "code",
   "execution_count": 5,
   "metadata": {},
   "outputs": [
    {
     "name": "stdout",
     "output_type": "stream",
     "text": [
      "This is Sentence 1. This is Sentence 2.\n",
      "This is Sentence 1.This is Sentence 2.\n",
      "This is Sentence 1. This is Sentence 2.\n",
      "This is Sentence 1. This is Sentence 2.\n",
      "This is Sentence 1. This is Sentence 2.\n"
     ]
    }
   ],
   "source": [
    "#You may use comma to give two strings, one by one. However, that would create a tuple and you may not want that -- we \n",
    "#will see tuples later.\n",
    "print('This is Sentence 1.', 'This is Sentence 2.')\n",
    "\n",
    "#You may combine strings with + symbol; however, that would omit the space between the two as in this second output.\n",
    "print('This is Sentence 1.'+'This is Sentence 2.')\n",
    "\n",
    "#To have the space, you have to include it with either one of the strings.\n",
    "print('This is Sentence 1.'+' This is Sentence 2.')\n",
    "\n",
    "#If you want to combine strings with integers or floats, you should first change their type to str() so that\n",
    "#you could combine them with strings in one of the ways explained above. If you don't convert them into\n",
    "#strings, you will get a TypeError as you are trying to add two different things. \n",
    "#print('This is Sentence '+ 1+'.'+' This is Sentence '+ 2+'.') # this will give you an error.\n",
    "print('This is Sentence '+ str(1)+'.'+' This is Sentence '+ str(2)+'.') # this is the correct way of writing it.\n",
    "\n",
    "#There is a very convenient way instead of dealing with all these. You could simply use placeholders {} inside the string\n",
    "#and you can put numbers or functions in .format() at the end of the string.\n",
    "\n",
    "print('This is Sentence {}. This is Sentence {}.'.format(1,2))"
   ]
  },
  {
   "cell_type": "markdown",
   "metadata": {},
   "source": [
    "From now on, I will be using .format(), to create nice outputs."
   ]
  },
  {
   "cell_type": "markdown",
   "metadata": {},
   "source": [
    "## Assigning Values to Variables\n",
    "\n",
    "In Python, we use = (equal) symbol for assigning values to variables. For example, if we set course=195, whenever we type course, it will use its value, which is 195. By the way, after assigning variables, we need to type print() to see the result. "
   ]
  },
  {
   "cell_type": "code",
   "execution_count": 6,
   "metadata": {},
   "outputs": [
    {
     "data": {
      "text/plain": [
       "195"
      ]
     },
     "execution_count": 6,
     "metadata": {},
     "output_type": "execute_result"
    }
   ],
   "source": [
    "#Define a new variable, course.\n",
    "course=195\n",
    "\n",
    "#create the output\n",
    "course"
   ]
  },
  {
   "cell_type": "markdown",
   "metadata": {},
   "source": [
    "Now, you can use $course$ in math operations and it will be substituting 195 as for its value. For example, course+1 will give 196 as the result."
   ]
  },
  {
   "cell_type": "code",
   "execution_count": 7,
   "metadata": {},
   "outputs": [
    {
     "data": {
      "text/plain": [
       "196"
      ]
     },
     "execution_count": 7,
     "metadata": {},
     "output_type": "execute_result"
    }
   ],
   "source": [
    "#Find the sum of course and 1.\n",
    "course+1"
   ]
  },
  {
   "cell_type": "markdown",
   "metadata": {},
   "source": [
    "\n",
    "Remember, this is a way of communicating with the computer. If you write something that you haven't defined, it will give you a NameError, basically telling you that you haven't defined that name, yet. So, consider Error codes as your friends: It just means that the computer didn't understand what you are typing. This could be a great learning opportunity.  \n",
    "\n",
    "Let's practice this below:"
   ]
  },
  {
   "cell_type": "code",
   "execution_count": 8,
   "metadata": {},
   "outputs": [
    {
     "data": {
      "text/plain": [
       "' Write your name below this code and run the cell. Read the Error Code completely and \\nunderstand why it is giving you this error code.'"
      ]
     },
     "execution_count": 8,
     "metadata": {},
     "output_type": "execute_result"
    }
   ],
   "source": [
    "''' Write your name below this code and run the cell. Read the Error Code completely and \n",
    "understand why it is giving you this error code.'''"
   ]
  },
  {
   "cell_type": "markdown",
   "metadata": {},
   "source": [
    "## Some important rules in choosing names in Python\n",
    "\n",
    "Uppercase or lowercase letters are different in Python.\n"
   ]
  },
  {
   "cell_type": "code",
   "execution_count": 9,
   "metadata": {},
   "outputs": [
    {
     "name": "stdout",
     "output_type": "stream",
     "text": [
      "195\n"
     ]
    }
   ],
   "source": [
    "course=195  # starts with lowercase letter 'c'. \n",
    "\n",
    "#Course # will give you a NameError\n",
    "\n",
    "print(course)"
   ]
  },
  {
   "cell_type": "markdown",
   "metadata": {},
   "source": [
    "\n",
    "Help your future self and/or other people who would read your code and choose names that could be clearly understood later. For example, let's consider a simple problem: \n",
    "\n",
    "\"You went to the grocery store and bought three apples and two oranges. How many fruits did you buy?\"\n",
    "\n",
    "For this problem, you could set x=3 and y=2 and you would compute the total as x+y. However, if you set apples=3 and oranges=2, the problem would be much clearer.\n"
   ]
  },
  {
   "cell_type": "code",
   "execution_count": 10,
   "metadata": {},
   "outputs": [
    {
     "data": {
      "text/plain": [
       "'I have 3 apples and 2 oranges.'"
      ]
     },
     "execution_count": 10,
     "metadata": {},
     "output_type": "execute_result"
    }
   ],
   "source": [
    "# Define new variables apples and oranges below and find their total. Write your code below.\n",
    "apples=3\n",
    "oranges=2\n",
    "\n",
    "\"I have {} apples and {} oranges.\".format(apples,oranges)"
   ]
  },
  {
   "cell_type": "markdown",
   "metadata": {},
   "source": [
    "If you start with a number, it will give you a SyntaxError. However, you can use numbers with underscore _ or with the letters. For example, 1course is not a valid code while course1 and course_1 would be valid choices."
   ]
  },
  {
   "cell_type": "code",
   "execution_count": 12,
   "metadata": {},
   "outputs": [
    {
     "data": {
      "text/plain": [
       "195"
      ]
     },
     "execution_count": 12,
     "metadata": {},
     "output_type": "execute_result"
    }
   ],
   "source": [
    "#Uncomment the line below and see it yourself.\n",
    "#1course\n",
    "\n",
    "course1=195\n",
    "course_2=196\n",
    "\n",
    "course1\n",
    "\n",
    "#Uncomment below to see course_2 value.\n",
    "course1"
   ]
  },
  {
   "cell_type": "markdown",
   "metadata": {},
   "source": [
    "Try to be consistent in your typing that produces a clean and easily readable code. For example, if you are assigning three numbers, use number1, number2, number3 or number_1, number_2,number_3. \n",
    "\n",
    "Writing code is a form of art and everyone has their own style. After some time, you will find yours and you will be proud of the code that you type."
   ]
  },
  {
   "cell_type": "markdown",
   "metadata": {},
   "source": [
    "### Reserved Keywords\n",
    "\n",
    "There are many special characters, phrases in Python that you use to define different things. So, when you use those wors/phrases, the computer will give a SyntaxError. For example, as, not, not in, is, is not, if, elif, else, while, except ... are to name a few. This list is far from being exclusive. You may want to check the documentation at https://docs.python.org/2.5/ref/keywords.html for these reserved keywords. On a side note, if you mix them with numbers, they will be ok. \n",
    "\n",
    "In addition, if you use special characters (for example !,@,#,$ and so on...) you will get a SyntaxError, as well."
   ]
  },
  {
   "cell_type": "code",
   "execution_count": 14,
   "metadata": {},
   "outputs": [
    {
     "name": "stdout",
     "output_type": "stream",
     "text": [
      "2\n"
     ]
    }
   ],
   "source": [
    "#Uncomment below and see what happens. Don't forget to comment again after you see it.\n",
    "#for=2\n",
    "\n",
    "#However, you could use numbers with special characters without any trouble.\n",
    "\n",
    "for1=2\n",
    "\n",
    "print(for1)"
   ]
  },
  {
   "cell_type": "markdown",
   "metadata": {},
   "source": [
    "Other assignment operators are given after arithmetic operators."
   ]
  },
  {
   "cell_type": "markdown",
   "metadata": {},
   "source": [
    "## Arithmetic Operators\n",
    "\n",
    "Simple arithmetic operations are addition, substraction, products and division. In addition, we will also be exploring some cool operations as well. "
   ]
  },
  {
   "cell_type": "code",
   "execution_count": 13,
   "metadata": {},
   "outputs": [
    {
     "name": "stdout",
     "output_type": "stream",
     "text": [
      "8\n",
      "15\n",
      "243\n",
      "2.3333333333333335\n",
      "2\n",
      "1\n"
     ]
    }
   ],
   "source": [
    "#For addition and subtraction, use + and - symbols. \n",
    "print(3+5)\n",
    "\n",
    "#For multiplication, use * symbol.\n",
    "print(3*5)\n",
    "\n",
    "#To take a power, use ** symbol.\n",
    "print(3**5)\n",
    "\n",
    "#For divison, use / symbol.\n",
    "print(7/3)\n",
    "\n",
    "#As for floor division, i.e., integer part when you divide, use //.\n",
    "print(7//3)\n",
    "\n",
    "#To find the remainder after division (i.e., modulus), use %.\n",
    "print(7%3)\n"
   ]
  },
  {
   "cell_type": "markdown",
   "metadata": {},
   "source": [
    "### Some assignment operators\n",
    "\n",
    "You can use +=, -=, *=, /=, **=, //= and %= for addition, substraction, multiplication, division, taking exponents, floor division and modulus, respectively. For example, if you define x=2, then x+=2 is equivalent to x+2. The other assignment operators work in a similar way. Practice this below:"
   ]
  },
  {
   "cell_type": "code",
   "execution_count": 15,
   "metadata": {},
   "outputs": [
    {
     "data": {
      "text/plain": [
       "27"
      ]
     },
     "execution_count": 15,
     "metadata": {},
     "output_type": "execute_result"
    }
   ],
   "source": [
    "#Define a new variable, x, and assign the value 2.\n",
    "x=2\n",
    "\n",
    "# Now, by using +=, add 3 to x.\n",
    "x+=3\n",
    "\n",
    "#Print x.\n",
    "x\n",
    "\n",
    "##################################################\n",
    "#Your turn:\n",
    "\n",
    "#Define a new variable, y, and assign the value 3. \n",
    "y=3\n",
    "\n",
    "#Compute 3rd power of y by using the exponent assignment operator **=. \n",
    "y**=3\n",
    "#Print y.\n",
    "y"
   ]
  },
  {
   "cell_type": "markdown",
   "metadata": {},
   "source": [
    "## Comparison Operators"
   ]
  },
  {
   "cell_type": "markdown",
   "metadata": {},
   "source": [
    "We can also compare two quantities and use computers to check whether the statements are true or not. The results would be the one of two Boolen statements, <i>True</i> or <i>False</i>.\n",
    "\n",
    "\n"
   ]
  },
  {
   "cell_type": "code",
   "execution_count": 15,
   "metadata": {
    "scrolled": true
   },
   "outputs": [
    {
     "name": "stdout",
     "output_type": "stream",
     "text": [
      "False\n",
      "True\n",
      "True\n",
      "True\n",
      "False\n",
      "False\n"
     ]
    }
   ],
   "source": [
    "#We use == to check whether two quantities are equal or not.\n",
    "print(2==3)\n",
    "\n",
    "#We use != to check whether two quantities are not equal to each other.\n",
    "print(2!=3)\n",
    "\n",
    "#We use < for less than, <= for less than or equal to, > for greater than and >= for greater than or equal to symbols. \n",
    "print(2<3)\n",
    "print(2<=3)\n",
    "print(2>3)\n",
    "print(2>=3)"
   ]
  }
 ],
 "metadata": {
  "kernelspec": {
   "display_name": "Python 3",
   "language": "python",
   "name": "python3"
  },
  "language_info": {
   "codemirror_mode": {
    "name": "ipython",
    "version": 3
   },
   "file_extension": ".py",
   "mimetype": "text/x-python",
   "name": "python",
   "nbconvert_exporter": "python",
   "pygments_lexer": "ipython3",
   "version": "3.8.8"
  }
 },
 "nbformat": 4,
 "nbformat_minor": 2
}
