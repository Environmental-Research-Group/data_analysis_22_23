{
 "cells": [
  {
   "cell_type": "markdown",
   "metadata": {},
   "source": [
    "# Basics of Python - Part 2\n",
    "\n",
    "In this part of the tutorial, we will look at containers that stores information in Python. We will cover lists, tuples, sets and dictionaries here. They could be mutable or immutable; unordered or ordered. \n",
    "\n",
    "First of all, we should know the difference between mutable and immutable objects. A mutable object means that they can be changed once created. Lists, sets are mutable objects;  you can add new items or remove items from it. \n",
    "\n",
    "On the other hand, immutable objects cannot be changed once created. Strings, numbers are tuples are immutable objects.\n"
   ]
  },
  {
   "cell_type": "markdown",
   "metadata": {},
   "source": [
    "## 1. Lists\n",
    "\n",
    "Lists are included in Sequence Types in Python and they are mutable. Lists are one of my favorite objects in Python; I use them a lot to solve many mathematical problems, as we will see in an example below. We create lists with square brackets, [ ]. Lists are mutable, ordered objects. Ordered means they store elements in an ordered way (i.e., each element has a position) and you can look at the specific range of elements in a set if you like. I should also mention that in Python, the indexing start from 0 meaning that the position of the first item is always 0. \n",
    "\n",
    "Tuples are immutable, so their content cannot be changed once created. That would be very useful in some applications, as well. \n",
    "\n",
    "Please refer to https://docs.python.org/2/library/stdtypes.html#typesseq for a more comprehensive coverage.\n"
   ]
  },
  {
   "cell_type": "code",
   "execution_count": 9,
   "metadata": {},
   "outputs": [
    {
     "name": "stdout",
     "output_type": "stream",
     "text": [
      "[]\n",
      "[]\n",
      "['a', 'b', 'c', 'd']\n",
      "There are 4 elements in my_list.\n",
      "['a', 'b', 'c', 'd', 'e']\n",
      "['a', 'b', 'd', 'e']\n",
      "['a', 'this is new instead of b', 'd', 'e']\n"
     ]
    }
   ],
   "source": [
    "#you could create an empty list by typing [] or list().\n",
    "lst1=[]\n",
    "lst2=list()\n",
    "\n",
    "print(lst1)\n",
    "print(lst2)\n",
    "\n",
    "\n",
    "#Let's define a list with the name my_list.\n",
    "my_list=[\"a\", \"b\", \"c\", \"d\"]\n",
    "\n",
    "#print it to see the contents.\n",
    "print(my_list)\n",
    "\n",
    "#There are 4 elements in the set my_list. You can get that information by len() function.\n",
    "print(\"There are {} elements in my_list.\".format(len(my_list)))\n",
    "\n",
    "#to add a new element to the end of this list use .append() at the end of my_list\n",
    "my_list.append(\"e\")\n",
    "\n",
    "print(my_list)\n",
    "\n",
    "#now lets remove the third element from this list:\n",
    "my_list.pop(2)   # recall that ordering starts with 0 in Python.\n",
    "\n",
    "#now, my_list doesn't have that element since it is removed.\n",
    "print(my_list)\n",
    "\n",
    "#to replace an element in this list, assign a new value to that particular element.\n",
    "#Let's change the second element \"b\" assign a new value \"this is new instead of b\"\n",
    "my_list[1]=\"this is new instead of b\"\n",
    "\n",
    "print(my_list)"
   ]
  },
  {
   "cell_type": "markdown",
   "metadata": {},
   "source": [
    "### Accessing elements of list and slicing"
   ]
  },
  {
   "cell_type": "code",
   "execution_count": 3,
   "metadata": {
    "scrolled": true
   },
   "outputs": [
    {
     "name": "stdout",
     "output_type": "stream",
     "text": [
      "a\n",
      "The third element of this list is c\n",
      "---------------------------------------\n",
      "j\n",
      "['c', 'd']\n",
      "['a', 'b', 'c']\n",
      "['d', 'e', 'f', 'g', 'h', 'i', 'j']\n",
      "['d', 'f', 'h', 'j']\n"
     ]
    }
   ],
   "source": [
    "my_list=[\"a\", \"b\", \"c\", \"d\", \"e\", \"f\", \"g\", \"h\", \"i\", \"j\"]\n",
    "\n",
    "#To get the element in a given specific position we again use square brackets []. \n",
    "# For example, the first item in this list can be obtained by a[0].\n",
    "print(my_list[0])\n",
    "print(\"The third element of this list is {}\".format(my_list[2]))\n",
    "\n",
    "print(\"---------------------------------------\")\n",
    "\n",
    "#To get the last element, you could use [-1]\n",
    "print(my_list[-1])\n",
    "\n",
    "#You could get elements that are in a particular range.\n",
    "print(my_list[2:4]) #this would print elements starting with position 2 but not including the element in position 4.\n",
    "\n",
    "#We could slice from the beginning, and taking the first three elements...\n",
    "print(my_list[:3])\n",
    "\n",
    "#... or get all elements starting with position number 3\n",
    "print(my_list[3:])\n",
    "\n",
    "#we could get all elements in a particular pattern:\n",
    "print(my_list[3::2]) #start from the 3rd element, run to the end, by skipping one element.  \n"
   ]
  },
  {
   "cell_type": "code",
   "execution_count": 10,
   "metadata": {},
   "outputs": [
    {
     "name": "stdout",
     "output_type": "stream",
     "text": [
      "2\n",
      "glasses\n",
      "computer\n",
      "[1, 2, 3, 4, 5, 6, 7, 8, 9, 10, 11, 12, 'x']\n",
      "[1, 2, 3, 4, 'We will we will rock you', 6, 7, 8, 9, 10, 11, 12, 'x']\n",
      "[4, 'We will we will rock you', 6, 7, 8, 9, 10, 11, 12, 'x']\n",
      "['pencil', 'pen', 'notebook']\n",
      "['We will we will rock you', 6, 7, 8]\n"
     ]
    }
   ],
   "source": [
    "#Practice what you learned with the following lists. Feel free to check whatever you like to understand lists better.\n",
    "\n",
    "lst=[\"pencil\",\"pen\",\"notebook\",\"book\",\"glasses\",\"computer\",\"eraser\"]\n",
    "\n",
    "my_list=[1,2,3,4,5,6,7,8,9,10,11,12]\n",
    "\n",
    "print(my_list[1])\n",
    "print(lst[4])\n",
    "print(lst[-2])\n",
    "my_list.append(\"x\")\n",
    "print(my_list)\n",
    "my_list[4]=\"We will we will rock you\"\n",
    "print(my_list)\n",
    "print(my_list[3::1])\n",
    "print(lst[:3])\n",
    "print(my_list[4:8])"
   ]
  },
  {
   "cell_type": "markdown",
   "metadata": {},
   "source": [
    "### Sorting elements in a list"
   ]
  },
  {
   "cell_type": "code",
   "execution_count": 14,
   "metadata": {},
   "outputs": [
    {
     "name": "stdout",
     "output_type": "stream",
     "text": [
      "[1, 2, 3, 4, 5]\n",
      "[5, 4, 3, 2, 1]\n",
      "------------------------------\n",
      "Given list is ['bananas', 'apples', 'oranges', 'apricots']\n",
      "The sorted list is ['apples', 'apricots', 'bananas', 'oranges']\n"
     ]
    }
   ],
   "source": [
    "#Let's consider the list below.\n",
    "lst=[2,1,3,5,4]\n",
    "\n",
    "#let's sort its elements. First of all, to be able to sort, all of them must be the same type.\n",
    "#Default is sorting it in an increasing order.\n",
    "print(sorted(lst))\n",
    "\n",
    "#if you want to sort it in a descending order, you should mention that.\n",
    "print(sorted(lst, reverse=True))\n",
    "\n",
    "print('------------------------------')\n",
    "\n",
    "#you could sort list of strings as well.\n",
    "lst2=['bananas', 'apples', 'oranges', 'apricots']\n",
    "\n",
    "print('Given list is {}'.format(lst2))\n",
    "print('The sorted list is {}'.format(sorted(lst2)))"
   ]
  },
  {
   "cell_type": "markdown",
   "metadata": {},
   "source": [
    "### List Comprehensions\n",
    "\n",
    "Another way of creating new lists by performing the same thing for every member of the list is done by list comprehensions. But for this, we need to know about for loops. Therefore, this will be given after for loops in the next tutorial."
   ]
  },
  {
   "cell_type": "markdown",
   "metadata": {},
   "source": [
    "## 2. Tuples\n",
    "\n",
    "Like lists, tuples are ordered objects. But unlike lists, they are immutable, i.e., they cannot be changed once created; adding new items or changing an item or removing items from it would create errors."
   ]
  },
  {
   "cell_type": "code",
   "execution_count": 14,
   "metadata": {},
   "outputs": [
    {
     "name": "stdout",
     "output_type": "stream",
     "text": [
      "('a', 'b', 'c', 'd', 'e')\n",
      "5\n",
      "The fourth item in my tuple is d.\n",
      "('b', 'c')\n",
      "----------------------------\n"
     ]
    }
   ],
   "source": [
    "#To create an empty tuple you can use tuple() or (). You could also turn a list into a tuple by using\n",
    "#tuple().\n",
    "lst=['a','b','c','d', 'e']\n",
    "my_tuple=tuple(lst)\n",
    "print(my_tuple)\n",
    "\n",
    "#length of tuple can be found by len()\n",
    "print(len(my_tuple))\n",
    "\n",
    "'''Like lists or strings, tuples support indexing or slicing.'''\n",
    "\n",
    "#You can access a specific item in the tuple:\n",
    "print(\"The fourth item in my tuple is {}.\".format(my_tuple[3]))\n",
    "\n",
    "#You can get a range of elements in the tuple:\n",
    "print(my_tuple[1:3]) #Note that item with position=3 is not included in the answer.\n",
    "\n",
    "\n",
    "'''Unlike lists, you cannot add a new element or replace an element in a tuple. This is due to the fact that\n",
    "tuples are immutable.'''\n",
    "\n",
    "print(\"----------------------------\")\n",
    "\n",
    "#If you try .append() you will get an AttributeError. Please uncomment below and see it for yourself.\n",
    "#my_tuple.append(3)\n",
    "\n",
    "#If you try to replace an element in a tuple, you will get a TypeError. Please uncomment below and see it for yourself.\n",
    "#my_tuple[1]='a'\n"
   ]
  },
  {
   "cell_type": "code",
   "execution_count": 6,
   "metadata": {},
   "outputs": [
    {
     "data": {
      "text/plain": [
       "1"
      ]
     },
     "execution_count": 6,
     "metadata": {},
     "output_type": "execute_result"
    }
   ],
   "source": [
    "#Tuple packing, unpacking\n",
    "#We could define two things by using tuples without using (), as below. This could be very useful when writing longer codes.\n",
    "\n",
    "x,y=1,2\n",
    "\n",
    "x"
   ]
  },
  {
   "cell_type": "markdown",
   "metadata": {},
   "source": [
    "## 3. Sets\n",
    "\n",
    "Unlike lists or tuples, sets are unordered collection of unique elements. However, they are mutable like lists. We use curly brackets { } for sets. Please look at https://docs.python.org/2/library/sets.html?highlight=set#module-sets for details."
   ]
  },
  {
   "cell_type": "code",
   "execution_count": 16,
   "metadata": {},
   "outputs": [
    {
     "name": "stdout",
     "output_type": "stream",
     "text": [
      "{'b', 'c', 'a', 'd'}\n",
      "4\n",
      "{'c', 'a', 'd'}\n"
     ]
    }
   ],
   "source": [
    "#We could create an empty set by using set() function. \n",
    "set1=set()\n",
    "\n",
    "#add new elements to set1.\n",
    "set1.add('a')\n",
    "set1.add('b')\n",
    "set1.add('c')\n",
    "set1.add('d')\n",
    "\n",
    "#As you can see from the output, the set is unordered unlike lists.\n",
    "print(set1)\n",
    "\n",
    "#length of a set can be found by len()\n",
    "print(len(set1))\n",
    "\n",
    "\n",
    "#remove an element from set1.\n",
    "set1.remove('b')\n",
    "\n",
    "print(set1)\n",
    "\n",
    "#Since they are unordered, they don't support indexing. If you want to access a particular position, it will give a TypeError.\n",
    "#Please uncomment and see it yourself.\n",
    "#print(set1[2])\n"
   ]
  },
  {
   "cell_type": "code",
   "execution_count": 8,
   "metadata": {},
   "outputs": [
    {
     "name": "stdout",
     "output_type": "stream",
     "text": [
      "False\n",
      "True\n",
      "True\n"
     ]
    }
   ],
   "source": [
    "set2={'a', 'b', 'c', 'd'}\n",
    "\n",
    "#test membership of an element:\n",
    "print(2 in set2)\n",
    "print('a' in set2)\n",
    "print(3 not in set2)"
   ]
  },
  {
   "cell_type": "code",
   "execution_count": 9,
   "metadata": {},
   "outputs": [
    {
     "name": "stdout",
     "output_type": "stream",
     "text": [
      "{1, 2, 3, 4, 5}\n",
      "[1, 2, 3, 4, 5]\n"
     ]
    }
   ],
   "source": [
    "#A cool way of using sets would be getting only distinct elements in a list.\n",
    "#Let's say, we have the following list but we want to know what the distinct numbers are in this list. \n",
    "lst=[1,2,3,4,2,3,4,5,4, 5, 5, 2, 1, 3]\n",
    "\n",
    "#So, we first create a set using this list. We simply use set() to do that.\n",
    "new_set=set(lst)\n",
    "\n",
    "#Then, the new set becomes\n",
    "print(new_set)\n",
    "\n",
    "#If we want to get back to a list, we use list() function.\n",
    "\n",
    "distinct_lst=list(new_set)\n",
    "\n",
    "print(distinct_lst)"
   ]
  },
  {
   "cell_type": "markdown",
   "metadata": {},
   "source": [
    "## 4. Dictionaries\n",
    "\n",
    "Sometimes, we may want to create a collection of elements where each item in this collection has a pair of elements; a key-value pair. Here, assign a particular value to each unique key. In this sense, dictionaries are mapping where each key is mapped to a a value. \n",
    "\n",
    "* To create a dictionary, we use curly brackets and write each pair like key:value and separate them with commas. \n",
    "* You cannot use mutable objects (lists, sets) for keys as they are 'unhashable' type. (If you do, it raises a TypeError: unhashable type: 'list')\n",
    "\n",
    "* Dictionaries are also unhashable and therefore you cannot use them as keys. \n",
    "\n",
    "* However, tuples, strings, numbers would be ok for keys. As for values, we don't have any restrictions.\n",
    "\n",
    "* Like lists, dictionaries are mutable objects. You can add or remove elements from a dictinary. \n",
    "\n",
    "Please refer to https://docs.python.org/2/library/stdtypes.html#dict for a more comprehensive coverage. \n"
   ]
  },
  {
   "cell_type": "code",
   "execution_count": 29,
   "metadata": {},
   "outputs": [
    {
     "name": "stdout",
     "output_type": "stream",
     "text": [
      "{'a': 195, (1, 2, 3): 'Chicago', 22: ['a', 'b', 'c']}\n",
      "3\n",
      "195\n",
      "---------------------\n",
      "{'apples': 1, 'bananas': 2, 'cherries': 3}\n",
      "{'apples': 1, 'bananas': 2, 'cherries': 3, 'oranges': 4}\n",
      "{'a': 'alpha', 'B': 'beta', (1, 2, 3): 'Alaska', 22: 'a,B,Alaska', 'Bravo': [1, 2, 3, 22]}\n",
      "alpha\n",
      "{'a': 'alpha', 'B': 'beta', (1, 2, 3): 'Alaska', 22: 'a,B,Alaska', 'Bravo': [1, 2, 3, 22], 'bananas': 2}\n",
      "dict_values(['alpha', 'beta', 'Alaska', 'a,B,Alaska', [1, 2, 3, 22], 2])\n",
      "dict_keys(['a', 'B', (1, 2, 3), 22, 'Bravo', 'bananas'])\n",
      "dict_items([('a', 'alpha'), ('B', 'beta'), ((1, 2, 3), 'Alaska'), (22, 'a,B,Alaska'), ('Bravo', [1, 2, 3, 22]), ('bananas', 2)])\n"
     ]
    }
   ],
   "source": [
    "#Ways of writing a dictionary:\n",
    "\n",
    "dict1={\"a\":195, (1,2,3):\"Chicago\", 22: ['a', 'b', 'c']}\n",
    "\n",
    "print(dict1)\n",
    "\n",
    "#length of a dictionary can be found by len()\n",
    "print(len(dict1))\n",
    "\n",
    "#You have to enter the key value to access a particular value associated with that key.\n",
    "print(dict1['a'])\n",
    "\n",
    "print('---------------------')\n",
    "#You could use the following way to write your dictionary:\n",
    "dict2=dict(apples=1, bananas=2, cherries=3)\n",
    "\n",
    "print(dict2)\n",
    "\n",
    "#to add a new key:value pair, you could use .get(key,value)\n",
    "dict2['oranges']=dict2.get('oranges',4)\n",
    "\n",
    "print(dict2)\n",
    "\n",
    "dict3={\"a\":\"alpha\", \"B\":\"beta\", (1,2,3):\"Alaska\", 22:\"a,B,Alaska\", \"Bravo\":[1,2,3,22]}\n",
    "print(dict3)\n",
    "\n",
    "print(dict3[\"a\"])\n",
    "dict3[\"bananas\"]=dict3.get(\"bananas\",2)\n",
    "print(dict3)\n",
    "print(dict3.values())\n",
    "print(dict3.keys())\n",
    "print(dict3.items())"
   ]
  },
  {
   "cell_type": "code",
   "execution_count": 20,
   "metadata": {},
   "outputs": [
    {
     "ename": "NameError",
     "evalue": "name 'dict1' is not defined",
     "output_type": "error",
     "traceback": [
      "\u001b[0;31m---------------------------------------------------------------------------\u001b[0m",
      "\u001b[0;31mNameError\u001b[0m                                 Traceback (most recent call last)",
      "\u001b[0;32m<ipython-input-20-51ffc744ef91>\u001b[0m in \u001b[0;36m<module>\u001b[0;34m\u001b[0m\n\u001b[1;32m      1\u001b[0m \u001b[0;31m#to get all the keys of a dictionary, use .keys()\u001b[0m\u001b[0;34m\u001b[0m\u001b[0;34m\u001b[0m\u001b[0;34m\u001b[0m\u001b[0m\n\u001b[0;32m----> 2\u001b[0;31m \u001b[0mprint\u001b[0m\u001b[0;34m(\u001b[0m\u001b[0mdict1\u001b[0m\u001b[0;34m.\u001b[0m\u001b[0mkeys\u001b[0m\u001b[0;34m(\u001b[0m\u001b[0;34m)\u001b[0m\u001b[0;34m)\u001b[0m\u001b[0;34m\u001b[0m\u001b[0;34m\u001b[0m\u001b[0m\n\u001b[0m\u001b[1;32m      3\u001b[0m \u001b[0;34m\u001b[0m\u001b[0m\n\u001b[1;32m      4\u001b[0m \u001b[0;31m#to get all the values of a dictionary, use .values()\u001b[0m\u001b[0;34m\u001b[0m\u001b[0;34m\u001b[0m\u001b[0;34m\u001b[0m\u001b[0m\n\u001b[1;32m      5\u001b[0m \u001b[0mprint\u001b[0m\u001b[0;34m(\u001b[0m\u001b[0mdict1\u001b[0m\u001b[0;34m.\u001b[0m\u001b[0mvalues\u001b[0m\u001b[0;34m(\u001b[0m\u001b[0;34m)\u001b[0m\u001b[0;34m)\u001b[0m\u001b[0;34m\u001b[0m\u001b[0;34m\u001b[0m\u001b[0m\n",
      "\u001b[0;31mNameError\u001b[0m: name 'dict1' is not defined"
     ]
    }
   ],
   "source": [
    "#to get all the keys of a dictionary, use .keys()\n",
    "print(dict1.keys())\n",
    "\n",
    "#to get all the values of a dictionary, use .values()\n",
    "print(dict1.values())\n",
    "\n",
    "#to get all the values of a dictionary, use .items()\n",
    "print(dict1.items())\n",
    "\n",
    "#Note that .items() lists each key:value pair as tuples. This gives us an access to reach to keys and values when we need it.\n"
   ]
  },
  {
   "cell_type": "markdown",
   "metadata": {},
   "source": [
    "## 5. Strings\n",
    "\n",
    "We already saw how we could use strings in Python to express words. However, they can also be considered as a Sequence type object as they also store information, i.e., characters. \n",
    "\n",
    "* Like lists, they are ordered and support indexing and slicing. Unlike lists, they are immutable, you cannot change them once created. \n",
    "\n",
    "* There are many string operations widely used in Data Science; if you are interested in this, you may want to check documentation for many useful things that you could use with strings. \n",
    "\n",
    "* We could solve many problems by turning one type of an object to another type of object in Python. It is very common to use these type of conversions when solving problems. In my opinion, this would be one of the new type of thinking that technology brings.\n"
   ]
  },
  {
   "cell_type": "code",
   "execution_count": 3,
   "metadata": {},
   "outputs": [
    {
     "name": "stdout",
     "output_type": "stream",
     "text": [
      "y\n",
      "Today\n",
      "d  buf yi'i\n"
     ]
    }
   ],
   "source": [
    "my_string=\"Today is a beautiful day, isn't it?\"\n",
    "\n",
    "#to get the 5th character, you could specify the position.\n",
    "print(my_string[4])\n",
    "\n",
    "#to get the first word, you specify the length by giving a range.\n",
    "print(my_string[0:5])   #Recall that 5th position character (i in this sentence) is not included.\n",
    "\n",
    "#Starting from the 2nd position, you could get every third character until the end of the sentence. \n",
    "print(my_string[2::3])\n"
   ]
  },
  {
   "cell_type": "code",
   "execution_count": 4,
   "metadata": {},
   "outputs": [
    {
     "name": "stdout",
     "output_type": "stream",
     "text": [
      "35\n"
     ]
    }
   ],
   "source": [
    "#Length of a string can be found by using len()\n",
    "print(len(my_string))\n"
   ]
  },
  {
   "cell_type": "markdown",
   "metadata": {},
   "source": [
    "Recall that once you use double quotes, every character would be a string type, including symbols and whitespaces. That is why the length of this string is 35. That is why there is a need of data cleaning in Data Science before you could work on a Data Science project. Typos or punctuations mean two different things to a computer.\n"
   ]
  },
  {
   "cell_type": "code",
   "execution_count": 6,
   "metadata": {},
   "outputs": [
    {
     "name": "stdout",
     "output_type": "stream",
     "text": [
      "False\n",
      "False\n",
      "False\n"
     ]
    }
   ],
   "source": [
    "\n",
    "x=\"Math 195\"\n",
    "y=\"Math195\"\n",
    "z=\"math 195\"\n",
    "\n",
    "print(x==y)\n",
    "print(x==z)\n",
    "print(y==z)\n"
   ]
  },
  {
   "cell_type": "markdown",
   "metadata": {},
   "source": [
    "As mentioned before, we could solve many math problems by turning one type of object into another one. For example, we could convert floats into integers, integers into strings etc. We could store objects in a list and then use some list methods to solve a problem. In a similar way, we could use tuples, sets or dictionaries, as well. \n",
    "\n",
    "Let's say we have a decimal number and we want to find sum of numbers that are beyond the decimal point. We could do this by using math or by using strings. I will show how we use it with strings. Try to do solve the same problem by using floats and/or integers."
   ]
  },
  {
   "cell_type": "code",
   "execution_count": 7,
   "metadata": {},
   "outputs": [
    {
     "name": "stdout",
     "output_type": "stream",
     "text": [
      "56\n",
      "<class 'str'>\n",
      "11\n",
      "<class 'int'>\n"
     ]
    }
   ],
   "source": [
    "number=1234.56\n",
    "\n",
    "#first we turn it into a string\n",
    "str_number=str(number)\n",
    "\n",
    "#then find decimals by considering the string from reverse.\n",
    "\n",
    "for i in range(0,len(str_number)):\n",
    "    decimal1=str_number[len(str_number)-2:len(str_number)-1]\n",
    "    decimal2=str_number[len(str_number)-1:len(str_number)]\n",
    "\n",
    "#Since each decimal is a string, when we add them up, it will print a string and adding means write\n",
    "#it side by side.\n",
    "\n",
    "string_addition=decimal1+decimal2\n",
    "print(string_addition)\n",
    "print(type(string_addition))\n",
    "\n",
    "#to find the sum, we have to convert each decimal back to the integers.\n",
    "\n",
    "sum_of_decimals=int(decimal1)+int(decimal2)\n",
    "\n",
    "print(sum_of_decimals)\n",
    "print(type(sum_of_decimals))\n"
   ]
  }
 ],
 "metadata": {
  "kernelspec": {
   "display_name": "Python 3",
   "language": "python",
   "name": "python3"
  },
  "language_info": {
   "codemirror_mode": {
    "name": "ipython",
    "version": 3
   },
   "file_extension": ".py",
   "mimetype": "text/x-python",
   "name": "python",
   "nbconvert_exporter": "python",
   "pygments_lexer": "ipython3",
   "version": "3.8.8"
  }
 },
 "nbformat": 4,
 "nbformat_minor": 2
}
