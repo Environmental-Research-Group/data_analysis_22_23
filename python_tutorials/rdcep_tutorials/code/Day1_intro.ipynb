{
 "cells": [
  {
   "cell_type": "markdown",
   "metadata": {
    "id": "Y8qR0YStvrca"
   },
   "source": [
    "# Day 1: Introduction to Programming"
   ]
  },
  {
   "cell_type": "markdown",
   "metadata": {},
   "source": [
    "# Goals for the day:\n",
    "\n",
    "- Outline goals for the bootcamp\n",
    "- Learn about what programming is, how its useful, and what languages to use for what purposes\n",
    "- Install/learn how to use the tools of the trade\n"
   ]
  },
  {
   "cell_type": "markdown",
   "metadata": {
    "id": "gYB7sD6lmhSG"
   },
   "source": [
    "# Instructions:\n",
    "\n",
    "### Step 1: Read this presentation, which explains what programming is, why it's useful, and the different applications you might encounter : [LINK](https://voices.uchicago.edu/nrtenergyandenvironment/files/2017/01/Copy-of-Day1-Introduction-to-Coding.pptx-1.pdf)\n",
    "\n",
    "### Step 2: Obtain lesson materials:\n",
    "- Download the files needed for this course by clicking [here] or by clicking the \"Download All Files\" link on the main page.\n",
    "- Create a folder called intro-python on your Desktop.\n",
    "- Move downloaded files to intro-python.\n",
    "- Unzip the files. You should see two folders called data and code in the intro-python directory on your Desktop.\n",
    "\n",
    "### Step 3: Read the pdf document titled 'READMEFIRST.pdf', which is located in the folder you just downloaded and will explain how to download a programming application to your computer.\n",
    "\n"
   ]
  },
  {
   "cell_type": "markdown",
   "metadata": {},
   "source": [
    "# How to use this course:\n",
    "\n",
    "Students: If you want to learn and master this material more quickly, it is recommended that you open a blank Jupyter notebook, open the Jupyter notebook for the day’s lesson in another window, and type out the code yourself while following along with the lesson. This will help you practice running the code and you will gain familiarity with the notation. You can also use the pdf version of the notebook, but there may be some cells that look different than they do in Jupyter Notebooks.\n",
    "\n",
    "At the beginning of each day's notebook, there will be a list of learning objectives as well as a list of functions learned. The list of functions does not have every function covered in each day, it is meant to be a summary of the most important functions. There is an additional, more comprehensive list of functions covered in each day, which can be found [here](https://voices.uchicago.edu/nrtenergyandenvironment/files/2017/01/Reference-Page.pdf) and under the document icon at the bottom of the main page.\n",
    "\n",
    "As you go through the lessons, there will be periodic 'check-ins' so you can measure your progress. It is recommended that you first try to answer the check-in question on your own without looking at the answer, and then check your work. \n",
    "\n",
    "Teachers: There are many additional resources located under the \"Resources for Instructors\" icon at the bottom of the main page.\n",
    "\n",
    "## Next, open the Jupyter notebook labeled Day 2 to begin the course."
   ]
  }
 ],
 "metadata": {
  "colab": {
   "collapsed_sections": [],
   "name": "Day1_intro.ipynb",
   "provenance": []
  },
  "kernelspec": {
   "display_name": "Python 3",
   "language": "python",
   "name": "python3"
  },
  "language_info": {
   "codemirror_mode": {
    "name": "ipython",
    "version": 3
   },
   "file_extension": ".py",
   "mimetype": "text/x-python",
   "name": "python",
   "nbconvert_exporter": "python",
   "pygments_lexer": "ipython3",
   "version": "3.8.8"
  }
 },
 "nbformat": 4,
 "nbformat_minor": 1
}
