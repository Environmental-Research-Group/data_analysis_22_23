{
 "cells": [
  {
   "cell_type": "markdown",
   "metadata": {
    "id": "G4dr3oF9MGnx"
   },
   "source": [
    "# Day 4: Welcome to Functions\n",
    "\n",
    "Functions are incredible tools that you can write when Python or a package doesn't have what you want to do. \n",
    "\n",
    "Functions are named blocks of code that are designed to do a specific job. Examples could be doing an equation or plotting data. When you want to perform the task, you call the function instead of writing out all the code inside it. \n",
    "\n",
    "First you define the function by using `def`, then you name the function some explanatory name to call it later. Then you tell the function what arguments it will take in. Next you tell the function what to do with those arguments. \n",
    "\n",
    "## Goals for the day:\n",
    "\n",
    "- Define functions\n",
    "- Create a function that prints outputs\n",
    "- Create functions that return statements\n",
    "- Learn how to use a list as an argument\n",
    "- Learn how to use dictionaries as arguments\n",
    "- Learn how to pass an arbitrary number of arguments to the function\n",
    "\n",
    "## Functions Learned:\n",
    "\n",
    "- Define function:\n",
    "\n",
    "`def function(input):\n",
    "   print(output)`\n",
    "\n",
    "- Set dictionary:\n",
    "`dictionary_name= {key1:value1, key2:value2}`\n",
    "\n",
    "- Function that accepts any # of positional arguments:\n",
    "`Def function(*args):`\n",
    "\n",
    "- Function passes arbitrary #of keyword arguments:\n",
    "`Def function(**kwargs):`\n",
    "\n"
   ]
  },
  {
   "cell_type": "markdown",
   "metadata": {
    "id": "uNiw6CiS5fv6"
   },
   "source": [
    "## 1.0 Function that takes in a variable and prints response \n",
    "\n",
    "We will start with a simple function and then work our way up. The function we will create will take in some **argument** `name` and then return a statement saying hello with the name! This would be helpful if you had many people to say hello to.\n",
    "\n",
    "We first use `def`, then name our function, and put our argument in parenthesis. Then on the end of our first line, we have a colon. After the colon, we tell Python everything we want to include by starting the line with a tab. "
   ]
  },
  {
   "cell_type": "code",
   "execution_count": 1,
   "metadata": {
    "colab": {
     "base_uri": "https://localhost:8080/"
    },
    "executionInfo": {
     "elapsed": 9,
     "status": "ok",
     "timestamp": 1625081984463,
     "user": {
      "displayName": "Jess Senger",
      "photoUrl": "",
      "userId": "08376289370634799181"
     },
     "user_tz": 300
    },
    "id": "GRDWAUa5Nl-1",
    "outputId": "c887643e-2e4a-4dfc-8bcf-b85cd2b45018"
   },
   "outputs": [
    {
     "name": "stdout",
     "output_type": "stream",
     "text": [
      "Welcome Katie!\n"
     ]
    }
   ],
   "source": [
    "# define our function\n",
    "def greet_user(name):\n",
    "  '''Welcomes the user with input name''' # this is called a docstring and describes what the function does\n",
    "  print(f\"Welcome {name}!\") # this is the f string that we learned yesterday\n",
    "\n",
    "\n",
    "# then run our new function\n",
    "greet_user(\"Katie\")"
   ]
  },
  {
   "cell_type": "markdown",
   "metadata": {
    "id": "2fmQWu1GcjS0"
   },
   "source": [
    "We can now use our function to welcome different people, by inputting different names as the arguments:"
   ]
  },
  {
   "cell_type": "code",
   "execution_count": 2,
   "metadata": {
    "colab": {
     "base_uri": "https://localhost:8080/"
    },
    "executionInfo": {
     "elapsed": 519,
     "status": "ok",
     "timestamp": 1625082140381,
     "user": {
      "displayName": "Jess Senger",
      "photoUrl": "",
      "userId": "08376289370634799181"
     },
     "user_tz": 300
    },
    "id": "T-0NWzTMPNRX",
    "outputId": "851731b4-175d-43d7-a3b0-00c4f963856e"
   },
   "outputs": [
    {
     "name": "stdout",
     "output_type": "stream",
     "text": [
      "Welcome Alex!\n",
      "Welcome Zach Efron!\n",
      "Welcome 1!\n"
     ]
    }
   ],
   "source": [
    "greet_user(\"Alex\") # run the function to greet Alex\n",
    "greet_user(\"Zach Efron\") # run the function to greet Zach Efron\n",
    "\n",
    "greet_user(1)"
   ]
  },
  {
   "cell_type": "markdown",
   "metadata": {
    "id": "xYsyf6upxZDF"
   },
   "source": [
    "On the second line there is a `docstring` which allows you to write the aim for the function. You can call up this documentation using `__doc__` (which is two underscores on each side)"
   ]
  },
  {
   "cell_type": "code",
   "execution_count": 3,
   "metadata": {
    "colab": {
     "base_uri": "https://localhost:8080/",
     "height": 35
    },
    "executionInfo": {
     "elapsed": 227,
     "status": "ok",
     "timestamp": 1625082143935,
     "user": {
      "displayName": "Jess Senger",
      "photoUrl": "",
      "userId": "08376289370634799181"
     },
     "user_tz": 300
    },
    "id": "qsA2TTJIwzq3",
    "outputId": "b47ac795-0e21-416a-db26-30842bab9fa1"
   },
   "outputs": [
    {
     "data": {
      "text/plain": [
       "'Welcomes the user with input name'"
      ]
     },
     "execution_count": 3,
     "metadata": {},
     "output_type": "execute_result"
    }
   ],
   "source": [
    "greet_user.__doc__"
   ]
  },
  {
   "cell_type": "markdown",
   "metadata": {
    "id": "gVuOvxZIzcgh"
   },
   "source": [
    "You can also call this up by using the built in function `help` to call information up. This also works on other built in functions and functions from packages."
   ]
  },
  {
   "cell_type": "code",
   "execution_count": 4,
   "metadata": {
    "colab": {
     "base_uri": "https://localhost:8080/"
    },
    "executionInfo": {
     "elapsed": 298,
     "status": "ok",
     "timestamp": 1625082150319,
     "user": {
      "displayName": "Jess Senger",
      "photoUrl": "",
      "userId": "08376289370634799181"
     },
     "user_tz": 300
    },
    "id": "KyehwRe8xA75",
    "outputId": "f7745611-474f-4b44-9e0f-30315768d873"
   },
   "outputs": [
    {
     "name": "stdout",
     "output_type": "stream",
     "text": [
      "Help on function greet_user in module __main__:\n",
      "\n",
      "greet_user(name)\n",
      "    Welcomes the user with input name\n",
      "\n"
     ]
    }
   ],
   "source": [
    "help(greet_user)"
   ]
  },
  {
   "cell_type": "markdown",
   "metadata": {
    "id": "WiEz0V-F4CA3"
   },
   "source": [
    "We can also use `help` to get information on built in functions, like `len` from yesterday:"
   ]
  },
  {
   "cell_type": "code",
   "execution_count": 5,
   "metadata": {
    "colab": {
     "base_uri": "https://localhost:8080/"
    },
    "executionInfo": {
     "elapsed": 254,
     "status": "ok",
     "timestamp": 1625082164594,
     "user": {
      "displayName": "Jess Senger",
      "photoUrl": "",
      "userId": "08376289370634799181"
     },
     "user_tz": 300
    },
    "id": "16j9mOHMzk3q",
    "outputId": "7caf8163-bd76-468f-b8dd-54f636870f3f"
   },
   "outputs": [
    {
     "name": "stdout",
     "output_type": "stream",
     "text": [
      "Help on built-in function len in module builtins:\n",
      "\n",
      "len(obj, /)\n",
      "    Return the number of items in a container.\n",
      "\n"
     ]
    }
   ],
   "source": [
    "help(len) # get information on the built in function len"
   ]
  },
  {
   "cell_type": "markdown",
   "metadata": {
    "id": "ZI4u_Tgy4Z0K"
   },
   "source": [
    "## 2.0 The ordering of arguments in the function is important\n",
    "\n",
    "We will write an example that uses in multiple arguments, the year, month, and day into a function we name `print_date` and it will return the date for us in scientific notation. \n",
    "\n",
    "When we call the function, we make sure to insert the year, month, and day in the correct order that we made when we set up the arguments in our function:"
   ]
  },
  {
   "cell_type": "code",
   "execution_count": 6,
   "metadata": {
    "colab": {
     "base_uri": "https://localhost:8080/"
    },
    "executionInfo": {
     "elapsed": 210,
     "status": "ok",
     "timestamp": 1625082193577,
     "user": {
      "displayName": "Jess Senger",
      "photoUrl": "",
      "userId": "08376289370634799181"
     },
     "user_tz": 300
    },
    "id": "HAqBkL5sPhVK",
    "outputId": "f8d320fc-532a-47d3-d23e-8aa9cbae30b6"
   },
   "outputs": [
    {
     "name": "stdout",
     "output_type": "stream",
     "text": [
      "2020-11-12\n"
     ]
    }
   ],
   "source": [
    "def print_date(year, month, day): # the order is year, month, day\n",
    "  \"\"\"Takes in year, month, and day and prints date\"\"\"\n",
    "  joined = str(year) + '-' + str(month) + '-' + str(day) # make each day a string and then add together\n",
    "  print(joined)\n",
    "\n",
    "# lets print out Nov 12th in 2020\n",
    "print_date(2020, 11, 12) # the order is year, month day"
   ]
  },
  {
   "cell_type": "markdown",
   "metadata": {
    "id": "zXPyPQs3dBEl"
   },
   "source": [
    "We can test out what happens if we put them in a different order. For example, month, day, year. The output will not be in the order we intended, which could mess up our data analysis. "
   ]
  },
  {
   "cell_type": "code",
   "execution_count": 7,
   "metadata": {
    "colab": {
     "base_uri": "https://localhost:8080/"
    },
    "executionInfo": {
     "elapsed": 217,
     "status": "ok",
     "timestamp": 1625082210166,
     "user": {
      "displayName": "Jess Senger",
      "photoUrl": "",
      "userId": "08376289370634799181"
     },
     "user_tz": 300
    },
    "id": "zIy45_zpQyDk",
    "outputId": "873b4d68-645d-4705-ab25-007eb67b655c"
   },
   "outputs": [
    {
     "name": "stdout",
     "output_type": "stream",
     "text": [
      "11-12-2020\n"
     ]
    }
   ],
   "source": [
    "# the November 12, 2020 the American way\n",
    "\n",
    "print_date(11, 12, 2020) # the order in the function is year, month, day"
   ]
  },
  {
   "cell_type": "markdown",
   "metadata": {
    "id": "r9ATT9aPdKTo"
   },
   "source": [
    "We can fix this by being explicit in calling our function, and typing `year = 2020` for example. This way, we are telling our function exactly which value to use for each argument, and it makes our code more readable in the future. This is the best practice for calling functions and is set up so that `keyword = value`:"
   ]
  },
  {
   "cell_type": "code",
   "execution_count": 8,
   "metadata": {
    "colab": {
     "base_uri": "https://localhost:8080/"
    },
    "executionInfo": {
     "elapsed": 221,
     "status": "ok",
     "timestamp": 1625082221133,
     "user": {
      "displayName": "Jess Senger",
      "photoUrl": "",
      "userId": "08376289370634799181"
     },
     "user_tz": 300
    },
    "id": "5Uh3KDw2QnsM",
    "outputId": "0f4f6821-d4a8-49f4-fef5-ca666222483d"
   },
   "outputs": [
    {
     "name": "stdout",
     "output_type": "stream",
     "text": [
      "2020-11-12\n"
     ]
    }
   ],
   "source": [
    "print_date(year = 2020, month = 11, day = 12)"
   ]
  },
  {
   "cell_type": "markdown",
   "metadata": {
    "id": "8a055PykeBrR"
   },
   "source": [
    "This is also nice, because now the order doesn't matter, because we are explicitly linking the values to the variables, so even if we switch up the order of the variables, the function `print_date` knows what input you're trying to give it."
   ]
  },
  {
   "cell_type": "code",
   "execution_count": 9,
   "metadata": {
    "colab": {
     "base_uri": "https://localhost:8080/",
     "height": 35
    },
    "executionInfo": {
     "elapsed": 483,
     "status": "ok",
     "timestamp": 1599067144770,
     "user": {
      "displayName": "Katherine Dixon",
      "photoUrl": "",
      "userId": "15494218692838460261"
     },
     "user_tz": 300
    },
    "id": "wDGFOaI_Q4xQ",
    "outputId": "a3c51ef3-b91f-4a98-ccaa-641d00c22286"
   },
   "outputs": [
    {
     "name": "stdout",
     "output_type": "stream",
     "text": [
      "2020-11-12\n"
     ]
    }
   ],
   "source": [
    "print_date(month = 11, day = 12, year = 2020)"
   ]
  },
  {
   "cell_type": "markdown",
   "metadata": {
    "id": "czy4xOhmeNvL"
   },
   "source": [
    "## 3.0 Saving the output of the function to a variable\n",
    "\n",
    "Say we want to save this date as something, we might try to call our function `print_date` and save it to a variable `my_date`:\n"
   ]
  },
  {
   "cell_type": "code",
   "execution_count": 10,
   "metadata": {
    "colab": {
     "base_uri": "https://localhost:8080/"
    },
    "executionInfo": {
     "elapsed": 216,
     "status": "ok",
     "timestamp": 1625082258130,
     "user": {
      "displayName": "Jess Senger",
      "photoUrl": "",
      "userId": "08376289370634799181"
     },
     "user_tz": 300
    },
    "id": "_0VPeZMAL4ig",
    "outputId": "3f066f94-137d-4b0b-9143-b5d6173a3ef3"
   },
   "outputs": [
    {
     "name": "stdout",
     "output_type": "stream",
     "text": [
      "2011-5-10\n",
      "None\n"
     ]
    }
   ],
   "source": [
    "my_date = print_date(year = 2011, month = 5, day = 10)\n",
    "print(my_date)"
   ]
  },
  {
   "cell_type": "code",
   "execution_count": 11,
   "metadata": {
    "id": "55slv07r1ZN-"
   },
   "outputs": [],
   "source": [
    "my_date"
   ]
  },
  {
   "cell_type": "markdown",
   "metadata": {
    "id": "mg1w80VHg5M0"
   },
   "source": [
    "`my_date` now has the value `None`, which is not what we intended. If we look at what our function is designed to do, we see that it is set to just print out the date. If we want to be able to assign the value to something, we must instead change it to `return` a value.\n",
    "\n",
    "We're going to change the name of the function to be `return_date` to distinguish it from `print_date`. You can see that it's not that different from our previous function"
   ]
  },
  {
   "cell_type": "code",
   "execution_count": 12,
   "metadata": {
    "colab": {
     "base_uri": "https://localhost:8080/"
    },
    "executionInfo": {
     "elapsed": 560,
     "status": "ok",
     "timestamp": 1625082279326,
     "user": {
      "displayName": "Jess Senger",
      "photoUrl": "",
      "userId": "08376289370634799181"
     },
     "user_tz": 300
    },
    "id": "M81kyhccQ8mR",
    "outputId": "123057d3-6ccb-4ef0-9537-558a9be72eac"
   },
   "outputs": [
    {
     "name": "stdout",
     "output_type": "stream",
     "text": [
      "2011-5-10\n"
     ]
    }
   ],
   "source": [
    "def return_date(year, month, day): # the order is year, month, day\n",
    "  \"\"\"Takes in year, month, and day and returns date\"\"\"\n",
    "  joined = str(year) + '-' + str(month) + '-' + str(day)\n",
    "  return(joined)\n",
    "\n",
    "my_date = return_date(year = 2011, month = 5, day = 10)\n",
    "print(my_date)"
   ]
  },
  {
   "cell_type": "markdown",
   "metadata": {
    "id": "8O59wMZFrPqx"
   },
   "source": [
    "## 4.0 Coding check in\n",
    "\n",
    "Write a function that takes in radius as an argument, `r`, and returns the area of a circle given the radius (A = $\\pi r^2$). Python doesn't have a built in value for `pi`, so use `3.1415`. \n",
    "\n",
    "*Advanced:* add a second argument to the function that takes in either `\"square\"` or `\"circle\"`, which will calculate the area of a circle or a square depending on that argument (using an `if` statement). This function should also tell the user that it doesn't know the shape if it isn't a circle or square."
   ]
  },
  {
   "cell_type": "code",
   "execution_count": 13,
   "metadata": {
    "id": "wmfFeWEv5yP9"
   },
   "outputs": [],
   "source": [
    "### space to put your code here\n",
    "\n",
    "\n",
    "\n"
   ]
  },
  {
   "cell_type": "markdown",
   "metadata": {
    "id": "duZ_MS3f507U"
   },
   "source": [
    "### 4.1 Check in answer"
   ]
  },
  {
   "cell_type": "code",
   "execution_count": 14,
   "metadata": {
    "colab": {
     "base_uri": "https://localhost:8080/"
    },
    "executionInfo": {
     "elapsed": 970,
     "status": "ok",
     "timestamp": 1625082385443,
     "user": {
      "displayName": "Jess Senger",
      "photoUrl": "",
      "userId": "08376289370634799181"
     },
     "user_tz": 300
    },
    "id": "-WV0VY_erl8X",
    "outputId": "4c86286b-5d4b-4fed-eb87-e7877587184b"
   },
   "outputs": [
    {
     "data": {
      "text/plain": [
       "78.53750000000001"
      ]
     },
     "execution_count": 14,
     "metadata": {},
     "output_type": "execute_result"
    }
   ],
   "source": [
    "def get_area(r):\n",
    "  \"\"\"give radius, get area\"\"\"\n",
    "  area = 3.1415* r**2\n",
    "  return(area)\n",
    "\n",
    "get_area(5) "
   ]
  },
  {
   "cell_type": "markdown",
   "metadata": {
    "id": "XUsrCPyX58Ut"
   },
   "source": [
    "### 4.2 Check in answer (advanced)"
   ]
  },
  {
   "cell_type": "code",
   "execution_count": 15,
   "metadata": {
    "colab": {
     "base_uri": "https://localhost:8080/"
    },
    "executionInfo": {
     "elapsed": 222,
     "status": "ok",
     "timestamp": 1625082584880,
     "user": {
      "displayName": "Jess Senger",
      "photoUrl": "",
      "userId": "08376289370634799181"
     },
     "user_tz": 300
    },
    "id": "sQV8U1crjOJn",
    "outputId": "9b6ceae9-03c5-4662-98ff-2836fd5fd0d8"
   },
   "outputs": [
    {
     "data": {
      "text/plain": [
       "25"
      ]
     },
     "execution_count": 15,
     "metadata": {},
     "output_type": "execute_result"
    }
   ],
   "source": [
    "def get_area(r, type):\n",
    "  \"\"\"give radius of circle or square, get area\"\"\"\n",
    "  \n",
    "  if type == \"circle\":\n",
    "    area = 3.1415* r**2\n",
    "    return(area)\n",
    "\n",
    "  elif type == \"square\":\n",
    "    area = r*r\n",
    "    return(area)\n",
    "\n",
    "  else:\n",
    "    print(f\"{type} is not a shape I know\")\n",
    "\n",
    "get_area(5, type = \"square\") "
   ]
  },
  {
   "cell_type": "markdown",
   "metadata": {
    "id": "X5FRIroAhrAy"
   },
   "source": [
    "## 5.0 Using a list as an arguement\n",
    "\n",
    "Here, we will show that a function can take a list as an argument using a `for` loop. We will give a function `zoo_animals` a list of animals, and then the function will tell us the zoo has that animal, by looping through the values in the list."
   ]
  },
  {
   "cell_type": "code",
   "execution_count": 16,
   "metadata": {
    "colab": {
     "base_uri": "https://localhost:8080/"
    },
    "executionInfo": {
     "elapsed": 366,
     "status": "ok",
     "timestamp": 1625082615761,
     "user": {
      "displayName": "Jess Senger",
      "photoUrl": "",
      "userId": "08376289370634799181"
     },
     "user_tz": 300
    },
    "id": "KqsZij0dix8K",
    "outputId": "6c5d01ed-728d-46fb-89b8-0a207c43a302"
   },
   "outputs": [
    {
     "name": "stdout",
     "output_type": "stream",
     "text": [
      "The zoo has a tiger\n",
      "The zoo has a lion\n",
      "The zoo has a bear\n"
     ]
    }
   ],
   "source": [
    "def zoo_animals(animal):\n",
    "  \"\"\"Takes in a string of animals and prints a string for each animal\"\"\"\n",
    "  for x in animal:\n",
    "    print(f'The zoo has a {x}')\n",
    "\n",
    "animals = [\"tiger\", \"lion\", \"bear\"]\n",
    "\n",
    "zoo_animals(animals)"
   ]
  },
  {
   "cell_type": "markdown",
   "metadata": {
    "id": "_PALsPEn4JZK"
   },
   "source": [
    "## 6.0 Using dictionaries as arguments\n",
    "\n",
    "This is a nice way of keeping your code very readable and can allow you to switch between many parameter sets. It would also allow you to input the same parameter sets into multiple functions, without allowing for the possibility of mistyping your arguments. First, we define our function, which takes in name, school, city, and state and returns a statement using an `f string`:"
   ]
  },
  {
   "cell_type": "code",
   "execution_count": 17,
   "metadata": {
    "id": "NzKIWG9v3fds"
   },
   "outputs": [],
   "source": [
    "def student_information(name, school, city, state):\n",
    "    print(f'{name} goes to the {school} in {city}, {state}')"
   ]
  },
  {
   "cell_type": "markdown",
   "metadata": {
    "id": "vZvBOgmkrdh-"
   },
   "source": [
    "Now, we will create two dictionaries for two students, and then pass them into our student information dictionary.\n",
    "\n",
    "Note: this is another way to write a dictionary than we did yesterday, by using curly brackets and the convention `{key1:value1, key2:value2}`"
   ]
  },
  {
   "cell_type": "code",
   "execution_count": 18,
   "metadata": {
    "colab": {
     "base_uri": "https://localhost:8080/"
    },
    "executionInfo": {
     "elapsed": 215,
     "status": "ok",
     "timestamp": 1625082641336,
     "user": {
      "displayName": "Jess Senger",
      "photoUrl": "",
      "userId": "08376289370634799181"
     },
     "user_tz": 300
    },
    "id": "x-piLgkJrEjg",
    "outputId": "e6982723-74c1-4d20-db89-883529abd8ff"
   },
   "outputs": [
    {
     "name": "stdout",
     "output_type": "stream",
     "text": [
      "Katie goes to the University of Chicago in Chicago, IL\n",
      "Michelle goes to the Princeton University in Princeton, NJ\n"
     ]
    }
   ],
   "source": [
    "# dictionary for student one\n",
    "student_1 = {\"name\": \"Katie\", \"school\": \"University of Chicago\", \"city\": \"Chicago\", \"state\": \"IL\"}\n",
    "# dictionary for student two\n",
    "student_2 = {\"name\": \"Michelle\", \"school\": \"Princeton University\", \"city\": \"Princeton\", \"state\": \"NJ\"}\n",
    "\n",
    "# use the function to print out student information for 2 students\n",
    "# need to use ** to tell Python we are inputting a dictionary\n",
    "student_information(**student_1)\n",
    "student_information(**student_2)\n"
   ]
  },
  {
   "cell_type": "markdown",
   "metadata": {
    "id": "4ykTyhtUruxw"
   },
   "source": [
    "This is the same thing as writing it inside the function call, but it would be easier if you need this parameter set for multiple functions"
   ]
  },
  {
   "cell_type": "code",
   "execution_count": 19,
   "metadata": {
    "colab": {
     "base_uri": "https://localhost:8080/"
    },
    "executionInfo": {
     "elapsed": 233,
     "status": "ok",
     "timestamp": 1625082668242,
     "user": {
      "displayName": "Jess Senger",
      "photoUrl": "",
      "userId": "08376289370634799181"
     },
     "user_tz": 300
    },
    "id": "bR2Cj4AormZ7",
    "outputId": "bb1fcb22-0e0b-45c1-f7b7-4eea34791670"
   },
   "outputs": [
    {
     "name": "stdout",
     "output_type": "stream",
     "text": [
      "Katie goes to the University of Chicago in Chicago, IL\n"
     ]
    }
   ],
   "source": [
    "student_information(name = \"Katie\", school = \"University of Chicago\", city = \"Chicago\", state = \"IL\")"
   ]
  },
  {
   "cell_type": "markdown",
   "metadata": {
    "id": "hh9RPvw5nFaw"
   },
   "source": [
    "## 7.0 Coding check in\n",
    "\n",
    "Write a function called `get_hypotenuse` that takes in the two sides of a right triangle as arguments from a dictionary, and the returns the hypotenuse using the pythagorean theorem. Remember, that equation is:\n",
    "\n",
    "$$c = \\sqrt{a^2 + b^2}$$\n",
    "\n",
    "Also remember that the square root is the same as raising somethign to the $\\frac{1}{2}$.\n",
    "\n",
    "Test out some different values for `a` and `b`"
   ]
  },
  {
   "cell_type": "code",
   "execution_count": 20,
   "metadata": {
    "id": "mjCR_jRtsj59"
   },
   "outputs": [],
   "source": [
    "## coding check in here\n",
    "\n",
    "\n",
    "\n",
    "\n",
    "\n",
    "\n",
    "\n",
    "\n",
    "\n",
    "\n"
   ]
  },
  {
   "cell_type": "markdown",
   "metadata": {
    "id": "ZrXOJnQoslfm"
   },
   "source": [
    "### 7.1 Coding check in answer"
   ]
  },
  {
   "cell_type": "code",
   "execution_count": 21,
   "metadata": {
    "colab": {
     "base_uri": "https://localhost:8080/"
    },
    "executionInfo": {
     "elapsed": 300,
     "status": "ok",
     "timestamp": 1625082764969,
     "user": {
      "displayName": "Jess Senger",
      "photoUrl": "",
      "userId": "08376289370634799181"
     },
     "user_tz": 300
    },
    "id": "c7MH7lZlqv5C",
    "outputId": "99914094-9cb0-40a7-b3fa-555fdd20a29d"
   },
   "outputs": [
    {
     "name": "stdout",
     "output_type": "stream",
     "text": [
      "2.23606797749979\n",
      "15.033296378372908\n"
     ]
    }
   ],
   "source": [
    "# define our function\n",
    "def get_hypotenuse (a,b):\n",
    "  hypot = (a**2 + b**2)**(0.5)\n",
    "  return(hypot)\n",
    "\n",
    "# define our dictionaries\n",
    "triangle_1 = {\"a\": 1, \"b\":2}\n",
    "triangle_2 = {\"a\": 15, \"b\":1}\n",
    "\n",
    "# use function to get the hypotenuse\n",
    "print(get_hypotenuse(**triangle_1))\n",
    "print(get_hypotenuse(**triangle_2))\n",
    "\n"
   ]
  },
  {
   "cell_type": "markdown",
   "metadata": {
    "id": "OEPd9RT31_oR"
   },
   "source": [
    "## 8.0 Using `*args` and `**kwargs` in functions\n",
    "\n",
    "There are certain tricks that you can use when making functions. The first is by using `*args` when you are unsure of how many arguements you are going to pass to the function, say if you're trying to add numbers together, but in diffrent conditions, you might be adding a varying number."
   ]
  },
  {
   "cell_type": "markdown",
   "metadata": {
    "id": "BEnj3cdXvFO3"
   },
   "source": [
    "We can do so by using the convention `*args` where before we put our arguments. Inside of that, we first set up a variable, `x` to be 0, and then we are going to add numbers to `x` using a for loop, that will go over each element in args. This `*args` now accepts any number of positional arguements:"
   ]
  },
  {
   "cell_type": "code",
   "execution_count": 22,
   "metadata": {
    "colab": {
     "base_uri": "https://localhost:8080/"
    },
    "executionInfo": {
     "elapsed": 239,
     "status": "ok",
     "timestamp": 1625082781721,
     "user": {
      "displayName": "Jess Senger",
      "photoUrl": "",
      "userId": "08376289370634799181"
     },
     "user_tz": 300
    },
    "id": "Weou8NGDunyg",
    "outputId": "98123687-d34c-4bab-9851-dd4b6320b976"
   },
   "outputs": [
    {
     "name": "stdout",
     "output_type": "stream",
     "text": [
      "1\n",
      "3\n",
      "6\n",
      "10\n",
      "15\n"
     ]
    }
   ],
   "source": [
    "def add_stuff(*args):\n",
    "  x = 0\n",
    "  for num in args:\n",
    "    x = x + num\n",
    "    print(x) # printing out x each time it updates, to peak inside the function\n",
    "\n",
    "add_stuff(1,2,3,4,5)"
   ]
  },
  {
   "cell_type": "markdown",
   "metadata": {
    "id": "Jh2tUyquwNEA"
   },
   "source": [
    "So, we saw what happened when we put in 5 arguments, now what happens when we put in two:"
   ]
  },
  {
   "cell_type": "code",
   "execution_count": 23,
   "metadata": {
    "colab": {
     "base_uri": "https://localhost:8080/"
    },
    "executionInfo": {
     "elapsed": 206,
     "status": "ok",
     "timestamp": 1625082784973,
     "user": {
      "displayName": "Jess Senger",
      "photoUrl": "",
      "userId": "08376289370634799181"
     },
     "user_tz": 300
    },
    "id": "7kW-3Fj_wI1J",
    "outputId": "2a3e75a2-6506-4644-e3a1-6e400685a741"
   },
   "outputs": [
    {
     "name": "stdout",
     "output_type": "stream",
     "text": [
      "100\n",
      "300\n"
     ]
    }
   ],
   "source": [
    "add_stuff(100,200)"
   ]
  },
  {
   "cell_type": "markdown",
   "metadata": {
    "id": "xh2XCFuYwVs4"
   },
   "source": [
    "The second trick I want to go over is using `**kwargs`. This is basically just telling the function that you are going to pass an arbitrary number of keyword arguments that you haven't define beforehand."
   ]
  },
  {
   "cell_type": "code",
   "execution_count": 24,
   "metadata": {
    "colab": {
     "base_uri": "https://localhost:8080/"
    },
    "executionInfo": {
     "elapsed": 228,
     "status": "ok",
     "timestamp": 1625082796800,
     "user": {
      "displayName": "Jess Senger",
      "photoUrl": "",
      "userId": "08376289370634799181"
     },
     "user_tz": 300
    },
    "id": "KitTVSlTtsI-",
    "outputId": "130cb8a0-12e7-40a0-8200-2c7f137b978d"
   },
   "outputs": [
    {
     "name": "stdout",
     "output_type": "stream",
     "text": [
      "Firstname is Katie\n",
      "Lastname is Dixon\n",
      "Age is 27\n",
      "Major is E&E\n"
     ]
    }
   ],
   "source": [
    "def intro(**kwargs):\n",
    "\n",
    "    for key, value in kwargs.items():\n",
    "        print(f\"{key} is {value}\")\n",
    "\n",
    "intro(Firstname=\"Katie\", Lastname=\"Dixon\", Age=27, Major = \"E&E\")"
   ]
  },
  {
   "cell_type": "code",
   "execution_count": 25,
   "metadata": {
    "colab": {
     "base_uri": "https://localhost:8080/"
    },
    "executionInfo": {
     "elapsed": 382,
     "status": "ok",
     "timestamp": 1625082800887,
     "user": {
      "displayName": "Jess Senger",
      "photoUrl": "",
      "userId": "08376289370634799181"
     },
     "user_tz": 300
    },
    "id": "jA9Rhp1W0IoZ",
    "outputId": "675b3e54-3c06-480b-8288-780cf2d0fd6c"
   },
   "outputs": [
    {
     "name": "stdout",
     "output_type": "stream",
     "text": [
      "Name is Elle Woods\n",
      "Pet is Bruiser Woods\n",
      "School is Harvard\n"
     ]
    }
   ],
   "source": [
    "intro(Name=\"Elle Woods\", Pet=\"Bruiser Woods\", School=\"Harvard\")"
   ]
  },
  {
   "cell_type": "markdown",
   "metadata": {
    "id": "oAQaE_5m0wMI"
   },
   "source": [
    "## 9.0 Extra check in\n",
    "\n",
    "Write a function that takes in however many arguments (`*args`) and returns a list of all the squared values. Remember, you have to first define an empty list outside of the for loop to start adding values to it"
   ]
  },
  {
   "cell_type": "code",
   "execution_count": 26,
   "metadata": {
    "id": "27S5P8SL4fs9"
   },
   "outputs": [],
   "source": [
    "#### check in code here\n",
    "\n",
    "\n",
    "\n",
    "\n",
    "\n",
    "\n",
    "\n",
    "\n",
    "\n",
    "\n",
    "\n"
   ]
  },
  {
   "cell_type": "markdown",
   "metadata": {
    "id": "mM5h4T5A4h6p"
   },
   "source": [
    "### 9.1 Extra check in answer"
   ]
  },
  {
   "cell_type": "code",
   "execution_count": 27,
   "metadata": {
    "colab": {
     "base_uri": "https://localhost:8080/"
    },
    "executionInfo": {
     "elapsed": 213,
     "status": "ok",
     "timestamp": 1625082885445,
     "user": {
      "displayName": "Jess Senger",
      "photoUrl": "",
      "userId": "08376289370634799181"
     },
     "user_tz": 300
    },
    "id": "-h5FM3BQ1110",
    "outputId": "827729d5-43ed-444a-dbbd-ba5899ff72b4"
   },
   "outputs": [
    {
     "name": "stdout",
     "output_type": "stream",
     "text": [
      "[1, 4, 9, 25, 100]\n",
      "[25, 100, 625]\n"
     ]
    }
   ],
   "source": [
    "def get_square(*args):\n",
    "\n",
    "  square = [] # empty list\n",
    "\n",
    "  for val in args:\n",
    "    square.append(val**2) # appending squared values for each value in args\n",
    "\n",
    "  return(square) # return the list of squared values\n",
    "\n",
    "\n",
    "print(get_square(1,2,3,5,10))\n",
    "print(get_square(5,10,25))\n"
   ]
  },
  {
   "cell_type": "markdown",
   "metadata": {
    "id": "IFEQtPCO2gPL"
   },
   "source": [
    "## 10.0 Extra: arguments and *args\n",
    "\n",
    "You can also include required keyword arguments and positional arguments, `*args`, in the same function. As an example, we can write a function where we input the polynomial we want, and then we can input any number of arguments to this function and it will return a list of those values raised to that value:"
   ]
  },
  {
   "cell_type": "code",
   "execution_count": 28,
   "metadata": {
    "colab": {
     "base_uri": "https://localhost:8080/"
    },
    "executionInfo": {
     "elapsed": 221,
     "status": "ok",
     "timestamp": 1625083008298,
     "user": {
      "displayName": "Jess Senger",
      "photoUrl": "",
      "userId": "08376289370634799181"
     },
     "user_tz": 300
    },
    "id": "TAoO_0s22kSV",
    "outputId": "d4f4ea9e-08c5-4a3c-9d3f-88eaca06c2ed"
   },
   "outputs": [
    {
     "name": "stdout",
     "output_type": "stream",
     "text": [
      "2\n"
     ]
    },
    {
     "data": {
      "text/plain": [
       "[1, 4, 9, 25, 100]"
      ]
     },
     "execution_count": 28,
     "metadata": {},
     "output_type": "execute_result"
    }
   ],
   "source": [
    "def get_poly(polynomial,*args):\n",
    "\n",
    "  print(polynomial) # printing the value of the polynomial\n",
    "  poly_vals = [] # empty list\n",
    "\n",
    "  for val in args:\n",
    "    poly_vals.append(val**polynomial) # raising each value in args to that power\n",
    "\n",
    "  return(poly_vals) # returning the list\n",
    "\n",
    "\n",
    "get_poly(2,1,2,3,5,10) # the first position will be the polynomial"
   ]
  },
  {
   "cell_type": "code",
   "execution_count": 29,
   "metadata": {
    "colab": {
     "base_uri": "https://localhost:8080/"
    },
    "executionInfo": {
     "elapsed": 214,
     "status": "ok",
     "timestamp": 1625083011024,
     "user": {
      "displayName": "Jess Senger",
      "photoUrl": "",
      "userId": "08376289370634799181"
     },
     "user_tz": 300
    },
    "id": "wXVug6zZ3-zL",
    "outputId": "e44f4518-e355-47b5-81b9-e857fadcf20b"
   },
   "outputs": [
    {
     "name": "stdout",
     "output_type": "stream",
     "text": [
      "3\n"
     ]
    },
    {
     "data": {
      "text/plain": [
       "[8, 125, 1000]"
      ]
     },
     "execution_count": 29,
     "metadata": {},
     "output_type": "execute_result"
    }
   ],
   "source": [
    "get_poly(3, 2, 5, 10)"
   ]
  },
  {
   "cell_type": "markdown",
   "metadata": {
    "id": "tvuZeFUWxcwj"
   },
   "source": [
    "## Appendix 1.0 Using an `f string` to play a fun game\n",
    "\n",
    "We can use a dictionary, an `if` statement, and a `f string` to play a game where we guess a number and maybe get a lucky fruit. \n",
    "\n",
    "We define our function to take in `some_number`, and then we use a dictionary to link numbers to the fruits, the number is the `key` in the dictionary. We then use an `if` statement to see if `some_number` is in the numbers we have in the dictionary. If it is, it will return a fruit using an `f string`. If it is not, it will print that you don't get a fruit."
   ]
  },
  {
   "cell_type": "code",
   "execution_count": 30,
   "metadata": {
    "colab": {
     "base_uri": "https://localhost:8080/"
    },
    "executionInfo": {
     "elapsed": 213,
     "status": "ok",
     "timestamp": 1625083024025,
     "user": {
      "displayName": "Jess Senger",
      "photoUrl": "",
      "userId": "08376289370634799181"
     },
     "user_tz": 300
    },
    "id": "rGQg9_69x489",
    "outputId": "5469cc16-8830-4d68-e4f1-bf0e4d86a07e"
   },
   "outputs": [
    {
     "name": "stdout",
     "output_type": "stream",
     "text": [
      "You entered 4, there is no lucky fruit\n"
     ]
    }
   ],
   "source": [
    "# defining our function\n",
    "def get_my_lucky_fruit(some_number):\n",
    "  all_fruits=['apple','cherry','banana','strawberry','tomato']\n",
    "  num_fruit=[1,3,6,7,8]\n",
    "  num_fruit_dict=dict(zip(num_fruit,all_fruits))\n",
    "  if some_number in num_fruit:\n",
    "    my_fruit = num_fruit_dict.get(some_number)\n",
    "    print (f'You entered {some_number}, your lucky fruit is {my_fruit}')\n",
    "  else:\n",
    "    print (f'You entered {some_number}, there is no lucky fruit')\n",
    "\n",
    "# calling our function\n",
    "get_my_lucky_fruit(some_number = 4)"
   ]
  }
 ],
 "metadata": {
  "colab": {
   "collapsed_sections": [],
   "name": "Day4-Functions.ipynb",
   "provenance": [
    {
     "file_id": "1Q6baDtwD2Fcll__MY4m5gRRBenIFDUvx",
     "timestamp": 1618585961973
    }
   ],
   "toc_visible": true
  },
  "kernelspec": {
   "display_name": "Python 3",
   "language": "python",
   "name": "python3"
  },
  "language_info": {
   "codemirror_mode": {
    "name": "ipython",
    "version": 3
   },
   "file_extension": ".py",
   "mimetype": "text/x-python",
   "name": "python",
   "nbconvert_exporter": "python",
   "pygments_lexer": "ipython3",
   "version": "3.8.8"
  }
 },
 "nbformat": 4,
 "nbformat_minor": 1
}
