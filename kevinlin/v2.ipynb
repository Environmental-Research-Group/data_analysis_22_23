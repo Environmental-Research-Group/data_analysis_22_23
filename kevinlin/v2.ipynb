{
 "cells": [
  {
   "cell_type": "code",
   "execution_count": 4,
   "metadata": {
    "collapsed": true,
    "pycharm": {
     "name": "#%%\n"
    }
   },
   "outputs": [],
   "source": [
    "import pandas as pd\n",
    "import numpy as np\n",
    "import matplotlib.pyplot as plt"
   ]
  },
  {
   "cell_type": "code",
   "execution_count": 77,
   "outputs": [],
   "source": [
    "race = pd.read_csv(\"race_community_area.csv\", header=None).T\n",
    "race.columns = race.iloc[0]\n",
    "race = race.iloc[1:]\n",
    "race = race.reset_index(drop=True)\n",
    "life_expectancy = pd.read_csv(\"life_expectancy_community_area.csv\")"
   ],
   "metadata": {
    "collapsed": false,
    "pycharm": {
     "name": "#%%\n"
    }
   }
  },
  {
   "cell_type": "code",
   "execution_count": 78,
   "outputs": [
    {
     "data": {
      "text/plain": "0  Community Area                name population income         requests  \\\n0               1         Rogers Park      54991  39482  3204.8880725907   \n1               2          West Ridge      71942  47323  3906.3412193156   \n2               3              Uptown      56362  40324  2164.0466981295   \n3               4      Lincoln Square      39493  57749  3827.2605271849   \n4               5        North Center      31867  81524  5307.9988703031   \n..            ...                 ...        ...    ...              ...   \n72             73  Washington Heights      26493  42053  6641.7544256946   \n73             74     Mount Greenwood      19093  80505  4357.6179751737   \n74             75         Morgan Park      22544  56886  6264.1944641542   \n75             76              O'Hare      12756  49601  1552.9946691765   \n76             77           Edgewater      56521  43331  2564.8873869877   \n\n0  latinos blacks  white  asian  other  \n0    0.244  0.263  0.393  0.064  0.036  \n1    0.204  0.111  0.427  0.225  0.032  \n2    0.142    0.2  0.516  0.114  0.028  \n3    0.191  0.038  0.631  0.111  0.029  \n4    0.136  0.023  0.773  0.045  0.022  \n..     ...    ...    ...    ...    ...  \n72    0.01  0.974  0.005      0  0.012  \n73   0.072  0.052   0.86  0.007   0.01  \n74   0.027  0.667  0.287  0.004  0.014  \n75   0.095  0.032  0.772  0.083  0.019  \n76   0.165  0.143  0.547  0.116  0.029  \n\n[77 rows x 10 columns]",
      "text/html": "<div>\n<style scoped>\n    .dataframe tbody tr th:only-of-type {\n        vertical-align: middle;\n    }\n\n    .dataframe tbody tr th {\n        vertical-align: top;\n    }\n\n    .dataframe thead th {\n        text-align: right;\n    }\n</style>\n<table border=\"1\" class=\"dataframe\">\n  <thead>\n    <tr style=\"text-align: right;\">\n      <th></th>\n      <th>Community Area</th>\n      <th>name</th>\n      <th>population</th>\n      <th>income</th>\n      <th>requests</th>\n      <th>latinos</th>\n      <th>blacks</th>\n      <th>white</th>\n      <th>asian</th>\n      <th>other</th>\n    </tr>\n  </thead>\n  <tbody>\n    <tr>\n      <th>0</th>\n      <td>1</td>\n      <td>Rogers Park</td>\n      <td>54991</td>\n      <td>39482</td>\n      <td>3204.8880725907</td>\n      <td>0.244</td>\n      <td>0.263</td>\n      <td>0.393</td>\n      <td>0.064</td>\n      <td>0.036</td>\n    </tr>\n    <tr>\n      <th>1</th>\n      <td>2</td>\n      <td>West Ridge</td>\n      <td>71942</td>\n      <td>47323</td>\n      <td>3906.3412193156</td>\n      <td>0.204</td>\n      <td>0.111</td>\n      <td>0.427</td>\n      <td>0.225</td>\n      <td>0.032</td>\n    </tr>\n    <tr>\n      <th>2</th>\n      <td>3</td>\n      <td>Uptown</td>\n      <td>56362</td>\n      <td>40324</td>\n      <td>2164.0466981295</td>\n      <td>0.142</td>\n      <td>0.2</td>\n      <td>0.516</td>\n      <td>0.114</td>\n      <td>0.028</td>\n    </tr>\n    <tr>\n      <th>3</th>\n      <td>4</td>\n      <td>Lincoln Square</td>\n      <td>39493</td>\n      <td>57749</td>\n      <td>3827.2605271849</td>\n      <td>0.191</td>\n      <td>0.038</td>\n      <td>0.631</td>\n      <td>0.111</td>\n      <td>0.029</td>\n    </tr>\n    <tr>\n      <th>4</th>\n      <td>5</td>\n      <td>North Center</td>\n      <td>31867</td>\n      <td>81524</td>\n      <td>5307.9988703031</td>\n      <td>0.136</td>\n      <td>0.023</td>\n      <td>0.773</td>\n      <td>0.045</td>\n      <td>0.022</td>\n    </tr>\n    <tr>\n      <th>...</th>\n      <td>...</td>\n      <td>...</td>\n      <td>...</td>\n      <td>...</td>\n      <td>...</td>\n      <td>...</td>\n      <td>...</td>\n      <td>...</td>\n      <td>...</td>\n      <td>...</td>\n    </tr>\n    <tr>\n      <th>72</th>\n      <td>73</td>\n      <td>Washington Heights</td>\n      <td>26493</td>\n      <td>42053</td>\n      <td>6641.7544256946</td>\n      <td>0.01</td>\n      <td>0.974</td>\n      <td>0.005</td>\n      <td>0</td>\n      <td>0.012</td>\n    </tr>\n    <tr>\n      <th>73</th>\n      <td>74</td>\n      <td>Mount Greenwood</td>\n      <td>19093</td>\n      <td>80505</td>\n      <td>4357.6179751737</td>\n      <td>0.072</td>\n      <td>0.052</td>\n      <td>0.86</td>\n      <td>0.007</td>\n      <td>0.01</td>\n    </tr>\n    <tr>\n      <th>74</th>\n      <td>75</td>\n      <td>Morgan Park</td>\n      <td>22544</td>\n      <td>56886</td>\n      <td>6264.1944641542</td>\n      <td>0.027</td>\n      <td>0.667</td>\n      <td>0.287</td>\n      <td>0.004</td>\n      <td>0.014</td>\n    </tr>\n    <tr>\n      <th>75</th>\n      <td>76</td>\n      <td>O'Hare</td>\n      <td>12756</td>\n      <td>49601</td>\n      <td>1552.9946691765</td>\n      <td>0.095</td>\n      <td>0.032</td>\n      <td>0.772</td>\n      <td>0.083</td>\n      <td>0.019</td>\n    </tr>\n    <tr>\n      <th>76</th>\n      <td>77</td>\n      <td>Edgewater</td>\n      <td>56521</td>\n      <td>43331</td>\n      <td>2564.8873869877</td>\n      <td>0.165</td>\n      <td>0.143</td>\n      <td>0.547</td>\n      <td>0.116</td>\n      <td>0.029</td>\n    </tr>\n  </tbody>\n</table>\n<p>77 rows × 10 columns</p>\n</div>"
     },
     "execution_count": 78,
     "metadata": {},
     "output_type": "execute_result"
    }
   ],
   "source": [
    "race"
   ],
   "metadata": {
    "collapsed": false,
    "pycharm": {
     "name": "#%%\n"
    }
   }
  },
  {
   "cell_type": "code",
   "execution_count": 79,
   "outputs": [
    {
     "data": {
      "text/plain": "    Community Area Number   Community Area  1990 Life Expectancy  \\\n0                     1.0      Rogers Park                  70.9   \n1                     2.0       West Ridge                  76.9   \n2                     3.0           Uptown                  64.0   \n3                     4.0   Lincoln Square                  74.2   \n4                     5.0     North Center                  73.4   \n..                    ...              ...                   ...   \n73                   74.0  Mount Greenwood                  75.7   \n74                   75.0      Morgan Park                  72.0   \n75                   76.0           O'Hare                  78.8   \n76                   77.0        Edgewater                  78.0   \n77                    NaN         CHICAGO                   70.5   \n\n    1990 Lower 95% CI  1990 Upper 95% CI  2000 Life Expectancy  \\\n0                69.9               71.9                  73.1   \n1                76.1               77.8                  78.1   \n2                63.1               64.9                  71.7   \n3                73.1               75.4                  76.8   \n4                72.1               74.7                  77.9   \n..                ...                ...                   ...   \n73               74.4               77.1                  76.0   \n74               70.5               73.4                  72.7   \n75               76.8               80.9                  80.4   \n76               76.9               79.1                  76.5   \n77               70.3               70.7                  73.9   \n\n    2000 Lower 95% CI  2000 Upper 95% CI  2010 Life Expectancy  \\\n0                72.2               74.1                  77.3   \n1                77.3               78.8                  80.3   \n2                70.8               72.7                  76.0   \n3                75.8               77.8                  80.5   \n4                76.6               79.1                  81.5   \n..                ...                ...                   ...   \n73               74.4               77.5                  79.6   \n74               71.3               74.2                  75.3   \n75               78.4               82.4                  82.2   \n76               75.6               77.3                  79.8   \n77               73.8               74.1                  77.8   \n\n    2010 Lower 95% CI  2010 Upper 95% CI  \n0                76.3               78.2  \n1                79.5               81.1  \n2                75.1               76.9  \n3                79.3               81.6  \n4                80.1               82.8  \n..                ...                ...  \n73               78.1               81.0  \n74               73.7               76.9  \n75               80.3               84.0  \n76               78.8               80.7  \n77               77.6               78.0  \n\n[78 rows x 11 columns]",
      "text/html": "<div>\n<style scoped>\n    .dataframe tbody tr th:only-of-type {\n        vertical-align: middle;\n    }\n\n    .dataframe tbody tr th {\n        vertical-align: top;\n    }\n\n    .dataframe thead th {\n        text-align: right;\n    }\n</style>\n<table border=\"1\" class=\"dataframe\">\n  <thead>\n    <tr style=\"text-align: right;\">\n      <th></th>\n      <th>Community Area Number</th>\n      <th>Community Area</th>\n      <th>1990 Life Expectancy</th>\n      <th>1990 Lower 95% CI</th>\n      <th>1990 Upper 95% CI</th>\n      <th>2000 Life Expectancy</th>\n      <th>2000 Lower 95% CI</th>\n      <th>2000 Upper 95% CI</th>\n      <th>2010 Life Expectancy</th>\n      <th>2010 Lower 95% CI</th>\n      <th>2010 Upper 95% CI</th>\n    </tr>\n  </thead>\n  <tbody>\n    <tr>\n      <th>0</th>\n      <td>1.0</td>\n      <td>Rogers Park</td>\n      <td>70.9</td>\n      <td>69.9</td>\n      <td>71.9</td>\n      <td>73.1</td>\n      <td>72.2</td>\n      <td>74.1</td>\n      <td>77.3</td>\n      <td>76.3</td>\n      <td>78.2</td>\n    </tr>\n    <tr>\n      <th>1</th>\n      <td>2.0</td>\n      <td>West Ridge</td>\n      <td>76.9</td>\n      <td>76.1</td>\n      <td>77.8</td>\n      <td>78.1</td>\n      <td>77.3</td>\n      <td>78.8</td>\n      <td>80.3</td>\n      <td>79.5</td>\n      <td>81.1</td>\n    </tr>\n    <tr>\n      <th>2</th>\n      <td>3.0</td>\n      <td>Uptown</td>\n      <td>64.0</td>\n      <td>63.1</td>\n      <td>64.9</td>\n      <td>71.7</td>\n      <td>70.8</td>\n      <td>72.7</td>\n      <td>76.0</td>\n      <td>75.1</td>\n      <td>76.9</td>\n    </tr>\n    <tr>\n      <th>3</th>\n      <td>4.0</td>\n      <td>Lincoln Square</td>\n      <td>74.2</td>\n      <td>73.1</td>\n      <td>75.4</td>\n      <td>76.8</td>\n      <td>75.8</td>\n      <td>77.8</td>\n      <td>80.5</td>\n      <td>79.3</td>\n      <td>81.6</td>\n    </tr>\n    <tr>\n      <th>4</th>\n      <td>5.0</td>\n      <td>North Center</td>\n      <td>73.4</td>\n      <td>72.1</td>\n      <td>74.7</td>\n      <td>77.9</td>\n      <td>76.6</td>\n      <td>79.1</td>\n      <td>81.5</td>\n      <td>80.1</td>\n      <td>82.8</td>\n    </tr>\n    <tr>\n      <th>...</th>\n      <td>...</td>\n      <td>...</td>\n      <td>...</td>\n      <td>...</td>\n      <td>...</td>\n      <td>...</td>\n      <td>...</td>\n      <td>...</td>\n      <td>...</td>\n      <td>...</td>\n      <td>...</td>\n    </tr>\n    <tr>\n      <th>73</th>\n      <td>74.0</td>\n      <td>Mount Greenwood</td>\n      <td>75.7</td>\n      <td>74.4</td>\n      <td>77.1</td>\n      <td>76.0</td>\n      <td>74.4</td>\n      <td>77.5</td>\n      <td>79.6</td>\n      <td>78.1</td>\n      <td>81.0</td>\n    </tr>\n    <tr>\n      <th>74</th>\n      <td>75.0</td>\n      <td>Morgan Park</td>\n      <td>72.0</td>\n      <td>70.5</td>\n      <td>73.4</td>\n      <td>72.7</td>\n      <td>71.3</td>\n      <td>74.2</td>\n      <td>75.3</td>\n      <td>73.7</td>\n      <td>76.9</td>\n    </tr>\n    <tr>\n      <th>75</th>\n      <td>76.0</td>\n      <td>O'Hare</td>\n      <td>78.8</td>\n      <td>76.8</td>\n      <td>80.9</td>\n      <td>80.4</td>\n      <td>78.4</td>\n      <td>82.4</td>\n      <td>82.2</td>\n      <td>80.3</td>\n      <td>84.0</td>\n    </tr>\n    <tr>\n      <th>76</th>\n      <td>77.0</td>\n      <td>Edgewater</td>\n      <td>78.0</td>\n      <td>76.9</td>\n      <td>79.1</td>\n      <td>76.5</td>\n      <td>75.6</td>\n      <td>77.3</td>\n      <td>79.8</td>\n      <td>78.8</td>\n      <td>80.7</td>\n    </tr>\n    <tr>\n      <th>77</th>\n      <td>NaN</td>\n      <td>CHICAGO</td>\n      <td>70.5</td>\n      <td>70.3</td>\n      <td>70.7</td>\n      <td>73.9</td>\n      <td>73.8</td>\n      <td>74.1</td>\n      <td>77.8</td>\n      <td>77.6</td>\n      <td>78.0</td>\n    </tr>\n  </tbody>\n</table>\n<p>78 rows × 11 columns</p>\n</div>"
     },
     "execution_count": 79,
     "metadata": {},
     "output_type": "execute_result"
    }
   ],
   "source": [
    "life_expectancy"
   ],
   "metadata": {
    "collapsed": false,
    "pycharm": {
     "name": "#%%\n"
    }
   }
  },
  {
   "cell_type": "code",
   "execution_count": 85,
   "outputs": [
    {
     "data": {
      "text/plain": "   number                name population income         requests latinos  \\\n0       1         Rogers Park      54991  39482  3204.8880725907   0.244   \n1       2          West Ridge      71942  47323  3906.3412193156   0.204   \n2       3              Uptown      56362  40324  2164.0466981295   0.142   \n3       4      Lincoln Square      39493  57749  3827.2605271849   0.191   \n4       5        North Center      31867  81524  5307.9988703031   0.136   \n..    ...                 ...        ...    ...              ...     ...   \n72     73  Washington Heights      26493  42053  6641.7544256946    0.01   \n73     74     Mount Greenwood      19093  80505  4357.6179751737   0.072   \n74     75         Morgan Park      22544  56886  6264.1944641542   0.027   \n75     76              O'Hare      12756  49601  1552.9946691765   0.095   \n76     77           Edgewater      56521  43331  2564.8873869877   0.165   \n\n   blacks  white  asian  other  1990 Life Expectancy  1990 Lower 95% CI  \\\n0   0.263  0.393  0.064  0.036                  70.9               69.9   \n1   0.111  0.427  0.225  0.032                  76.9               76.1   \n2     0.2  0.516  0.114  0.028                  64.0               63.1   \n3   0.038  0.631  0.111  0.029                  74.2               73.1   \n4   0.023  0.773  0.045  0.022                  73.4               72.1   \n..    ...    ...    ...    ...                   ...                ...   \n72  0.974  0.005      0  0.012                  68.7               67.1   \n73  0.052   0.86  0.007   0.01                  75.7               74.4   \n74  0.667  0.287  0.004  0.014                  72.0               70.5   \n75  0.032  0.772  0.083  0.019                  78.8               76.8   \n76  0.143  0.547  0.116  0.029                  78.0               76.9   \n\n    1990 Upper 95% CI  2000 Life Expectancy  2000 Lower 95% CI  \\\n0                71.9                  73.1               72.2   \n1                77.8                  78.1               77.3   \n2                64.9                  71.7               70.8   \n3                75.4                  76.8               75.8   \n4                74.7                  77.9               76.6   \n..                ...                   ...                ...   \n72               70.2                  70.8               69.4   \n73               77.1                  76.0               74.4   \n74               73.4                  72.7               71.3   \n75               80.9                  80.4               78.4   \n76               79.1                  76.5               75.6   \n\n    2000 Upper 95% CI  2010 Life Expectancy  2010 Lower 95% CI  \\\n0                74.1                  77.3               76.3   \n1                78.8                  80.3               79.5   \n2                72.7                  76.0               75.1   \n3                77.8                  80.5               79.3   \n4                79.1                  81.5               80.1   \n..                ...                   ...                ...   \n72               72.2                  74.9               73.3   \n73               77.5                  79.6               78.1   \n74               74.2                  75.3               73.7   \n75               82.4                  82.2               80.3   \n76               77.3                  79.8               78.8   \n\n    2010 Upper 95% CI  \n0                78.2  \n1                81.1  \n2                76.9  \n3                81.6  \n4                82.8  \n..                ...  \n72               76.4  \n73               81.0  \n74               76.9  \n75               84.0  \n76               80.7  \n\n[77 rows x 19 columns]",
      "text/html": "<div>\n<style scoped>\n    .dataframe tbody tr th:only-of-type {\n        vertical-align: middle;\n    }\n\n    .dataframe tbody tr th {\n        vertical-align: top;\n    }\n\n    .dataframe thead th {\n        text-align: right;\n    }\n</style>\n<table border=\"1\" class=\"dataframe\">\n  <thead>\n    <tr style=\"text-align: right;\">\n      <th></th>\n      <th>number</th>\n      <th>name</th>\n      <th>population</th>\n      <th>income</th>\n      <th>requests</th>\n      <th>latinos</th>\n      <th>blacks</th>\n      <th>white</th>\n      <th>asian</th>\n      <th>other</th>\n      <th>1990 Life Expectancy</th>\n      <th>1990 Lower 95% CI</th>\n      <th>1990 Upper 95% CI</th>\n      <th>2000 Life Expectancy</th>\n      <th>2000 Lower 95% CI</th>\n      <th>2000 Upper 95% CI</th>\n      <th>2010 Life Expectancy</th>\n      <th>2010 Lower 95% CI</th>\n      <th>2010 Upper 95% CI</th>\n    </tr>\n  </thead>\n  <tbody>\n    <tr>\n      <th>0</th>\n      <td>1</td>\n      <td>Rogers Park</td>\n      <td>54991</td>\n      <td>39482</td>\n      <td>3204.8880725907</td>\n      <td>0.244</td>\n      <td>0.263</td>\n      <td>0.393</td>\n      <td>0.064</td>\n      <td>0.036</td>\n      <td>70.9</td>\n      <td>69.9</td>\n      <td>71.9</td>\n      <td>73.1</td>\n      <td>72.2</td>\n      <td>74.1</td>\n      <td>77.3</td>\n      <td>76.3</td>\n      <td>78.2</td>\n    </tr>\n    <tr>\n      <th>1</th>\n      <td>2</td>\n      <td>West Ridge</td>\n      <td>71942</td>\n      <td>47323</td>\n      <td>3906.3412193156</td>\n      <td>0.204</td>\n      <td>0.111</td>\n      <td>0.427</td>\n      <td>0.225</td>\n      <td>0.032</td>\n      <td>76.9</td>\n      <td>76.1</td>\n      <td>77.8</td>\n      <td>78.1</td>\n      <td>77.3</td>\n      <td>78.8</td>\n      <td>80.3</td>\n      <td>79.5</td>\n      <td>81.1</td>\n    </tr>\n    <tr>\n      <th>2</th>\n      <td>3</td>\n      <td>Uptown</td>\n      <td>56362</td>\n      <td>40324</td>\n      <td>2164.0466981295</td>\n      <td>0.142</td>\n      <td>0.2</td>\n      <td>0.516</td>\n      <td>0.114</td>\n      <td>0.028</td>\n      <td>64.0</td>\n      <td>63.1</td>\n      <td>64.9</td>\n      <td>71.7</td>\n      <td>70.8</td>\n      <td>72.7</td>\n      <td>76.0</td>\n      <td>75.1</td>\n      <td>76.9</td>\n    </tr>\n    <tr>\n      <th>3</th>\n      <td>4</td>\n      <td>Lincoln Square</td>\n      <td>39493</td>\n      <td>57749</td>\n      <td>3827.2605271849</td>\n      <td>0.191</td>\n      <td>0.038</td>\n      <td>0.631</td>\n      <td>0.111</td>\n      <td>0.029</td>\n      <td>74.2</td>\n      <td>73.1</td>\n      <td>75.4</td>\n      <td>76.8</td>\n      <td>75.8</td>\n      <td>77.8</td>\n      <td>80.5</td>\n      <td>79.3</td>\n      <td>81.6</td>\n    </tr>\n    <tr>\n      <th>4</th>\n      <td>5</td>\n      <td>North Center</td>\n      <td>31867</td>\n      <td>81524</td>\n      <td>5307.9988703031</td>\n      <td>0.136</td>\n      <td>0.023</td>\n      <td>0.773</td>\n      <td>0.045</td>\n      <td>0.022</td>\n      <td>73.4</td>\n      <td>72.1</td>\n      <td>74.7</td>\n      <td>77.9</td>\n      <td>76.6</td>\n      <td>79.1</td>\n      <td>81.5</td>\n      <td>80.1</td>\n      <td>82.8</td>\n    </tr>\n    <tr>\n      <th>...</th>\n      <td>...</td>\n      <td>...</td>\n      <td>...</td>\n      <td>...</td>\n      <td>...</td>\n      <td>...</td>\n      <td>...</td>\n      <td>...</td>\n      <td>...</td>\n      <td>...</td>\n      <td>...</td>\n      <td>...</td>\n      <td>...</td>\n      <td>...</td>\n      <td>...</td>\n      <td>...</td>\n      <td>...</td>\n      <td>...</td>\n      <td>...</td>\n    </tr>\n    <tr>\n      <th>72</th>\n      <td>73</td>\n      <td>Washington Heights</td>\n      <td>26493</td>\n      <td>42053</td>\n      <td>6641.7544256946</td>\n      <td>0.01</td>\n      <td>0.974</td>\n      <td>0.005</td>\n      <td>0</td>\n      <td>0.012</td>\n      <td>68.7</td>\n      <td>67.1</td>\n      <td>70.2</td>\n      <td>70.8</td>\n      <td>69.4</td>\n      <td>72.2</td>\n      <td>74.9</td>\n      <td>73.3</td>\n      <td>76.4</td>\n    </tr>\n    <tr>\n      <th>73</th>\n      <td>74</td>\n      <td>Mount Greenwood</td>\n      <td>19093</td>\n      <td>80505</td>\n      <td>4357.6179751737</td>\n      <td>0.072</td>\n      <td>0.052</td>\n      <td>0.86</td>\n      <td>0.007</td>\n      <td>0.01</td>\n      <td>75.7</td>\n      <td>74.4</td>\n      <td>77.1</td>\n      <td>76.0</td>\n      <td>74.4</td>\n      <td>77.5</td>\n      <td>79.6</td>\n      <td>78.1</td>\n      <td>81.0</td>\n    </tr>\n    <tr>\n      <th>74</th>\n      <td>75</td>\n      <td>Morgan Park</td>\n      <td>22544</td>\n      <td>56886</td>\n      <td>6264.1944641542</td>\n      <td>0.027</td>\n      <td>0.667</td>\n      <td>0.287</td>\n      <td>0.004</td>\n      <td>0.014</td>\n      <td>72.0</td>\n      <td>70.5</td>\n      <td>73.4</td>\n      <td>72.7</td>\n      <td>71.3</td>\n      <td>74.2</td>\n      <td>75.3</td>\n      <td>73.7</td>\n      <td>76.9</td>\n    </tr>\n    <tr>\n      <th>75</th>\n      <td>76</td>\n      <td>O'Hare</td>\n      <td>12756</td>\n      <td>49601</td>\n      <td>1552.9946691765</td>\n      <td>0.095</td>\n      <td>0.032</td>\n      <td>0.772</td>\n      <td>0.083</td>\n      <td>0.019</td>\n      <td>78.8</td>\n      <td>76.8</td>\n      <td>80.9</td>\n      <td>80.4</td>\n      <td>78.4</td>\n      <td>82.4</td>\n      <td>82.2</td>\n      <td>80.3</td>\n      <td>84.0</td>\n    </tr>\n    <tr>\n      <th>76</th>\n      <td>77</td>\n      <td>Edgewater</td>\n      <td>56521</td>\n      <td>43331</td>\n      <td>2564.8873869877</td>\n      <td>0.165</td>\n      <td>0.143</td>\n      <td>0.547</td>\n      <td>0.116</td>\n      <td>0.029</td>\n      <td>78.0</td>\n      <td>76.9</td>\n      <td>79.1</td>\n      <td>76.5</td>\n      <td>75.6</td>\n      <td>77.3</td>\n      <td>79.8</td>\n      <td>78.8</td>\n      <td>80.7</td>\n    </tr>\n  </tbody>\n</table>\n<p>77 rows × 19 columns</p>\n</div>"
     },
     "execution_count": 85,
     "metadata": {},
     "output_type": "execute_result"
    }
   ],
   "source": [
    "df = race.merge(life_expectancy, left_index=True, right_index=True)\n",
    "df = df.drop(columns=[\"Community Area Number\", \"Community Area_y\"])\n",
    "df = df.rename(columns={\"Community Area_x\":\"number\"})\n",
    "df"
   ],
   "metadata": {
    "collapsed": false,
    "pycharm": {
     "name": "#%%\n"
    }
   }
  }
 ],
 "metadata": {
  "kernelspec": {
   "display_name": "Python 3",
   "language": "python",
   "name": "python3"
  },
  "language_info": {
   "codemirror_mode": {
    "name": "ipython",
    "version": 2
   },
   "file_extension": ".py",
   "mimetype": "text/x-python",
   "name": "python",
   "nbconvert_exporter": "python",
   "pygments_lexer": "ipython2",
   "version": "2.7.6"
  }
 },
 "nbformat": 4,
 "nbformat_minor": 0
}