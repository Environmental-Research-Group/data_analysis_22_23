{
 "cells": [
  {
   "cell_type": "code",
   "execution_count": 1,
   "id": "357ba02f",
   "metadata": {
    "pycharm": {
     "name": "#%%\n"
    }
   },
   "outputs": [],
   "source": [
    "import numpy as np\n",
    "import pandas as pd"
   ]
  },
  {
   "cell_type": "code",
   "execution_count": 2,
   "id": "937210de",
   "metadata": {
    "pycharm": {
     "name": "#%%\n"
    }
   },
   "outputs": [],
   "source": [
    "storms = pd.read_csv('storms.csv')"
   ]
  },
  {
   "cell_type": "code",
   "execution_count": 3,
   "id": "805e7026",
   "metadata": {
    "pycharm": {
     "name": "#%%\n"
    }
   },
   "outputs": [
    {
     "data": {
      "text/plain": "   Unnamed: 0 name  year  month  day  hour   lat  long               status  \\\n0           1  Amy  1975      6   27     0  27.5 -79.0  tropical depression   \n1           2  Amy  1975      6   27     6  28.5 -79.0  tropical depression   \n2           3  Amy  1975      6   27    12  29.5 -79.0  tropical depression   \n3           4  Amy  1975      6   27    18  30.5 -79.0  tropical depression   \n4           5  Amy  1975      6   28     0  31.5 -78.8  tropical depression   \n\n   category  wind  pressure  tropicalstorm_force_diameter  \\\n0        -1    25      1013                           NaN   \n1        -1    25      1013                           NaN   \n2        -1    25      1013                           NaN   \n3        -1    25      1013                           NaN   \n4        -1    25      1012                           NaN   \n\n   hurricane_force_diameter  \n0                       NaN  \n1                       NaN  \n2                       NaN  \n3                       NaN  \n4                       NaN  ",
      "text/html": "<div>\n<style scoped>\n    .dataframe tbody tr th:only-of-type {\n        vertical-align: middle;\n    }\n\n    .dataframe tbody tr th {\n        vertical-align: top;\n    }\n\n    .dataframe thead th {\n        text-align: right;\n    }\n</style>\n<table border=\"1\" class=\"dataframe\">\n  <thead>\n    <tr style=\"text-align: right;\">\n      <th></th>\n      <th>Unnamed: 0</th>\n      <th>name</th>\n      <th>year</th>\n      <th>month</th>\n      <th>day</th>\n      <th>hour</th>\n      <th>lat</th>\n      <th>long</th>\n      <th>status</th>\n      <th>category</th>\n      <th>wind</th>\n      <th>pressure</th>\n      <th>tropicalstorm_force_diameter</th>\n      <th>hurricane_force_diameter</th>\n    </tr>\n  </thead>\n  <tbody>\n    <tr>\n      <th>0</th>\n      <td>1</td>\n      <td>Amy</td>\n      <td>1975</td>\n      <td>6</td>\n      <td>27</td>\n      <td>0</td>\n      <td>27.5</td>\n      <td>-79.0</td>\n      <td>tropical depression</td>\n      <td>-1</td>\n      <td>25</td>\n      <td>1013</td>\n      <td>NaN</td>\n      <td>NaN</td>\n    </tr>\n    <tr>\n      <th>1</th>\n      <td>2</td>\n      <td>Amy</td>\n      <td>1975</td>\n      <td>6</td>\n      <td>27</td>\n      <td>6</td>\n      <td>28.5</td>\n      <td>-79.0</td>\n      <td>tropical depression</td>\n      <td>-1</td>\n      <td>25</td>\n      <td>1013</td>\n      <td>NaN</td>\n      <td>NaN</td>\n    </tr>\n    <tr>\n      <th>2</th>\n      <td>3</td>\n      <td>Amy</td>\n      <td>1975</td>\n      <td>6</td>\n      <td>27</td>\n      <td>12</td>\n      <td>29.5</td>\n      <td>-79.0</td>\n      <td>tropical depression</td>\n      <td>-1</td>\n      <td>25</td>\n      <td>1013</td>\n      <td>NaN</td>\n      <td>NaN</td>\n    </tr>\n    <tr>\n      <th>3</th>\n      <td>4</td>\n      <td>Amy</td>\n      <td>1975</td>\n      <td>6</td>\n      <td>27</td>\n      <td>18</td>\n      <td>30.5</td>\n      <td>-79.0</td>\n      <td>tropical depression</td>\n      <td>-1</td>\n      <td>25</td>\n      <td>1013</td>\n      <td>NaN</td>\n      <td>NaN</td>\n    </tr>\n    <tr>\n      <th>4</th>\n      <td>5</td>\n      <td>Amy</td>\n      <td>1975</td>\n      <td>6</td>\n      <td>28</td>\n      <td>0</td>\n      <td>31.5</td>\n      <td>-78.8</td>\n      <td>tropical depression</td>\n      <td>-1</td>\n      <td>25</td>\n      <td>1012</td>\n      <td>NaN</td>\n      <td>NaN</td>\n    </tr>\n  </tbody>\n</table>\n</div>"
     },
     "execution_count": 3,
     "metadata": {},
     "output_type": "execute_result"
    }
   ],
   "source": [
    "storms.head()"
   ]
  },
  {
   "cell_type": "code",
   "execution_count": 6,
   "id": "c23894d0",
   "metadata": {
    "pycharm": {
     "name": "#%%\n"
    }
   },
   "outputs": [],
   "source": [
    "storms = storms.dropna()"
   ]
  },
  {
   "cell_type": "code",
   "execution_count": 7,
   "outputs": [
    {
     "data": {
      "text/plain": "      Unnamed: 0  name  year  month  day  hour   lat  long  \\\n6452        6453  Alex  2004      7   31    18  30.3 -78.3   \n6453        6454  Alex  2004      8    1     0  31.0 -78.8   \n6454        6455  Alex  2004      8    1     6  31.5 -79.0   \n6455        6456  Alex  2004      8    1    12  31.6 -79.1   \n6456        6457  Alex  2004      8    1    18  31.6 -79.2   \n\n                   status  category  wind  pressure  \\\n6452  tropical depression        -1    25      1010   \n6453  tropical depression        -1    25      1009   \n6454  tropical depression        -1    25      1009   \n6455  tropical depression        -1    30      1009   \n6456       tropical storm         0    35      1009   \n\n      tropicalstorm_force_diameter  hurricane_force_diameter  \n6452                           0.0                       0.0  \n6453                           0.0                       0.0  \n6454                           0.0                       0.0  \n6455                           0.0                       0.0  \n6456                          50.0                       0.0  ",
      "text/html": "<div>\n<style scoped>\n    .dataframe tbody tr th:only-of-type {\n        vertical-align: middle;\n    }\n\n    .dataframe tbody tr th {\n        vertical-align: top;\n    }\n\n    .dataframe thead th {\n        text-align: right;\n    }\n</style>\n<table border=\"1\" class=\"dataframe\">\n  <thead>\n    <tr style=\"text-align: right;\">\n      <th></th>\n      <th>Unnamed: 0</th>\n      <th>name</th>\n      <th>year</th>\n      <th>month</th>\n      <th>day</th>\n      <th>hour</th>\n      <th>lat</th>\n      <th>long</th>\n      <th>status</th>\n      <th>category</th>\n      <th>wind</th>\n      <th>pressure</th>\n      <th>tropicalstorm_force_diameter</th>\n      <th>hurricane_force_diameter</th>\n    </tr>\n  </thead>\n  <tbody>\n    <tr>\n      <th>6452</th>\n      <td>6453</td>\n      <td>Alex</td>\n      <td>2004</td>\n      <td>7</td>\n      <td>31</td>\n      <td>18</td>\n      <td>30.3</td>\n      <td>-78.3</td>\n      <td>tropical depression</td>\n      <td>-1</td>\n      <td>25</td>\n      <td>1010</td>\n      <td>0.0</td>\n      <td>0.0</td>\n    </tr>\n    <tr>\n      <th>6453</th>\n      <td>6454</td>\n      <td>Alex</td>\n      <td>2004</td>\n      <td>8</td>\n      <td>1</td>\n      <td>0</td>\n      <td>31.0</td>\n      <td>-78.8</td>\n      <td>tropical depression</td>\n      <td>-1</td>\n      <td>25</td>\n      <td>1009</td>\n      <td>0.0</td>\n      <td>0.0</td>\n    </tr>\n    <tr>\n      <th>6454</th>\n      <td>6455</td>\n      <td>Alex</td>\n      <td>2004</td>\n      <td>8</td>\n      <td>1</td>\n      <td>6</td>\n      <td>31.5</td>\n      <td>-79.0</td>\n      <td>tropical depression</td>\n      <td>-1</td>\n      <td>25</td>\n      <td>1009</td>\n      <td>0.0</td>\n      <td>0.0</td>\n    </tr>\n    <tr>\n      <th>6455</th>\n      <td>6456</td>\n      <td>Alex</td>\n      <td>2004</td>\n      <td>8</td>\n      <td>1</td>\n      <td>12</td>\n      <td>31.6</td>\n      <td>-79.1</td>\n      <td>tropical depression</td>\n      <td>-1</td>\n      <td>30</td>\n      <td>1009</td>\n      <td>0.0</td>\n      <td>0.0</td>\n    </tr>\n    <tr>\n      <th>6456</th>\n      <td>6457</td>\n      <td>Alex</td>\n      <td>2004</td>\n      <td>8</td>\n      <td>1</td>\n      <td>18</td>\n      <td>31.6</td>\n      <td>-79.2</td>\n      <td>tropical storm</td>\n      <td>0</td>\n      <td>35</td>\n      <td>1009</td>\n      <td>50.0</td>\n      <td>0.0</td>\n    </tr>\n  </tbody>\n</table>\n</div>"
     },
     "execution_count": 7,
     "metadata": {},
     "output_type": "execute_result"
    }
   ],
   "source": [
    "storms.head()"
   ],
   "metadata": {
    "collapsed": false,
    "pycharm": {
     "name": "#%%\n"
    }
   }
  },
  {
   "cell_type": "code",
   "execution_count": 21,
   "outputs": [
    {
     "name": "stderr",
     "output_type": "stream",
     "text": [
      "C:\\Users\\orang\\AppData\\Local\\Temp\\ipykernel_11128\\788461978.py:2: SettingWithCopyWarning:\n",
      "\n",
      "\n",
      "A value is trying to be set on a copy of a slice from a DataFrame.\n",
      "Try using .loc[row_indexer,col_indexer] = value instead\n",
      "\n",
      "See the caveats in the documentation: https://pandas.pydata.org/pandas-docs/stable/user_guide/indexing.html#returning-a-view-versus-a-copy\n",
      "\n"
     ]
    },
    {
     "data": {
      "text/plain": "      Unnamed: 0  name  year  month  day  hour   lat  long  \\\n6452        6453  Alex  2004      7   31    18  30.3 -78.3   \n6453        6454  Alex  2004      8    1     0  31.0 -78.8   \n6454        6455  Alex  2004      8    1     6  31.5 -79.0   \n6455        6456  Alex  2004      8    1    12  31.6 -79.1   \n6456        6457  Alex  2004      8    1    18  31.6 -79.2   \n\n                   status  category  wind  pressure  \\\n6452  tropical depression        -1    25      1010   \n6453  tropical depression        -1    25      1009   \n6454  tropical depression        -1    25      1009   \n6455  tropical depression        -1    30      1009   \n6456       tropical storm         0    35      1009   \n\n      tropicalstorm_force_diameter  hurricane_force_diameter          time  \n6452                           0.0                       0.0  2004:7:31:18  \n6453                           0.0                       0.0    2004:8:1:0  \n6454                           0.0                       0.0    2004:8:1:6  \n6455                           0.0                       0.0   2004:8:1:12  \n6456                          50.0                       0.0   2004:8:1:18  ",
      "text/html": "<div>\n<style scoped>\n    .dataframe tbody tr th:only-of-type {\n        vertical-align: middle;\n    }\n\n    .dataframe tbody tr th {\n        vertical-align: top;\n    }\n\n    .dataframe thead th {\n        text-align: right;\n    }\n</style>\n<table border=\"1\" class=\"dataframe\">\n  <thead>\n    <tr style=\"text-align: right;\">\n      <th></th>\n      <th>Unnamed: 0</th>\n      <th>name</th>\n      <th>year</th>\n      <th>month</th>\n      <th>day</th>\n      <th>hour</th>\n      <th>lat</th>\n      <th>long</th>\n      <th>status</th>\n      <th>category</th>\n      <th>wind</th>\n      <th>pressure</th>\n      <th>tropicalstorm_force_diameter</th>\n      <th>hurricane_force_diameter</th>\n      <th>time</th>\n    </tr>\n  </thead>\n  <tbody>\n    <tr>\n      <th>6452</th>\n      <td>6453</td>\n      <td>Alex</td>\n      <td>2004</td>\n      <td>7</td>\n      <td>31</td>\n      <td>18</td>\n      <td>30.3</td>\n      <td>-78.3</td>\n      <td>tropical depression</td>\n      <td>-1</td>\n      <td>25</td>\n      <td>1010</td>\n      <td>0.0</td>\n      <td>0.0</td>\n      <td>2004:7:31:18</td>\n    </tr>\n    <tr>\n      <th>6453</th>\n      <td>6454</td>\n      <td>Alex</td>\n      <td>2004</td>\n      <td>8</td>\n      <td>1</td>\n      <td>0</td>\n      <td>31.0</td>\n      <td>-78.8</td>\n      <td>tropical depression</td>\n      <td>-1</td>\n      <td>25</td>\n      <td>1009</td>\n      <td>0.0</td>\n      <td>0.0</td>\n      <td>2004:8:1:0</td>\n    </tr>\n    <tr>\n      <th>6454</th>\n      <td>6455</td>\n      <td>Alex</td>\n      <td>2004</td>\n      <td>8</td>\n      <td>1</td>\n      <td>6</td>\n      <td>31.5</td>\n      <td>-79.0</td>\n      <td>tropical depression</td>\n      <td>-1</td>\n      <td>25</td>\n      <td>1009</td>\n      <td>0.0</td>\n      <td>0.0</td>\n      <td>2004:8:1:6</td>\n    </tr>\n    <tr>\n      <th>6455</th>\n      <td>6456</td>\n      <td>Alex</td>\n      <td>2004</td>\n      <td>8</td>\n      <td>1</td>\n      <td>12</td>\n      <td>31.6</td>\n      <td>-79.1</td>\n      <td>tropical depression</td>\n      <td>-1</td>\n      <td>30</td>\n      <td>1009</td>\n      <td>0.0</td>\n      <td>0.0</td>\n      <td>2004:8:1:12</td>\n    </tr>\n    <tr>\n      <th>6456</th>\n      <td>6457</td>\n      <td>Alex</td>\n      <td>2004</td>\n      <td>8</td>\n      <td>1</td>\n      <td>18</td>\n      <td>31.6</td>\n      <td>-79.2</td>\n      <td>tropical storm</td>\n      <td>0</td>\n      <td>35</td>\n      <td>1009</td>\n      <td>50.0</td>\n      <td>0.0</td>\n      <td>2004:8:1:18</td>\n    </tr>\n  </tbody>\n</table>\n</div>"
     },
     "execution_count": 21,
     "metadata": {},
     "output_type": "execute_result"
    }
   ],
   "source": [
    "alex = storms[(storms[\"name\"] == \"Alex\") & (storms[\"year\"] == 2004)]\n",
    "alex[\"time\"] = alex[\"year\"].astype(str) + \":\" + alex[\"month\"].astype(str) + \":\" + alex[\"day\"].astype(str) + \":\" + alex[\"hour\"].astype(str)\n",
    "alex.head()"
   ],
   "metadata": {
    "collapsed": false,
    "pycharm": {
     "name": "#%%\n"
    }
   }
  },
  {
   "cell_type": "code",
   "execution_count": 31,
   "outputs": [
    {
     "data": {
      "text/plain": "      Unnamed: 0  name  year  month  day  hour   lat  long  \\\n6452        6453  Alex  2004      7   31    18  30.3 -78.3   \n6453        6454  Alex  2004      8    1     0  31.0 -78.8   \n6454        6455  Alex  2004      8    1     6  31.5 -79.0   \n6455        6456  Alex  2004      8    1    12  31.6 -79.1   \n6456        6457  Alex  2004      8    1    18  31.6 -79.2   \n6457        6458  Alex  2004      8    2     0  31.5 -79.3   \n6458        6459  Alex  2004      8    2     6  31.4 -79.4   \n6459        6460  Alex  2004      8    2    12  31.3 -79.0   \n6460        6461  Alex  2004      8    2    18  31.8 -78.7   \n6461        6462  Alex  2004      8    3     0  32.4 -78.2   \n6462        6463  Alex  2004      8    3     6  33.0 -77.4   \n6463        6464  Alex  2004      8    3    12  34.2 -76.4   \n6464        6465  Alex  2004      8    3    18  35.3 -75.2   \n6465        6466  Alex  2004      8    4     0  36.0 -73.7   \n6466        6467  Alex  2004      8    4     6  36.8 -72.1   \n6467        6468  Alex  2004      8    4    12  37.3 -70.2   \n6468        6469  Alex  2004      8    4    18  37.8 -68.3   \n6469        6470  Alex  2004      8    5     0  38.5 -66.0   \n6470        6471  Alex  2004      8    5     6  39.5 -63.1   \n6471        6472  Alex  2004      8    5    12  40.8 -59.6   \n6472        6473  Alex  2004      8    5    18  42.7 -55.0   \n6473        6474  Alex  2004      8    6     0  44.5 -49.3   \n6474        6475  Alex  2004      8    6     6  46.1 -44.2   \n6475        6476  Alex  2004      8    6    12  47.0 -37.5   \n\n                   status  category  wind  pressure  \\\n6452  tropical depression        -1    25      1010   \n6453  tropical depression        -1    25      1009   \n6454  tropical depression        -1    25      1009   \n6455  tropical depression        -1    30      1009   \n6456       tropical storm         0    35      1009   \n6457       tropical storm         0    35      1007   \n6458       tropical storm         0    40      1005   \n6459       tropical storm         0    50       992   \n6460       tropical storm         0    50       993   \n6461       tropical storm         0    60       987   \n6462            hurricane         1    70       983   \n6463            hurricane         2    85       974   \n6464            hurricane         2    85       972   \n6465            hurricane         1    80       974   \n6466            hurricane         1    80       973   \n6467            hurricane         2    85       973   \n6468            hurricane         2    95       965   \n6469            hurricane         3   105       957   \n6470            hurricane         3   105       957   \n6471            hurricane         3   100       962   \n6472            hurricane         2    90       970   \n6473            hurricane         1    75       978   \n6474            hurricane         1    65       984   \n6475       tropical storm         0    50       987   \n\n      tropicalstorm_force_diameter  hurricane_force_diameter          time  \n6452                           0.0                       0.0  2004:7:31:18  \n6453                           0.0                       0.0    2004:8:1:0  \n6454                           0.0                       0.0    2004:8:1:6  \n6455                           0.0                       0.0   2004:8:1:12  \n6456                          50.0                       0.0   2004:8:1:18  \n6457                          50.0                       0.0    2004:8:2:0  \n6458                         150.0                       0.0    2004:8:2:6  \n6459                         135.0                       0.0   2004:8:2:12  \n6460                         125.0                       0.0   2004:8:2:18  \n6461                         125.0                       0.0    2004:8:3:0  \n6462                         130.0                      40.0    2004:8:3:6  \n6463                         130.0                      40.0   2004:8:3:12  \n6464                         165.0                      50.0   2004:8:3:18  \n6465                         155.0                      55.0    2004:8:4:0  \n6466                         195.0                      65.0    2004:8:4:6  \n6467                         195.0                      65.0   2004:8:4:12  \n6468                         225.0                      65.0   2004:8:4:18  \n6469                         225.0                      70.0    2004:8:5:0  \n6470                         300.0                      70.0    2004:8:5:6  \n6471                         380.0                      70.0   2004:8:5:12  \n6472                         375.0                      50.0   2004:8:5:18  \n6473                         375.0                      50.0    2004:8:6:0  \n6474                         375.0                      50.0    2004:8:6:6  \n6475                         375.0                       0.0   2004:8:6:12  ",
      "text/html": "<div>\n<style scoped>\n    .dataframe tbody tr th:only-of-type {\n        vertical-align: middle;\n    }\n\n    .dataframe tbody tr th {\n        vertical-align: top;\n    }\n\n    .dataframe thead th {\n        text-align: right;\n    }\n</style>\n<table border=\"1\" class=\"dataframe\">\n  <thead>\n    <tr style=\"text-align: right;\">\n      <th></th>\n      <th>Unnamed: 0</th>\n      <th>name</th>\n      <th>year</th>\n      <th>month</th>\n      <th>day</th>\n      <th>hour</th>\n      <th>lat</th>\n      <th>long</th>\n      <th>status</th>\n      <th>category</th>\n      <th>wind</th>\n      <th>pressure</th>\n      <th>tropicalstorm_force_diameter</th>\n      <th>hurricane_force_diameter</th>\n      <th>time</th>\n    </tr>\n  </thead>\n  <tbody>\n    <tr>\n      <th>6452</th>\n      <td>6453</td>\n      <td>Alex</td>\n      <td>2004</td>\n      <td>7</td>\n      <td>31</td>\n      <td>18</td>\n      <td>30.3</td>\n      <td>-78.3</td>\n      <td>tropical depression</td>\n      <td>-1</td>\n      <td>25</td>\n      <td>1010</td>\n      <td>0.0</td>\n      <td>0.0</td>\n      <td>2004:7:31:18</td>\n    </tr>\n    <tr>\n      <th>6453</th>\n      <td>6454</td>\n      <td>Alex</td>\n      <td>2004</td>\n      <td>8</td>\n      <td>1</td>\n      <td>0</td>\n      <td>31.0</td>\n      <td>-78.8</td>\n      <td>tropical depression</td>\n      <td>-1</td>\n      <td>25</td>\n      <td>1009</td>\n      <td>0.0</td>\n      <td>0.0</td>\n      <td>2004:8:1:0</td>\n    </tr>\n    <tr>\n      <th>6454</th>\n      <td>6455</td>\n      <td>Alex</td>\n      <td>2004</td>\n      <td>8</td>\n      <td>1</td>\n      <td>6</td>\n      <td>31.5</td>\n      <td>-79.0</td>\n      <td>tropical depression</td>\n      <td>-1</td>\n      <td>25</td>\n      <td>1009</td>\n      <td>0.0</td>\n      <td>0.0</td>\n      <td>2004:8:1:6</td>\n    </tr>\n    <tr>\n      <th>6455</th>\n      <td>6456</td>\n      <td>Alex</td>\n      <td>2004</td>\n      <td>8</td>\n      <td>1</td>\n      <td>12</td>\n      <td>31.6</td>\n      <td>-79.1</td>\n      <td>tropical depression</td>\n      <td>-1</td>\n      <td>30</td>\n      <td>1009</td>\n      <td>0.0</td>\n      <td>0.0</td>\n      <td>2004:8:1:12</td>\n    </tr>\n    <tr>\n      <th>6456</th>\n      <td>6457</td>\n      <td>Alex</td>\n      <td>2004</td>\n      <td>8</td>\n      <td>1</td>\n      <td>18</td>\n      <td>31.6</td>\n      <td>-79.2</td>\n      <td>tropical storm</td>\n      <td>0</td>\n      <td>35</td>\n      <td>1009</td>\n      <td>50.0</td>\n      <td>0.0</td>\n      <td>2004:8:1:18</td>\n    </tr>\n    <tr>\n      <th>6457</th>\n      <td>6458</td>\n      <td>Alex</td>\n      <td>2004</td>\n      <td>8</td>\n      <td>2</td>\n      <td>0</td>\n      <td>31.5</td>\n      <td>-79.3</td>\n      <td>tropical storm</td>\n      <td>0</td>\n      <td>35</td>\n      <td>1007</td>\n      <td>50.0</td>\n      <td>0.0</td>\n      <td>2004:8:2:0</td>\n    </tr>\n    <tr>\n      <th>6458</th>\n      <td>6459</td>\n      <td>Alex</td>\n      <td>2004</td>\n      <td>8</td>\n      <td>2</td>\n      <td>6</td>\n      <td>31.4</td>\n      <td>-79.4</td>\n      <td>tropical storm</td>\n      <td>0</td>\n      <td>40</td>\n      <td>1005</td>\n      <td>150.0</td>\n      <td>0.0</td>\n      <td>2004:8:2:6</td>\n    </tr>\n    <tr>\n      <th>6459</th>\n      <td>6460</td>\n      <td>Alex</td>\n      <td>2004</td>\n      <td>8</td>\n      <td>2</td>\n      <td>12</td>\n      <td>31.3</td>\n      <td>-79.0</td>\n      <td>tropical storm</td>\n      <td>0</td>\n      <td>50</td>\n      <td>992</td>\n      <td>135.0</td>\n      <td>0.0</td>\n      <td>2004:8:2:12</td>\n    </tr>\n    <tr>\n      <th>6460</th>\n      <td>6461</td>\n      <td>Alex</td>\n      <td>2004</td>\n      <td>8</td>\n      <td>2</td>\n      <td>18</td>\n      <td>31.8</td>\n      <td>-78.7</td>\n      <td>tropical storm</td>\n      <td>0</td>\n      <td>50</td>\n      <td>993</td>\n      <td>125.0</td>\n      <td>0.0</td>\n      <td>2004:8:2:18</td>\n    </tr>\n    <tr>\n      <th>6461</th>\n      <td>6462</td>\n      <td>Alex</td>\n      <td>2004</td>\n      <td>8</td>\n      <td>3</td>\n      <td>0</td>\n      <td>32.4</td>\n      <td>-78.2</td>\n      <td>tropical storm</td>\n      <td>0</td>\n      <td>60</td>\n      <td>987</td>\n      <td>125.0</td>\n      <td>0.0</td>\n      <td>2004:8:3:0</td>\n    </tr>\n    <tr>\n      <th>6462</th>\n      <td>6463</td>\n      <td>Alex</td>\n      <td>2004</td>\n      <td>8</td>\n      <td>3</td>\n      <td>6</td>\n      <td>33.0</td>\n      <td>-77.4</td>\n      <td>hurricane</td>\n      <td>1</td>\n      <td>70</td>\n      <td>983</td>\n      <td>130.0</td>\n      <td>40.0</td>\n      <td>2004:8:3:6</td>\n    </tr>\n    <tr>\n      <th>6463</th>\n      <td>6464</td>\n      <td>Alex</td>\n      <td>2004</td>\n      <td>8</td>\n      <td>3</td>\n      <td>12</td>\n      <td>34.2</td>\n      <td>-76.4</td>\n      <td>hurricane</td>\n      <td>2</td>\n      <td>85</td>\n      <td>974</td>\n      <td>130.0</td>\n      <td>40.0</td>\n      <td>2004:8:3:12</td>\n    </tr>\n    <tr>\n      <th>6464</th>\n      <td>6465</td>\n      <td>Alex</td>\n      <td>2004</td>\n      <td>8</td>\n      <td>3</td>\n      <td>18</td>\n      <td>35.3</td>\n      <td>-75.2</td>\n      <td>hurricane</td>\n      <td>2</td>\n      <td>85</td>\n      <td>972</td>\n      <td>165.0</td>\n      <td>50.0</td>\n      <td>2004:8:3:18</td>\n    </tr>\n    <tr>\n      <th>6465</th>\n      <td>6466</td>\n      <td>Alex</td>\n      <td>2004</td>\n      <td>8</td>\n      <td>4</td>\n      <td>0</td>\n      <td>36.0</td>\n      <td>-73.7</td>\n      <td>hurricane</td>\n      <td>1</td>\n      <td>80</td>\n      <td>974</td>\n      <td>155.0</td>\n      <td>55.0</td>\n      <td>2004:8:4:0</td>\n    </tr>\n    <tr>\n      <th>6466</th>\n      <td>6467</td>\n      <td>Alex</td>\n      <td>2004</td>\n      <td>8</td>\n      <td>4</td>\n      <td>6</td>\n      <td>36.8</td>\n      <td>-72.1</td>\n      <td>hurricane</td>\n      <td>1</td>\n      <td>80</td>\n      <td>973</td>\n      <td>195.0</td>\n      <td>65.0</td>\n      <td>2004:8:4:6</td>\n    </tr>\n    <tr>\n      <th>6467</th>\n      <td>6468</td>\n      <td>Alex</td>\n      <td>2004</td>\n      <td>8</td>\n      <td>4</td>\n      <td>12</td>\n      <td>37.3</td>\n      <td>-70.2</td>\n      <td>hurricane</td>\n      <td>2</td>\n      <td>85</td>\n      <td>973</td>\n      <td>195.0</td>\n      <td>65.0</td>\n      <td>2004:8:4:12</td>\n    </tr>\n    <tr>\n      <th>6468</th>\n      <td>6469</td>\n      <td>Alex</td>\n      <td>2004</td>\n      <td>8</td>\n      <td>4</td>\n      <td>18</td>\n      <td>37.8</td>\n      <td>-68.3</td>\n      <td>hurricane</td>\n      <td>2</td>\n      <td>95</td>\n      <td>965</td>\n      <td>225.0</td>\n      <td>65.0</td>\n      <td>2004:8:4:18</td>\n    </tr>\n    <tr>\n      <th>6469</th>\n      <td>6470</td>\n      <td>Alex</td>\n      <td>2004</td>\n      <td>8</td>\n      <td>5</td>\n      <td>0</td>\n      <td>38.5</td>\n      <td>-66.0</td>\n      <td>hurricane</td>\n      <td>3</td>\n      <td>105</td>\n      <td>957</td>\n      <td>225.0</td>\n      <td>70.0</td>\n      <td>2004:8:5:0</td>\n    </tr>\n    <tr>\n      <th>6470</th>\n      <td>6471</td>\n      <td>Alex</td>\n      <td>2004</td>\n      <td>8</td>\n      <td>5</td>\n      <td>6</td>\n      <td>39.5</td>\n      <td>-63.1</td>\n      <td>hurricane</td>\n      <td>3</td>\n      <td>105</td>\n      <td>957</td>\n      <td>300.0</td>\n      <td>70.0</td>\n      <td>2004:8:5:6</td>\n    </tr>\n    <tr>\n      <th>6471</th>\n      <td>6472</td>\n      <td>Alex</td>\n      <td>2004</td>\n      <td>8</td>\n      <td>5</td>\n      <td>12</td>\n      <td>40.8</td>\n      <td>-59.6</td>\n      <td>hurricane</td>\n      <td>3</td>\n      <td>100</td>\n      <td>962</td>\n      <td>380.0</td>\n      <td>70.0</td>\n      <td>2004:8:5:12</td>\n    </tr>\n    <tr>\n      <th>6472</th>\n      <td>6473</td>\n      <td>Alex</td>\n      <td>2004</td>\n      <td>8</td>\n      <td>5</td>\n      <td>18</td>\n      <td>42.7</td>\n      <td>-55.0</td>\n      <td>hurricane</td>\n      <td>2</td>\n      <td>90</td>\n      <td>970</td>\n      <td>375.0</td>\n      <td>50.0</td>\n      <td>2004:8:5:18</td>\n    </tr>\n    <tr>\n      <th>6473</th>\n      <td>6474</td>\n      <td>Alex</td>\n      <td>2004</td>\n      <td>8</td>\n      <td>6</td>\n      <td>0</td>\n      <td>44.5</td>\n      <td>-49.3</td>\n      <td>hurricane</td>\n      <td>1</td>\n      <td>75</td>\n      <td>978</td>\n      <td>375.0</td>\n      <td>50.0</td>\n      <td>2004:8:6:0</td>\n    </tr>\n    <tr>\n      <th>6474</th>\n      <td>6475</td>\n      <td>Alex</td>\n      <td>2004</td>\n      <td>8</td>\n      <td>6</td>\n      <td>6</td>\n      <td>46.1</td>\n      <td>-44.2</td>\n      <td>hurricane</td>\n      <td>1</td>\n      <td>65</td>\n      <td>984</td>\n      <td>375.0</td>\n      <td>50.0</td>\n      <td>2004:8:6:6</td>\n    </tr>\n    <tr>\n      <th>6475</th>\n      <td>6476</td>\n      <td>Alex</td>\n      <td>2004</td>\n      <td>8</td>\n      <td>6</td>\n      <td>12</td>\n      <td>47.0</td>\n      <td>-37.5</td>\n      <td>tropical storm</td>\n      <td>0</td>\n      <td>50</td>\n      <td>987</td>\n      <td>375.0</td>\n      <td>0.0</td>\n      <td>2004:8:6:12</td>\n    </tr>\n  </tbody>\n</table>\n</div>"
     },
     "execution_count": 31,
     "metadata": {},
     "output_type": "execute_result"
    }
   ],
   "source": [
    "alex"
   ],
   "metadata": {
    "collapsed": false,
    "pycharm": {
     "name": "#%%\n"
    }
   }
  },
  {
   "cell_type": "code",
   "execution_count": 39,
   "outputs": [
    {
     "data": {
      "application/vnd.plotly.v1+json": {
       "data": [
        {
         "geo": "geo",
         "hovertemplate": "<b>%{hovertext}</b><br><br>time=2004:7:31:18<br>tropicalstorm_force_diameter=%{marker.size}<br>lat=%{lat}<br>long=%{lon}<extra></extra>",
         "hovertext": [
          "2004:7:31:18"
         ],
         "ids": [
          "Alex"
         ],
         "lat": [
          30.3
         ],
         "legendgroup": "",
         "lon": [
          -78.3
         ],
         "marker": {
          "color": "#636efa",
          "size": [
           0.0
          ],
          "sizemode": "area",
          "sizeref": 0.95,
          "symbol": "circle"
         },
         "mode": "markers",
         "name": "",
         "showlegend": false,
         "type": "scattergeo"
        }
       ],
       "layout": {
        "template": {
         "data": {
          "histogram2dcontour": [
           {
            "type": "histogram2dcontour",
            "colorbar": {
             "outlinewidth": 0,
             "ticks": ""
            },
            "colorscale": [
             [
              0.0,
              "#0d0887"
             ],
             [
              0.1111111111111111,
              "#46039f"
             ],
             [
              0.2222222222222222,
              "#7201a8"
             ],
             [
              0.3333333333333333,
              "#9c179e"
             ],
             [
              0.4444444444444444,
              "#bd3786"
             ],
             [
              0.5555555555555556,
              "#d8576b"
             ],
             [
              0.6666666666666666,
              "#ed7953"
             ],
             [
              0.7777777777777778,
              "#fb9f3a"
             ],
             [
              0.8888888888888888,
              "#fdca26"
             ],
             [
              1.0,
              "#f0f921"
             ]
            ]
           }
          ],
          "choropleth": [
           {
            "type": "choropleth",
            "colorbar": {
             "outlinewidth": 0,
             "ticks": ""
            }
           }
          ],
          "histogram2d": [
           {
            "type": "histogram2d",
            "colorbar": {
             "outlinewidth": 0,
             "ticks": ""
            },
            "colorscale": [
             [
              0.0,
              "#0d0887"
             ],
             [
              0.1111111111111111,
              "#46039f"
             ],
             [
              0.2222222222222222,
              "#7201a8"
             ],
             [
              0.3333333333333333,
              "#9c179e"
             ],
             [
              0.4444444444444444,
              "#bd3786"
             ],
             [
              0.5555555555555556,
              "#d8576b"
             ],
             [
              0.6666666666666666,
              "#ed7953"
             ],
             [
              0.7777777777777778,
              "#fb9f3a"
             ],
             [
              0.8888888888888888,
              "#fdca26"
             ],
             [
              1.0,
              "#f0f921"
             ]
            ]
           }
          ],
          "heatmap": [
           {
            "type": "heatmap",
            "colorbar": {
             "outlinewidth": 0,
             "ticks": ""
            },
            "colorscale": [
             [
              0.0,
              "#0d0887"
             ],
             [
              0.1111111111111111,
              "#46039f"
             ],
             [
              0.2222222222222222,
              "#7201a8"
             ],
             [
              0.3333333333333333,
              "#9c179e"
             ],
             [
              0.4444444444444444,
              "#bd3786"
             ],
             [
              0.5555555555555556,
              "#d8576b"
             ],
             [
              0.6666666666666666,
              "#ed7953"
             ],
             [
              0.7777777777777778,
              "#fb9f3a"
             ],
             [
              0.8888888888888888,
              "#fdca26"
             ],
             [
              1.0,
              "#f0f921"
             ]
            ]
           }
          ],
          "heatmapgl": [
           {
            "type": "heatmapgl",
            "colorbar": {
             "outlinewidth": 0,
             "ticks": ""
            },
            "colorscale": [
             [
              0.0,
              "#0d0887"
             ],
             [
              0.1111111111111111,
              "#46039f"
             ],
             [
              0.2222222222222222,
              "#7201a8"
             ],
             [
              0.3333333333333333,
              "#9c179e"
             ],
             [
              0.4444444444444444,
              "#bd3786"
             ],
             [
              0.5555555555555556,
              "#d8576b"
             ],
             [
              0.6666666666666666,
              "#ed7953"
             ],
             [
              0.7777777777777778,
              "#fb9f3a"
             ],
             [
              0.8888888888888888,
              "#fdca26"
             ],
             [
              1.0,
              "#f0f921"
             ]
            ]
           }
          ],
          "contourcarpet": [
           {
            "type": "contourcarpet",
            "colorbar": {
             "outlinewidth": 0,
             "ticks": ""
            }
           }
          ],
          "contour": [
           {
            "type": "contour",
            "colorbar": {
             "outlinewidth": 0,
             "ticks": ""
            },
            "colorscale": [
             [
              0.0,
              "#0d0887"
             ],
             [
              0.1111111111111111,
              "#46039f"
             ],
             [
              0.2222222222222222,
              "#7201a8"
             ],
             [
              0.3333333333333333,
              "#9c179e"
             ],
             [
              0.4444444444444444,
              "#bd3786"
             ],
             [
              0.5555555555555556,
              "#d8576b"
             ],
             [
              0.6666666666666666,
              "#ed7953"
             ],
             [
              0.7777777777777778,
              "#fb9f3a"
             ],
             [
              0.8888888888888888,
              "#fdca26"
             ],
             [
              1.0,
              "#f0f921"
             ]
            ]
           }
          ],
          "surface": [
           {
            "type": "surface",
            "colorbar": {
             "outlinewidth": 0,
             "ticks": ""
            },
            "colorscale": [
             [
              0.0,
              "#0d0887"
             ],
             [
              0.1111111111111111,
              "#46039f"
             ],
             [
              0.2222222222222222,
              "#7201a8"
             ],
             [
              0.3333333333333333,
              "#9c179e"
             ],
             [
              0.4444444444444444,
              "#bd3786"
             ],
             [
              0.5555555555555556,
              "#d8576b"
             ],
             [
              0.6666666666666666,
              "#ed7953"
             ],
             [
              0.7777777777777778,
              "#fb9f3a"
             ],
             [
              0.8888888888888888,
              "#fdca26"
             ],
             [
              1.0,
              "#f0f921"
             ]
            ]
           }
          ],
          "mesh3d": [
           {
            "type": "mesh3d",
            "colorbar": {
             "outlinewidth": 0,
             "ticks": ""
            }
           }
          ],
          "scatter": [
           {
            "marker": {
             "line": {
              "color": "#283442"
             }
            },
            "type": "scatter"
           }
          ],
          "parcoords": [
           {
            "type": "parcoords",
            "line": {
             "colorbar": {
              "outlinewidth": 0,
              "ticks": ""
             }
            }
           }
          ],
          "scatterpolargl": [
           {
            "type": "scatterpolargl",
            "marker": {
             "colorbar": {
              "outlinewidth": 0,
              "ticks": ""
             }
            }
           }
          ],
          "bar": [
           {
            "error_x": {
             "color": "#f2f5fa"
            },
            "error_y": {
             "color": "#f2f5fa"
            },
            "marker": {
             "line": {
              "color": "rgb(17,17,17)",
              "width": 0.5
             },
             "pattern": {
              "fillmode": "overlay",
              "size": 10,
              "solidity": 0.2
             }
            },
            "type": "bar"
           }
          ],
          "scattergeo": [
           {
            "type": "scattergeo",
            "marker": {
             "colorbar": {
              "outlinewidth": 0,
              "ticks": ""
             }
            }
           }
          ],
          "scatterpolar": [
           {
            "type": "scatterpolar",
            "marker": {
             "colorbar": {
              "outlinewidth": 0,
              "ticks": ""
             }
            }
           }
          ],
          "histogram": [
           {
            "marker": {
             "pattern": {
              "fillmode": "overlay",
              "size": 10,
              "solidity": 0.2
             }
            },
            "type": "histogram"
           }
          ],
          "scattergl": [
           {
            "marker": {
             "line": {
              "color": "#283442"
             }
            },
            "type": "scattergl"
           }
          ],
          "scatter3d": [
           {
            "type": "scatter3d",
            "line": {
             "colorbar": {
              "outlinewidth": 0,
              "ticks": ""
             }
            },
            "marker": {
             "colorbar": {
              "outlinewidth": 0,
              "ticks": ""
             }
            }
           }
          ],
          "scattermapbox": [
           {
            "type": "scattermapbox",
            "marker": {
             "colorbar": {
              "outlinewidth": 0,
              "ticks": ""
             }
            }
           }
          ],
          "scatterternary": [
           {
            "type": "scatterternary",
            "marker": {
             "colorbar": {
              "outlinewidth": 0,
              "ticks": ""
             }
            }
           }
          ],
          "scattercarpet": [
           {
            "type": "scattercarpet",
            "marker": {
             "colorbar": {
              "outlinewidth": 0,
              "ticks": ""
             }
            }
           }
          ],
          "carpet": [
           {
            "aaxis": {
             "endlinecolor": "#A2B1C6",
             "gridcolor": "#506784",
             "linecolor": "#506784",
             "minorgridcolor": "#506784",
             "startlinecolor": "#A2B1C6"
            },
            "baxis": {
             "endlinecolor": "#A2B1C6",
             "gridcolor": "#506784",
             "linecolor": "#506784",
             "minorgridcolor": "#506784",
             "startlinecolor": "#A2B1C6"
            },
            "type": "carpet"
           }
          ],
          "table": [
           {
            "cells": {
             "fill": {
              "color": "#506784"
             },
             "line": {
              "color": "rgb(17,17,17)"
             }
            },
            "header": {
             "fill": {
              "color": "#2a3f5f"
             },
             "line": {
              "color": "rgb(17,17,17)"
             }
            },
            "type": "table"
           }
          ],
          "barpolar": [
           {
            "marker": {
             "line": {
              "color": "rgb(17,17,17)",
              "width": 0.5
             },
             "pattern": {
              "fillmode": "overlay",
              "size": 10,
              "solidity": 0.2
             }
            },
            "type": "barpolar"
           }
          ],
          "pie": [
           {
            "automargin": true,
            "type": "pie"
           }
          ]
         },
         "layout": {
          "autotypenumbers": "strict",
          "colorway": [
           "#636efa",
           "#EF553B",
           "#00cc96",
           "#ab63fa",
           "#FFA15A",
           "#19d3f3",
           "#FF6692",
           "#B6E880",
           "#FF97FF",
           "#FECB52"
          ],
          "font": {
           "color": "#f2f5fa"
          },
          "hovermode": "closest",
          "hoverlabel": {
           "align": "left"
          },
          "paper_bgcolor": "rgb(17,17,17)",
          "plot_bgcolor": "rgb(17,17,17)",
          "polar": {
           "bgcolor": "rgb(17,17,17)",
           "angularaxis": {
            "gridcolor": "#506784",
            "linecolor": "#506784",
            "ticks": ""
           },
           "radialaxis": {
            "gridcolor": "#506784",
            "linecolor": "#506784",
            "ticks": ""
           }
          },
          "ternary": {
           "bgcolor": "rgb(17,17,17)",
           "aaxis": {
            "gridcolor": "#506784",
            "linecolor": "#506784",
            "ticks": ""
           },
           "baxis": {
            "gridcolor": "#506784",
            "linecolor": "#506784",
            "ticks": ""
           },
           "caxis": {
            "gridcolor": "#506784",
            "linecolor": "#506784",
            "ticks": ""
           }
          },
          "coloraxis": {
           "colorbar": {
            "outlinewidth": 0,
            "ticks": ""
           }
          },
          "colorscale": {
           "sequential": [
            [
             0.0,
             "#0d0887"
            ],
            [
             0.1111111111111111,
             "#46039f"
            ],
            [
             0.2222222222222222,
             "#7201a8"
            ],
            [
             0.3333333333333333,
             "#9c179e"
            ],
            [
             0.4444444444444444,
             "#bd3786"
            ],
            [
             0.5555555555555556,
             "#d8576b"
            ],
            [
             0.6666666666666666,
             "#ed7953"
            ],
            [
             0.7777777777777778,
             "#fb9f3a"
            ],
            [
             0.8888888888888888,
             "#fdca26"
            ],
            [
             1.0,
             "#f0f921"
            ]
           ],
           "sequentialminus": [
            [
             0.0,
             "#0d0887"
            ],
            [
             0.1111111111111111,
             "#46039f"
            ],
            [
             0.2222222222222222,
             "#7201a8"
            ],
            [
             0.3333333333333333,
             "#9c179e"
            ],
            [
             0.4444444444444444,
             "#bd3786"
            ],
            [
             0.5555555555555556,
             "#d8576b"
            ],
            [
             0.6666666666666666,
             "#ed7953"
            ],
            [
             0.7777777777777778,
             "#fb9f3a"
            ],
            [
             0.8888888888888888,
             "#fdca26"
            ],
            [
             1.0,
             "#f0f921"
            ]
           ],
           "diverging": [
            [
             0,
             "#8e0152"
            ],
            [
             0.1,
             "#c51b7d"
            ],
            [
             0.2,
             "#de77ae"
            ],
            [
             0.3,
             "#f1b6da"
            ],
            [
             0.4,
             "#fde0ef"
            ],
            [
             0.5,
             "#f7f7f7"
            ],
            [
             0.6,
             "#e6f5d0"
            ],
            [
             0.7,
             "#b8e186"
            ],
            [
             0.8,
             "#7fbc41"
            ],
            [
             0.9,
             "#4d9221"
            ],
            [
             1,
             "#276419"
            ]
           ]
          },
          "xaxis": {
           "gridcolor": "#283442",
           "linecolor": "#506784",
           "ticks": "",
           "title": {
            "standoff": 15
           },
           "zerolinecolor": "#283442",
           "automargin": true,
           "zerolinewidth": 2
          },
          "yaxis": {
           "gridcolor": "#283442",
           "linecolor": "#506784",
           "ticks": "",
           "title": {
            "standoff": 15
           },
           "zerolinecolor": "#283442",
           "automargin": true,
           "zerolinewidth": 2
          },
          "scene": {
           "xaxis": {
            "backgroundcolor": "rgb(17,17,17)",
            "gridcolor": "#506784",
            "linecolor": "#506784",
            "showbackground": true,
            "ticks": "",
            "zerolinecolor": "#C8D4E3",
            "gridwidth": 2
           },
           "yaxis": {
            "backgroundcolor": "rgb(17,17,17)",
            "gridcolor": "#506784",
            "linecolor": "#506784",
            "showbackground": true,
            "ticks": "",
            "zerolinecolor": "#C8D4E3",
            "gridwidth": 2
           },
           "zaxis": {
            "backgroundcolor": "rgb(17,17,17)",
            "gridcolor": "#506784",
            "linecolor": "#506784",
            "showbackground": true,
            "ticks": "",
            "zerolinecolor": "#C8D4E3",
            "gridwidth": 2
           }
          },
          "shapedefaults": {
           "line": {
            "color": "#f2f5fa"
           }
          },
          "annotationdefaults": {
           "arrowcolor": "#f2f5fa",
           "arrowhead": 0,
           "arrowwidth": 1
          },
          "geo": {
           "bgcolor": "rgb(17,17,17)",
           "landcolor": "rgb(17,17,17)",
           "subunitcolor": "#506784",
           "showland": true,
           "showlakes": true,
           "lakecolor": "rgb(17,17,17)"
          },
          "title": {
           "x": 0.05
          },
          "updatemenudefaults": {
           "bgcolor": "#506784",
           "borderwidth": 0
          },
          "sliderdefaults": {
           "bgcolor": "#C8D4E3",
           "borderwidth": 1,
           "bordercolor": "rgb(17,17,17)",
           "tickwidth": 0
          },
          "mapbox": {
           "style": "dark"
          }
         }
        },
        "geo": {
         "domain": {
          "x": [
           0.0,
           1.0
          ],
          "y": [
           0.0,
           1.0
          ]
         },
         "center": {}
        },
        "legend": {
         "tracegroupgap": 0,
         "itemsizing": "constant"
        },
        "margin": {
         "t": 60
        },
        "updatemenus": [
         {
          "buttons": [
           {
            "args": [
             null,
             {
              "frame": {
               "duration": 500,
               "redraw": true
              },
              "mode": "immediate",
              "fromcurrent": true,
              "transition": {
               "duration": 500,
               "easing": "linear"
              }
             }
            ],
            "label": "&#9654;",
            "method": "animate"
           },
           {
            "args": [
             [
              null
             ],
             {
              "frame": {
               "duration": 0,
               "redraw": true
              },
              "mode": "immediate",
              "fromcurrent": true,
              "transition": {
               "duration": 0,
               "easing": "linear"
              }
             }
            ],
            "label": "&#9724;",
            "method": "animate"
           }
          ],
          "direction": "left",
          "pad": {
           "r": 10,
           "t": 70
          },
          "showactive": false,
          "type": "buttons",
          "x": 0.1,
          "xanchor": "right",
          "y": 0,
          "yanchor": "top"
         }
        ],
        "sliders": [
         {
          "active": 0,
          "currentvalue": {
           "prefix": "time="
          },
          "len": 0.9,
          "pad": {
           "b": 10,
           "t": 60
          },
          "steps": [
           {
            "args": [
             [
              "2004:7:31:18"
             ],
             {
              "frame": {
               "duration": 0,
               "redraw": true
              },
              "mode": "immediate",
              "fromcurrent": true,
              "transition": {
               "duration": 0,
               "easing": "linear"
              }
             }
            ],
            "label": "2004:7:31:18",
            "method": "animate"
           },
           {
            "args": [
             [
              "2004:8:1:0"
             ],
             {
              "frame": {
               "duration": 0,
               "redraw": true
              },
              "mode": "immediate",
              "fromcurrent": true,
              "transition": {
               "duration": 0,
               "easing": "linear"
              }
             }
            ],
            "label": "2004:8:1:0",
            "method": "animate"
           },
           {
            "args": [
             [
              "2004:8:1:6"
             ],
             {
              "frame": {
               "duration": 0,
               "redraw": true
              },
              "mode": "immediate",
              "fromcurrent": true,
              "transition": {
               "duration": 0,
               "easing": "linear"
              }
             }
            ],
            "label": "2004:8:1:6",
            "method": "animate"
           },
           {
            "args": [
             [
              "2004:8:1:12"
             ],
             {
              "frame": {
               "duration": 0,
               "redraw": true
              },
              "mode": "immediate",
              "fromcurrent": true,
              "transition": {
               "duration": 0,
               "easing": "linear"
              }
             }
            ],
            "label": "2004:8:1:12",
            "method": "animate"
           },
           {
            "args": [
             [
              "2004:8:1:18"
             ],
             {
              "frame": {
               "duration": 0,
               "redraw": true
              },
              "mode": "immediate",
              "fromcurrent": true,
              "transition": {
               "duration": 0,
               "easing": "linear"
              }
             }
            ],
            "label": "2004:8:1:18",
            "method": "animate"
           },
           {
            "args": [
             [
              "2004:8:2:0"
             ],
             {
              "frame": {
               "duration": 0,
               "redraw": true
              },
              "mode": "immediate",
              "fromcurrent": true,
              "transition": {
               "duration": 0,
               "easing": "linear"
              }
             }
            ],
            "label": "2004:8:2:0",
            "method": "animate"
           },
           {
            "args": [
             [
              "2004:8:2:6"
             ],
             {
              "frame": {
               "duration": 0,
               "redraw": true
              },
              "mode": "immediate",
              "fromcurrent": true,
              "transition": {
               "duration": 0,
               "easing": "linear"
              }
             }
            ],
            "label": "2004:8:2:6",
            "method": "animate"
           },
           {
            "args": [
             [
              "2004:8:2:12"
             ],
             {
              "frame": {
               "duration": 0,
               "redraw": true
              },
              "mode": "immediate",
              "fromcurrent": true,
              "transition": {
               "duration": 0,
               "easing": "linear"
              }
             }
            ],
            "label": "2004:8:2:12",
            "method": "animate"
           },
           {
            "args": [
             [
              "2004:8:2:18"
             ],
             {
              "frame": {
               "duration": 0,
               "redraw": true
              },
              "mode": "immediate",
              "fromcurrent": true,
              "transition": {
               "duration": 0,
               "easing": "linear"
              }
             }
            ],
            "label": "2004:8:2:18",
            "method": "animate"
           },
           {
            "args": [
             [
              "2004:8:3:0"
             ],
             {
              "frame": {
               "duration": 0,
               "redraw": true
              },
              "mode": "immediate",
              "fromcurrent": true,
              "transition": {
               "duration": 0,
               "easing": "linear"
              }
             }
            ],
            "label": "2004:8:3:0",
            "method": "animate"
           },
           {
            "args": [
             [
              "2004:8:3:6"
             ],
             {
              "frame": {
               "duration": 0,
               "redraw": true
              },
              "mode": "immediate",
              "fromcurrent": true,
              "transition": {
               "duration": 0,
               "easing": "linear"
              }
             }
            ],
            "label": "2004:8:3:6",
            "method": "animate"
           },
           {
            "args": [
             [
              "2004:8:3:12"
             ],
             {
              "frame": {
               "duration": 0,
               "redraw": true
              },
              "mode": "immediate",
              "fromcurrent": true,
              "transition": {
               "duration": 0,
               "easing": "linear"
              }
             }
            ],
            "label": "2004:8:3:12",
            "method": "animate"
           },
           {
            "args": [
             [
              "2004:8:3:18"
             ],
             {
              "frame": {
               "duration": 0,
               "redraw": true
              },
              "mode": "immediate",
              "fromcurrent": true,
              "transition": {
               "duration": 0,
               "easing": "linear"
              }
             }
            ],
            "label": "2004:8:3:18",
            "method": "animate"
           },
           {
            "args": [
             [
              "2004:8:4:0"
             ],
             {
              "frame": {
               "duration": 0,
               "redraw": true
              },
              "mode": "immediate",
              "fromcurrent": true,
              "transition": {
               "duration": 0,
               "easing": "linear"
              }
             }
            ],
            "label": "2004:8:4:0",
            "method": "animate"
           },
           {
            "args": [
             [
              "2004:8:4:6"
             ],
             {
              "frame": {
               "duration": 0,
               "redraw": true
              },
              "mode": "immediate",
              "fromcurrent": true,
              "transition": {
               "duration": 0,
               "easing": "linear"
              }
             }
            ],
            "label": "2004:8:4:6",
            "method": "animate"
           },
           {
            "args": [
             [
              "2004:8:4:12"
             ],
             {
              "frame": {
               "duration": 0,
               "redraw": true
              },
              "mode": "immediate",
              "fromcurrent": true,
              "transition": {
               "duration": 0,
               "easing": "linear"
              }
             }
            ],
            "label": "2004:8:4:12",
            "method": "animate"
           },
           {
            "args": [
             [
              "2004:8:4:18"
             ],
             {
              "frame": {
               "duration": 0,
               "redraw": true
              },
              "mode": "immediate",
              "fromcurrent": true,
              "transition": {
               "duration": 0,
               "easing": "linear"
              }
             }
            ],
            "label": "2004:8:4:18",
            "method": "animate"
           },
           {
            "args": [
             [
              "2004:8:5:0"
             ],
             {
              "frame": {
               "duration": 0,
               "redraw": true
              },
              "mode": "immediate",
              "fromcurrent": true,
              "transition": {
               "duration": 0,
               "easing": "linear"
              }
             }
            ],
            "label": "2004:8:5:0",
            "method": "animate"
           },
           {
            "args": [
             [
              "2004:8:5:6"
             ],
             {
              "frame": {
               "duration": 0,
               "redraw": true
              },
              "mode": "immediate",
              "fromcurrent": true,
              "transition": {
               "duration": 0,
               "easing": "linear"
              }
             }
            ],
            "label": "2004:8:5:6",
            "method": "animate"
           },
           {
            "args": [
             [
              "2004:8:5:12"
             ],
             {
              "frame": {
               "duration": 0,
               "redraw": true
              },
              "mode": "immediate",
              "fromcurrent": true,
              "transition": {
               "duration": 0,
               "easing": "linear"
              }
             }
            ],
            "label": "2004:8:5:12",
            "method": "animate"
           },
           {
            "args": [
             [
              "2004:8:5:18"
             ],
             {
              "frame": {
               "duration": 0,
               "redraw": true
              },
              "mode": "immediate",
              "fromcurrent": true,
              "transition": {
               "duration": 0,
               "easing": "linear"
              }
             }
            ],
            "label": "2004:8:5:18",
            "method": "animate"
           },
           {
            "args": [
             [
              "2004:8:6:0"
             ],
             {
              "frame": {
               "duration": 0,
               "redraw": true
              },
              "mode": "immediate",
              "fromcurrent": true,
              "transition": {
               "duration": 0,
               "easing": "linear"
              }
             }
            ],
            "label": "2004:8:6:0",
            "method": "animate"
           },
           {
            "args": [
             [
              "2004:8:6:6"
             ],
             {
              "frame": {
               "duration": 0,
               "redraw": true
              },
              "mode": "immediate",
              "fromcurrent": true,
              "transition": {
               "duration": 0,
               "easing": "linear"
              }
             }
            ],
            "label": "2004:8:6:6",
            "method": "animate"
           },
           {
            "args": [
             [
              "2004:8:6:12"
             ],
             {
              "frame": {
               "duration": 0,
               "redraw": true
              },
              "mode": "immediate",
              "fromcurrent": true,
              "transition": {
               "duration": 0,
               "easing": "linear"
              }
             }
            ],
            "label": "2004:8:6:12",
            "method": "animate"
           }
          ],
          "x": 0.1,
          "xanchor": "left",
          "y": 0,
          "yanchor": "top"
         }
        ]
       },
       "frames": [
        {
         "data": [
          {
           "geo": "geo",
           "hovertemplate": "<b>%{hovertext}</b><br><br>time=2004:7:31:18<br>tropicalstorm_force_diameter=%{marker.size}<br>lat=%{lat}<br>long=%{lon}<extra></extra>",
           "hovertext": [
            "2004:7:31:18"
           ],
           "ids": [
            "Alex"
           ],
           "lat": [
            30.3
           ],
           "legendgroup": "",
           "lon": [
            -78.3
           ],
           "marker": {
            "color": "#636efa",
            "size": [
             0.0
            ],
            "sizemode": "area",
            "sizeref": 0.95,
            "symbol": "circle"
           },
           "mode": "markers",
           "name": "",
           "showlegend": false,
           "type": "scattergeo"
          }
         ],
         "name": "2004:7:31:18"
        },
        {
         "data": [
          {
           "geo": "geo",
           "hovertemplate": "<b>%{hovertext}</b><br><br>time=2004:8:1:0<br>tropicalstorm_force_diameter=%{marker.size}<br>lat=%{lat}<br>long=%{lon}<extra></extra>",
           "hovertext": [
            "2004:8:1:0"
           ],
           "ids": [
            "Alex"
           ],
           "lat": [
            31.0
           ],
           "legendgroup": "",
           "lon": [
            -78.8
           ],
           "marker": {
            "color": "#636efa",
            "size": [
             0.0
            ],
            "sizemode": "area",
            "sizeref": 0.95,
            "symbol": "circle"
           },
           "mode": "markers",
           "name": "",
           "showlegend": false,
           "type": "scattergeo"
          }
         ],
         "name": "2004:8:1:0"
        },
        {
         "data": [
          {
           "geo": "geo",
           "hovertemplate": "<b>%{hovertext}</b><br><br>time=2004:8:1:6<br>tropicalstorm_force_diameter=%{marker.size}<br>lat=%{lat}<br>long=%{lon}<extra></extra>",
           "hovertext": [
            "2004:8:1:6"
           ],
           "ids": [
            "Alex"
           ],
           "lat": [
            31.5
           ],
           "legendgroup": "",
           "lon": [
            -79.0
           ],
           "marker": {
            "color": "#636efa",
            "size": [
             0.0
            ],
            "sizemode": "area",
            "sizeref": 0.95,
            "symbol": "circle"
           },
           "mode": "markers",
           "name": "",
           "showlegend": false,
           "type": "scattergeo"
          }
         ],
         "name": "2004:8:1:6"
        },
        {
         "data": [
          {
           "geo": "geo",
           "hovertemplate": "<b>%{hovertext}</b><br><br>time=2004:8:1:12<br>tropicalstorm_force_diameter=%{marker.size}<br>lat=%{lat}<br>long=%{lon}<extra></extra>",
           "hovertext": [
            "2004:8:1:12"
           ],
           "ids": [
            "Alex"
           ],
           "lat": [
            31.6
           ],
           "legendgroup": "",
           "lon": [
            -79.1
           ],
           "marker": {
            "color": "#636efa",
            "size": [
             0.0
            ],
            "sizemode": "area",
            "sizeref": 0.95,
            "symbol": "circle"
           },
           "mode": "markers",
           "name": "",
           "showlegend": false,
           "type": "scattergeo"
          }
         ],
         "name": "2004:8:1:12"
        },
        {
         "data": [
          {
           "geo": "geo",
           "hovertemplate": "<b>%{hovertext}</b><br><br>time=2004:8:1:18<br>tropicalstorm_force_diameter=%{marker.size}<br>lat=%{lat}<br>long=%{lon}<extra></extra>",
           "hovertext": [
            "2004:8:1:18"
           ],
           "ids": [
            "Alex"
           ],
           "lat": [
            31.6
           ],
           "legendgroup": "",
           "lon": [
            -79.2
           ],
           "marker": {
            "color": "#636efa",
            "size": [
             50.0
            ],
            "sizemode": "area",
            "sizeref": 0.95,
            "symbol": "circle"
           },
           "mode": "markers",
           "name": "",
           "showlegend": false,
           "type": "scattergeo"
          }
         ],
         "name": "2004:8:1:18"
        },
        {
         "data": [
          {
           "geo": "geo",
           "hovertemplate": "<b>%{hovertext}</b><br><br>time=2004:8:2:0<br>tropicalstorm_force_diameter=%{marker.size}<br>lat=%{lat}<br>long=%{lon}<extra></extra>",
           "hovertext": [
            "2004:8:2:0"
           ],
           "ids": [
            "Alex"
           ],
           "lat": [
            31.5
           ],
           "legendgroup": "",
           "lon": [
            -79.3
           ],
           "marker": {
            "color": "#636efa",
            "size": [
             50.0
            ],
            "sizemode": "area",
            "sizeref": 0.95,
            "symbol": "circle"
           },
           "mode": "markers",
           "name": "",
           "showlegend": false,
           "type": "scattergeo"
          }
         ],
         "name": "2004:8:2:0"
        },
        {
         "data": [
          {
           "geo": "geo",
           "hovertemplate": "<b>%{hovertext}</b><br><br>time=2004:8:2:6<br>tropicalstorm_force_diameter=%{marker.size}<br>lat=%{lat}<br>long=%{lon}<extra></extra>",
           "hovertext": [
            "2004:8:2:6"
           ],
           "ids": [
            "Alex"
           ],
           "lat": [
            31.4
           ],
           "legendgroup": "",
           "lon": [
            -79.4
           ],
           "marker": {
            "color": "#636efa",
            "size": [
             150.0
            ],
            "sizemode": "area",
            "sizeref": 0.95,
            "symbol": "circle"
           },
           "mode": "markers",
           "name": "",
           "showlegend": false,
           "type": "scattergeo"
          }
         ],
         "name": "2004:8:2:6"
        },
        {
         "data": [
          {
           "geo": "geo",
           "hovertemplate": "<b>%{hovertext}</b><br><br>time=2004:8:2:12<br>tropicalstorm_force_diameter=%{marker.size}<br>lat=%{lat}<br>long=%{lon}<extra></extra>",
           "hovertext": [
            "2004:8:2:12"
           ],
           "ids": [
            "Alex"
           ],
           "lat": [
            31.3
           ],
           "legendgroup": "",
           "lon": [
            -79.0
           ],
           "marker": {
            "color": "#636efa",
            "size": [
             135.0
            ],
            "sizemode": "area",
            "sizeref": 0.95,
            "symbol": "circle"
           },
           "mode": "markers",
           "name": "",
           "showlegend": false,
           "type": "scattergeo"
          }
         ],
         "name": "2004:8:2:12"
        },
        {
         "data": [
          {
           "geo": "geo",
           "hovertemplate": "<b>%{hovertext}</b><br><br>time=2004:8:2:18<br>tropicalstorm_force_diameter=%{marker.size}<br>lat=%{lat}<br>long=%{lon}<extra></extra>",
           "hovertext": [
            "2004:8:2:18"
           ],
           "ids": [
            "Alex"
           ],
           "lat": [
            31.8
           ],
           "legendgroup": "",
           "lon": [
            -78.7
           ],
           "marker": {
            "color": "#636efa",
            "size": [
             125.0
            ],
            "sizemode": "area",
            "sizeref": 0.95,
            "symbol": "circle"
           },
           "mode": "markers",
           "name": "",
           "showlegend": false,
           "type": "scattergeo"
          }
         ],
         "name": "2004:8:2:18"
        },
        {
         "data": [
          {
           "geo": "geo",
           "hovertemplate": "<b>%{hovertext}</b><br><br>time=2004:8:3:0<br>tropicalstorm_force_diameter=%{marker.size}<br>lat=%{lat}<br>long=%{lon}<extra></extra>",
           "hovertext": [
            "2004:8:3:0"
           ],
           "ids": [
            "Alex"
           ],
           "lat": [
            32.4
           ],
           "legendgroup": "",
           "lon": [
            -78.2
           ],
           "marker": {
            "color": "#636efa",
            "size": [
             125.0
            ],
            "sizemode": "area",
            "sizeref": 0.95,
            "symbol": "circle"
           },
           "mode": "markers",
           "name": "",
           "showlegend": false,
           "type": "scattergeo"
          }
         ],
         "name": "2004:8:3:0"
        },
        {
         "data": [
          {
           "geo": "geo",
           "hovertemplate": "<b>%{hovertext}</b><br><br>time=2004:8:3:6<br>tropicalstorm_force_diameter=%{marker.size}<br>lat=%{lat}<br>long=%{lon}<extra></extra>",
           "hovertext": [
            "2004:8:3:6"
           ],
           "ids": [
            "Alex"
           ],
           "lat": [
            33.0
           ],
           "legendgroup": "",
           "lon": [
            -77.4
           ],
           "marker": {
            "color": "#636efa",
            "size": [
             130.0
            ],
            "sizemode": "area",
            "sizeref": 0.95,
            "symbol": "circle"
           },
           "mode": "markers",
           "name": "",
           "showlegend": false,
           "type": "scattergeo"
          }
         ],
         "name": "2004:8:3:6"
        },
        {
         "data": [
          {
           "geo": "geo",
           "hovertemplate": "<b>%{hovertext}</b><br><br>time=2004:8:3:12<br>tropicalstorm_force_diameter=%{marker.size}<br>lat=%{lat}<br>long=%{lon}<extra></extra>",
           "hovertext": [
            "2004:8:3:12"
           ],
           "ids": [
            "Alex"
           ],
           "lat": [
            34.2
           ],
           "legendgroup": "",
           "lon": [
            -76.4
           ],
           "marker": {
            "color": "#636efa",
            "size": [
             130.0
            ],
            "sizemode": "area",
            "sizeref": 0.95,
            "symbol": "circle"
           },
           "mode": "markers",
           "name": "",
           "showlegend": false,
           "type": "scattergeo"
          }
         ],
         "name": "2004:8:3:12"
        },
        {
         "data": [
          {
           "geo": "geo",
           "hovertemplate": "<b>%{hovertext}</b><br><br>time=2004:8:3:18<br>tropicalstorm_force_diameter=%{marker.size}<br>lat=%{lat}<br>long=%{lon}<extra></extra>",
           "hovertext": [
            "2004:8:3:18"
           ],
           "ids": [
            "Alex"
           ],
           "lat": [
            35.3
           ],
           "legendgroup": "",
           "lon": [
            -75.2
           ],
           "marker": {
            "color": "#636efa",
            "size": [
             165.0
            ],
            "sizemode": "area",
            "sizeref": 0.95,
            "symbol": "circle"
           },
           "mode": "markers",
           "name": "",
           "showlegend": false,
           "type": "scattergeo"
          }
         ],
         "name": "2004:8:3:18"
        },
        {
         "data": [
          {
           "geo": "geo",
           "hovertemplate": "<b>%{hovertext}</b><br><br>time=2004:8:4:0<br>tropicalstorm_force_diameter=%{marker.size}<br>lat=%{lat}<br>long=%{lon}<extra></extra>",
           "hovertext": [
            "2004:8:4:0"
           ],
           "ids": [
            "Alex"
           ],
           "lat": [
            36.0
           ],
           "legendgroup": "",
           "lon": [
            -73.7
           ],
           "marker": {
            "color": "#636efa",
            "size": [
             155.0
            ],
            "sizemode": "area",
            "sizeref": 0.95,
            "symbol": "circle"
           },
           "mode": "markers",
           "name": "",
           "showlegend": false,
           "type": "scattergeo"
          }
         ],
         "name": "2004:8:4:0"
        },
        {
         "data": [
          {
           "geo": "geo",
           "hovertemplate": "<b>%{hovertext}</b><br><br>time=2004:8:4:6<br>tropicalstorm_force_diameter=%{marker.size}<br>lat=%{lat}<br>long=%{lon}<extra></extra>",
           "hovertext": [
            "2004:8:4:6"
           ],
           "ids": [
            "Alex"
           ],
           "lat": [
            36.8
           ],
           "legendgroup": "",
           "lon": [
            -72.1
           ],
           "marker": {
            "color": "#636efa",
            "size": [
             195.0
            ],
            "sizemode": "area",
            "sizeref": 0.95,
            "symbol": "circle"
           },
           "mode": "markers",
           "name": "",
           "showlegend": false,
           "type": "scattergeo"
          }
         ],
         "name": "2004:8:4:6"
        },
        {
         "data": [
          {
           "geo": "geo",
           "hovertemplate": "<b>%{hovertext}</b><br><br>time=2004:8:4:12<br>tropicalstorm_force_diameter=%{marker.size}<br>lat=%{lat}<br>long=%{lon}<extra></extra>",
           "hovertext": [
            "2004:8:4:12"
           ],
           "ids": [
            "Alex"
           ],
           "lat": [
            37.3
           ],
           "legendgroup": "",
           "lon": [
            -70.2
           ],
           "marker": {
            "color": "#636efa",
            "size": [
             195.0
            ],
            "sizemode": "area",
            "sizeref": 0.95,
            "symbol": "circle"
           },
           "mode": "markers",
           "name": "",
           "showlegend": false,
           "type": "scattergeo"
          }
         ],
         "name": "2004:8:4:12"
        },
        {
         "data": [
          {
           "geo": "geo",
           "hovertemplate": "<b>%{hovertext}</b><br><br>time=2004:8:4:18<br>tropicalstorm_force_diameter=%{marker.size}<br>lat=%{lat}<br>long=%{lon}<extra></extra>",
           "hovertext": [
            "2004:8:4:18"
           ],
           "ids": [
            "Alex"
           ],
           "lat": [
            37.8
           ],
           "legendgroup": "",
           "lon": [
            -68.3
           ],
           "marker": {
            "color": "#636efa",
            "size": [
             225.0
            ],
            "sizemode": "area",
            "sizeref": 0.95,
            "symbol": "circle"
           },
           "mode": "markers",
           "name": "",
           "showlegend": false,
           "type": "scattergeo"
          }
         ],
         "name": "2004:8:4:18"
        },
        {
         "data": [
          {
           "geo": "geo",
           "hovertemplate": "<b>%{hovertext}</b><br><br>time=2004:8:5:0<br>tropicalstorm_force_diameter=%{marker.size}<br>lat=%{lat}<br>long=%{lon}<extra></extra>",
           "hovertext": [
            "2004:8:5:0"
           ],
           "ids": [
            "Alex"
           ],
           "lat": [
            38.5
           ],
           "legendgroup": "",
           "lon": [
            -66.0
           ],
           "marker": {
            "color": "#636efa",
            "size": [
             225.0
            ],
            "sizemode": "area",
            "sizeref": 0.95,
            "symbol": "circle"
           },
           "mode": "markers",
           "name": "",
           "showlegend": false,
           "type": "scattergeo"
          }
         ],
         "name": "2004:8:5:0"
        },
        {
         "data": [
          {
           "geo": "geo",
           "hovertemplate": "<b>%{hovertext}</b><br><br>time=2004:8:5:6<br>tropicalstorm_force_diameter=%{marker.size}<br>lat=%{lat}<br>long=%{lon}<extra></extra>",
           "hovertext": [
            "2004:8:5:6"
           ],
           "ids": [
            "Alex"
           ],
           "lat": [
            39.5
           ],
           "legendgroup": "",
           "lon": [
            -63.1
           ],
           "marker": {
            "color": "#636efa",
            "size": [
             300.0
            ],
            "sizemode": "area",
            "sizeref": 0.95,
            "symbol": "circle"
           },
           "mode": "markers",
           "name": "",
           "showlegend": false,
           "type": "scattergeo"
          }
         ],
         "name": "2004:8:5:6"
        },
        {
         "data": [
          {
           "geo": "geo",
           "hovertemplate": "<b>%{hovertext}</b><br><br>time=2004:8:5:12<br>tropicalstorm_force_diameter=%{marker.size}<br>lat=%{lat}<br>long=%{lon}<extra></extra>",
           "hovertext": [
            "2004:8:5:12"
           ],
           "ids": [
            "Alex"
           ],
           "lat": [
            40.8
           ],
           "legendgroup": "",
           "lon": [
            -59.6
           ],
           "marker": {
            "color": "#636efa",
            "size": [
             380.0
            ],
            "sizemode": "area",
            "sizeref": 0.95,
            "symbol": "circle"
           },
           "mode": "markers",
           "name": "",
           "showlegend": false,
           "type": "scattergeo"
          }
         ],
         "name": "2004:8:5:12"
        },
        {
         "data": [
          {
           "geo": "geo",
           "hovertemplate": "<b>%{hovertext}</b><br><br>time=2004:8:5:18<br>tropicalstorm_force_diameter=%{marker.size}<br>lat=%{lat}<br>long=%{lon}<extra></extra>",
           "hovertext": [
            "2004:8:5:18"
           ],
           "ids": [
            "Alex"
           ],
           "lat": [
            42.7
           ],
           "legendgroup": "",
           "lon": [
            -55.0
           ],
           "marker": {
            "color": "#636efa",
            "size": [
             375.0
            ],
            "sizemode": "area",
            "sizeref": 0.95,
            "symbol": "circle"
           },
           "mode": "markers",
           "name": "",
           "showlegend": false,
           "type": "scattergeo"
          }
         ],
         "name": "2004:8:5:18"
        },
        {
         "data": [
          {
           "geo": "geo",
           "hovertemplate": "<b>%{hovertext}</b><br><br>time=2004:8:6:0<br>tropicalstorm_force_diameter=%{marker.size}<br>lat=%{lat}<br>long=%{lon}<extra></extra>",
           "hovertext": [
            "2004:8:6:0"
           ],
           "ids": [
            "Alex"
           ],
           "lat": [
            44.5
           ],
           "legendgroup": "",
           "lon": [
            -49.3
           ],
           "marker": {
            "color": "#636efa",
            "size": [
             375.0
            ],
            "sizemode": "area",
            "sizeref": 0.95,
            "symbol": "circle"
           },
           "mode": "markers",
           "name": "",
           "showlegend": false,
           "type": "scattergeo"
          }
         ],
         "name": "2004:8:6:0"
        },
        {
         "data": [
          {
           "geo": "geo",
           "hovertemplate": "<b>%{hovertext}</b><br><br>time=2004:8:6:6<br>tropicalstorm_force_diameter=%{marker.size}<br>lat=%{lat}<br>long=%{lon}<extra></extra>",
           "hovertext": [
            "2004:8:6:6"
           ],
           "ids": [
            "Alex"
           ],
           "lat": [
            46.1
           ],
           "legendgroup": "",
           "lon": [
            -44.2
           ],
           "marker": {
            "color": "#636efa",
            "size": [
             375.0
            ],
            "sizemode": "area",
            "sizeref": 0.95,
            "symbol": "circle"
           },
           "mode": "markers",
           "name": "",
           "showlegend": false,
           "type": "scattergeo"
          }
         ],
         "name": "2004:8:6:6"
        },
        {
         "data": [
          {
           "geo": "geo",
           "hovertemplate": "<b>%{hovertext}</b><br><br>time=2004:8:6:12<br>tropicalstorm_force_diameter=%{marker.size}<br>lat=%{lat}<br>long=%{lon}<extra></extra>",
           "hovertext": [
            "2004:8:6:12"
           ],
           "ids": [
            "Alex"
           ],
           "lat": [
            47.0
           ],
           "legendgroup": "",
           "lon": [
            -37.5
           ],
           "marker": {
            "color": "#636efa",
            "size": [
             375.0
            ],
            "sizemode": "area",
            "sizeref": 0.95,
            "symbol": "circle"
           },
           "mode": "markers",
           "name": "",
           "showlegend": false,
           "type": "scattergeo"
          }
         ],
         "name": "2004:8:6:12"
        }
       ],
       "config": {
        "plotlyServerURL": "https://plot.ly"
       }
      },
      "text/html": "<div>                            <div id=\"de645be6-1813-4fc8-a871-6e3758137560\" class=\"plotly-graph-div\" style=\"height:525px; width:100%;\"></div>            <script type=\"text/javascript\">                require([\"plotly\"], function(Plotly) {                    window.PLOTLYENV=window.PLOTLYENV || {};                                    if (document.getElementById(\"de645be6-1813-4fc8-a871-6e3758137560\")) {                    Plotly.newPlot(                        \"de645be6-1813-4fc8-a871-6e3758137560\",                        [{\"geo\":\"geo\",\"hovertemplate\":\"<b>%{hovertext}</b><br><br>time=2004:7:31:18<br>tropicalstorm_force_diameter=%{marker.size}<br>lat=%{lat}<br>long=%{lon}<extra></extra>\",\"hovertext\":[\"2004:7:31:18\"],\"ids\":[\"Alex\"],\"lat\":[30.3],\"legendgroup\":\"\",\"lon\":[-78.3],\"marker\":{\"color\":\"#636efa\",\"size\":[0.0],\"sizemode\":\"area\",\"sizeref\":0.95,\"symbol\":\"circle\"},\"mode\":\"markers\",\"name\":\"\",\"showlegend\":false,\"type\":\"scattergeo\"}],                        {\"template\":{\"data\":{\"histogram2dcontour\":[{\"type\":\"histogram2dcontour\",\"colorbar\":{\"outlinewidth\":0,\"ticks\":\"\"},\"colorscale\":[[0.0,\"#0d0887\"],[0.1111111111111111,\"#46039f\"],[0.2222222222222222,\"#7201a8\"],[0.3333333333333333,\"#9c179e\"],[0.4444444444444444,\"#bd3786\"],[0.5555555555555556,\"#d8576b\"],[0.6666666666666666,\"#ed7953\"],[0.7777777777777778,\"#fb9f3a\"],[0.8888888888888888,\"#fdca26\"],[1.0,\"#f0f921\"]]}],\"choropleth\":[{\"type\":\"choropleth\",\"colorbar\":{\"outlinewidth\":0,\"ticks\":\"\"}}],\"histogram2d\":[{\"type\":\"histogram2d\",\"colorbar\":{\"outlinewidth\":0,\"ticks\":\"\"},\"colorscale\":[[0.0,\"#0d0887\"],[0.1111111111111111,\"#46039f\"],[0.2222222222222222,\"#7201a8\"],[0.3333333333333333,\"#9c179e\"],[0.4444444444444444,\"#bd3786\"],[0.5555555555555556,\"#d8576b\"],[0.6666666666666666,\"#ed7953\"],[0.7777777777777778,\"#fb9f3a\"],[0.8888888888888888,\"#fdca26\"],[1.0,\"#f0f921\"]]}],\"heatmap\":[{\"type\":\"heatmap\",\"colorbar\":{\"outlinewidth\":0,\"ticks\":\"\"},\"colorscale\":[[0.0,\"#0d0887\"],[0.1111111111111111,\"#46039f\"],[0.2222222222222222,\"#7201a8\"],[0.3333333333333333,\"#9c179e\"],[0.4444444444444444,\"#bd3786\"],[0.5555555555555556,\"#d8576b\"],[0.6666666666666666,\"#ed7953\"],[0.7777777777777778,\"#fb9f3a\"],[0.8888888888888888,\"#fdca26\"],[1.0,\"#f0f921\"]]}],\"heatmapgl\":[{\"type\":\"heatmapgl\",\"colorbar\":{\"outlinewidth\":0,\"ticks\":\"\"},\"colorscale\":[[0.0,\"#0d0887\"],[0.1111111111111111,\"#46039f\"],[0.2222222222222222,\"#7201a8\"],[0.3333333333333333,\"#9c179e\"],[0.4444444444444444,\"#bd3786\"],[0.5555555555555556,\"#d8576b\"],[0.6666666666666666,\"#ed7953\"],[0.7777777777777778,\"#fb9f3a\"],[0.8888888888888888,\"#fdca26\"],[1.0,\"#f0f921\"]]}],\"contourcarpet\":[{\"type\":\"contourcarpet\",\"colorbar\":{\"outlinewidth\":0,\"ticks\":\"\"}}],\"contour\":[{\"type\":\"contour\",\"colorbar\":{\"outlinewidth\":0,\"ticks\":\"\"},\"colorscale\":[[0.0,\"#0d0887\"],[0.1111111111111111,\"#46039f\"],[0.2222222222222222,\"#7201a8\"],[0.3333333333333333,\"#9c179e\"],[0.4444444444444444,\"#bd3786\"],[0.5555555555555556,\"#d8576b\"],[0.6666666666666666,\"#ed7953\"],[0.7777777777777778,\"#fb9f3a\"],[0.8888888888888888,\"#fdca26\"],[1.0,\"#f0f921\"]]}],\"surface\":[{\"type\":\"surface\",\"colorbar\":{\"outlinewidth\":0,\"ticks\":\"\"},\"colorscale\":[[0.0,\"#0d0887\"],[0.1111111111111111,\"#46039f\"],[0.2222222222222222,\"#7201a8\"],[0.3333333333333333,\"#9c179e\"],[0.4444444444444444,\"#bd3786\"],[0.5555555555555556,\"#d8576b\"],[0.6666666666666666,\"#ed7953\"],[0.7777777777777778,\"#fb9f3a\"],[0.8888888888888888,\"#fdca26\"],[1.0,\"#f0f921\"]]}],\"mesh3d\":[{\"type\":\"mesh3d\",\"colorbar\":{\"outlinewidth\":0,\"ticks\":\"\"}}],\"scatter\":[{\"marker\":{\"line\":{\"color\":\"#283442\"}},\"type\":\"scatter\"}],\"parcoords\":[{\"type\":\"parcoords\",\"line\":{\"colorbar\":{\"outlinewidth\":0,\"ticks\":\"\"}}}],\"scatterpolargl\":[{\"type\":\"scatterpolargl\",\"marker\":{\"colorbar\":{\"outlinewidth\":0,\"ticks\":\"\"}}}],\"bar\":[{\"error_x\":{\"color\":\"#f2f5fa\"},\"error_y\":{\"color\":\"#f2f5fa\"},\"marker\":{\"line\":{\"color\":\"rgb(17,17,17)\",\"width\":0.5},\"pattern\":{\"fillmode\":\"overlay\",\"size\":10,\"solidity\":0.2}},\"type\":\"bar\"}],\"scattergeo\":[{\"type\":\"scattergeo\",\"marker\":{\"colorbar\":{\"outlinewidth\":0,\"ticks\":\"\"}}}],\"scatterpolar\":[{\"type\":\"scatterpolar\",\"marker\":{\"colorbar\":{\"outlinewidth\":0,\"ticks\":\"\"}}}],\"histogram\":[{\"marker\":{\"pattern\":{\"fillmode\":\"overlay\",\"size\":10,\"solidity\":0.2}},\"type\":\"histogram\"}],\"scattergl\":[{\"marker\":{\"line\":{\"color\":\"#283442\"}},\"type\":\"scattergl\"}],\"scatter3d\":[{\"type\":\"scatter3d\",\"line\":{\"colorbar\":{\"outlinewidth\":0,\"ticks\":\"\"}},\"marker\":{\"colorbar\":{\"outlinewidth\":0,\"ticks\":\"\"}}}],\"scattermapbox\":[{\"type\":\"scattermapbox\",\"marker\":{\"colorbar\":{\"outlinewidth\":0,\"ticks\":\"\"}}}],\"scatterternary\":[{\"type\":\"scatterternary\",\"marker\":{\"colorbar\":{\"outlinewidth\":0,\"ticks\":\"\"}}}],\"scattercarpet\":[{\"type\":\"scattercarpet\",\"marker\":{\"colorbar\":{\"outlinewidth\":0,\"ticks\":\"\"}}}],\"carpet\":[{\"aaxis\":{\"endlinecolor\":\"#A2B1C6\",\"gridcolor\":\"#506784\",\"linecolor\":\"#506784\",\"minorgridcolor\":\"#506784\",\"startlinecolor\":\"#A2B1C6\"},\"baxis\":{\"endlinecolor\":\"#A2B1C6\",\"gridcolor\":\"#506784\",\"linecolor\":\"#506784\",\"minorgridcolor\":\"#506784\",\"startlinecolor\":\"#A2B1C6\"},\"type\":\"carpet\"}],\"table\":[{\"cells\":{\"fill\":{\"color\":\"#506784\"},\"line\":{\"color\":\"rgb(17,17,17)\"}},\"header\":{\"fill\":{\"color\":\"#2a3f5f\"},\"line\":{\"color\":\"rgb(17,17,17)\"}},\"type\":\"table\"}],\"barpolar\":[{\"marker\":{\"line\":{\"color\":\"rgb(17,17,17)\",\"width\":0.5},\"pattern\":{\"fillmode\":\"overlay\",\"size\":10,\"solidity\":0.2}},\"type\":\"barpolar\"}],\"pie\":[{\"automargin\":true,\"type\":\"pie\"}]},\"layout\":{\"autotypenumbers\":\"strict\",\"colorway\":[\"#636efa\",\"#EF553B\",\"#00cc96\",\"#ab63fa\",\"#FFA15A\",\"#19d3f3\",\"#FF6692\",\"#B6E880\",\"#FF97FF\",\"#FECB52\"],\"font\":{\"color\":\"#f2f5fa\"},\"hovermode\":\"closest\",\"hoverlabel\":{\"align\":\"left\"},\"paper_bgcolor\":\"rgb(17,17,17)\",\"plot_bgcolor\":\"rgb(17,17,17)\",\"polar\":{\"bgcolor\":\"rgb(17,17,17)\",\"angularaxis\":{\"gridcolor\":\"#506784\",\"linecolor\":\"#506784\",\"ticks\":\"\"},\"radialaxis\":{\"gridcolor\":\"#506784\",\"linecolor\":\"#506784\",\"ticks\":\"\"}},\"ternary\":{\"bgcolor\":\"rgb(17,17,17)\",\"aaxis\":{\"gridcolor\":\"#506784\",\"linecolor\":\"#506784\",\"ticks\":\"\"},\"baxis\":{\"gridcolor\":\"#506784\",\"linecolor\":\"#506784\",\"ticks\":\"\"},\"caxis\":{\"gridcolor\":\"#506784\",\"linecolor\":\"#506784\",\"ticks\":\"\"}},\"coloraxis\":{\"colorbar\":{\"outlinewidth\":0,\"ticks\":\"\"}},\"colorscale\":{\"sequential\":[[0.0,\"#0d0887\"],[0.1111111111111111,\"#46039f\"],[0.2222222222222222,\"#7201a8\"],[0.3333333333333333,\"#9c179e\"],[0.4444444444444444,\"#bd3786\"],[0.5555555555555556,\"#d8576b\"],[0.6666666666666666,\"#ed7953\"],[0.7777777777777778,\"#fb9f3a\"],[0.8888888888888888,\"#fdca26\"],[1.0,\"#f0f921\"]],\"sequentialminus\":[[0.0,\"#0d0887\"],[0.1111111111111111,\"#46039f\"],[0.2222222222222222,\"#7201a8\"],[0.3333333333333333,\"#9c179e\"],[0.4444444444444444,\"#bd3786\"],[0.5555555555555556,\"#d8576b\"],[0.6666666666666666,\"#ed7953\"],[0.7777777777777778,\"#fb9f3a\"],[0.8888888888888888,\"#fdca26\"],[1.0,\"#f0f921\"]],\"diverging\":[[0,\"#8e0152\"],[0.1,\"#c51b7d\"],[0.2,\"#de77ae\"],[0.3,\"#f1b6da\"],[0.4,\"#fde0ef\"],[0.5,\"#f7f7f7\"],[0.6,\"#e6f5d0\"],[0.7,\"#b8e186\"],[0.8,\"#7fbc41\"],[0.9,\"#4d9221\"],[1,\"#276419\"]]},\"xaxis\":{\"gridcolor\":\"#283442\",\"linecolor\":\"#506784\",\"ticks\":\"\",\"title\":{\"standoff\":15},\"zerolinecolor\":\"#283442\",\"automargin\":true,\"zerolinewidth\":2},\"yaxis\":{\"gridcolor\":\"#283442\",\"linecolor\":\"#506784\",\"ticks\":\"\",\"title\":{\"standoff\":15},\"zerolinecolor\":\"#283442\",\"automargin\":true,\"zerolinewidth\":2},\"scene\":{\"xaxis\":{\"backgroundcolor\":\"rgb(17,17,17)\",\"gridcolor\":\"#506784\",\"linecolor\":\"#506784\",\"showbackground\":true,\"ticks\":\"\",\"zerolinecolor\":\"#C8D4E3\",\"gridwidth\":2},\"yaxis\":{\"backgroundcolor\":\"rgb(17,17,17)\",\"gridcolor\":\"#506784\",\"linecolor\":\"#506784\",\"showbackground\":true,\"ticks\":\"\",\"zerolinecolor\":\"#C8D4E3\",\"gridwidth\":2},\"zaxis\":{\"backgroundcolor\":\"rgb(17,17,17)\",\"gridcolor\":\"#506784\",\"linecolor\":\"#506784\",\"showbackground\":true,\"ticks\":\"\",\"zerolinecolor\":\"#C8D4E3\",\"gridwidth\":2}},\"shapedefaults\":{\"line\":{\"color\":\"#f2f5fa\"}},\"annotationdefaults\":{\"arrowcolor\":\"#f2f5fa\",\"arrowhead\":0,\"arrowwidth\":1},\"geo\":{\"bgcolor\":\"rgb(17,17,17)\",\"landcolor\":\"rgb(17,17,17)\",\"subunitcolor\":\"#506784\",\"showland\":true,\"showlakes\":true,\"lakecolor\":\"rgb(17,17,17)\"},\"title\":{\"x\":0.05},\"updatemenudefaults\":{\"bgcolor\":\"#506784\",\"borderwidth\":0},\"sliderdefaults\":{\"bgcolor\":\"#C8D4E3\",\"borderwidth\":1,\"bordercolor\":\"rgb(17,17,17)\",\"tickwidth\":0},\"mapbox\":{\"style\":\"dark\"}}},\"geo\":{\"domain\":{\"x\":[0.0,1.0],\"y\":[0.0,1.0]},\"center\":{}},\"legend\":{\"tracegroupgap\":0,\"itemsizing\":\"constant\"},\"margin\":{\"t\":60},\"updatemenus\":[{\"buttons\":[{\"args\":[null,{\"frame\":{\"duration\":500,\"redraw\":true},\"mode\":\"immediate\",\"fromcurrent\":true,\"transition\":{\"duration\":500,\"easing\":\"linear\"}}],\"label\":\"&#9654;\",\"method\":\"animate\"},{\"args\":[[null],{\"frame\":{\"duration\":0,\"redraw\":true},\"mode\":\"immediate\",\"fromcurrent\":true,\"transition\":{\"duration\":0,\"easing\":\"linear\"}}],\"label\":\"&#9724;\",\"method\":\"animate\"}],\"direction\":\"left\",\"pad\":{\"r\":10,\"t\":70},\"showactive\":false,\"type\":\"buttons\",\"x\":0.1,\"xanchor\":\"right\",\"y\":0,\"yanchor\":\"top\"}],\"sliders\":[{\"active\":0,\"currentvalue\":{\"prefix\":\"time=\"},\"len\":0.9,\"pad\":{\"b\":10,\"t\":60},\"steps\":[{\"args\":[[\"2004:7:31:18\"],{\"frame\":{\"duration\":0,\"redraw\":true},\"mode\":\"immediate\",\"fromcurrent\":true,\"transition\":{\"duration\":0,\"easing\":\"linear\"}}],\"label\":\"2004:7:31:18\",\"method\":\"animate\"},{\"args\":[[\"2004:8:1:0\"],{\"frame\":{\"duration\":0,\"redraw\":true},\"mode\":\"immediate\",\"fromcurrent\":true,\"transition\":{\"duration\":0,\"easing\":\"linear\"}}],\"label\":\"2004:8:1:0\",\"method\":\"animate\"},{\"args\":[[\"2004:8:1:6\"],{\"frame\":{\"duration\":0,\"redraw\":true},\"mode\":\"immediate\",\"fromcurrent\":true,\"transition\":{\"duration\":0,\"easing\":\"linear\"}}],\"label\":\"2004:8:1:6\",\"method\":\"animate\"},{\"args\":[[\"2004:8:1:12\"],{\"frame\":{\"duration\":0,\"redraw\":true},\"mode\":\"immediate\",\"fromcurrent\":true,\"transition\":{\"duration\":0,\"easing\":\"linear\"}}],\"label\":\"2004:8:1:12\",\"method\":\"animate\"},{\"args\":[[\"2004:8:1:18\"],{\"frame\":{\"duration\":0,\"redraw\":true},\"mode\":\"immediate\",\"fromcurrent\":true,\"transition\":{\"duration\":0,\"easing\":\"linear\"}}],\"label\":\"2004:8:1:18\",\"method\":\"animate\"},{\"args\":[[\"2004:8:2:0\"],{\"frame\":{\"duration\":0,\"redraw\":true},\"mode\":\"immediate\",\"fromcurrent\":true,\"transition\":{\"duration\":0,\"easing\":\"linear\"}}],\"label\":\"2004:8:2:0\",\"method\":\"animate\"},{\"args\":[[\"2004:8:2:6\"],{\"frame\":{\"duration\":0,\"redraw\":true},\"mode\":\"immediate\",\"fromcurrent\":true,\"transition\":{\"duration\":0,\"easing\":\"linear\"}}],\"label\":\"2004:8:2:6\",\"method\":\"animate\"},{\"args\":[[\"2004:8:2:12\"],{\"frame\":{\"duration\":0,\"redraw\":true},\"mode\":\"immediate\",\"fromcurrent\":true,\"transition\":{\"duration\":0,\"easing\":\"linear\"}}],\"label\":\"2004:8:2:12\",\"method\":\"animate\"},{\"args\":[[\"2004:8:2:18\"],{\"frame\":{\"duration\":0,\"redraw\":true},\"mode\":\"immediate\",\"fromcurrent\":true,\"transition\":{\"duration\":0,\"easing\":\"linear\"}}],\"label\":\"2004:8:2:18\",\"method\":\"animate\"},{\"args\":[[\"2004:8:3:0\"],{\"frame\":{\"duration\":0,\"redraw\":true},\"mode\":\"immediate\",\"fromcurrent\":true,\"transition\":{\"duration\":0,\"easing\":\"linear\"}}],\"label\":\"2004:8:3:0\",\"method\":\"animate\"},{\"args\":[[\"2004:8:3:6\"],{\"frame\":{\"duration\":0,\"redraw\":true},\"mode\":\"immediate\",\"fromcurrent\":true,\"transition\":{\"duration\":0,\"easing\":\"linear\"}}],\"label\":\"2004:8:3:6\",\"method\":\"animate\"},{\"args\":[[\"2004:8:3:12\"],{\"frame\":{\"duration\":0,\"redraw\":true},\"mode\":\"immediate\",\"fromcurrent\":true,\"transition\":{\"duration\":0,\"easing\":\"linear\"}}],\"label\":\"2004:8:3:12\",\"method\":\"animate\"},{\"args\":[[\"2004:8:3:18\"],{\"frame\":{\"duration\":0,\"redraw\":true},\"mode\":\"immediate\",\"fromcurrent\":true,\"transition\":{\"duration\":0,\"easing\":\"linear\"}}],\"label\":\"2004:8:3:18\",\"method\":\"animate\"},{\"args\":[[\"2004:8:4:0\"],{\"frame\":{\"duration\":0,\"redraw\":true},\"mode\":\"immediate\",\"fromcurrent\":true,\"transition\":{\"duration\":0,\"easing\":\"linear\"}}],\"label\":\"2004:8:4:0\",\"method\":\"animate\"},{\"args\":[[\"2004:8:4:6\"],{\"frame\":{\"duration\":0,\"redraw\":true},\"mode\":\"immediate\",\"fromcurrent\":true,\"transition\":{\"duration\":0,\"easing\":\"linear\"}}],\"label\":\"2004:8:4:6\",\"method\":\"animate\"},{\"args\":[[\"2004:8:4:12\"],{\"frame\":{\"duration\":0,\"redraw\":true},\"mode\":\"immediate\",\"fromcurrent\":true,\"transition\":{\"duration\":0,\"easing\":\"linear\"}}],\"label\":\"2004:8:4:12\",\"method\":\"animate\"},{\"args\":[[\"2004:8:4:18\"],{\"frame\":{\"duration\":0,\"redraw\":true},\"mode\":\"immediate\",\"fromcurrent\":true,\"transition\":{\"duration\":0,\"easing\":\"linear\"}}],\"label\":\"2004:8:4:18\",\"method\":\"animate\"},{\"args\":[[\"2004:8:5:0\"],{\"frame\":{\"duration\":0,\"redraw\":true},\"mode\":\"immediate\",\"fromcurrent\":true,\"transition\":{\"duration\":0,\"easing\":\"linear\"}}],\"label\":\"2004:8:5:0\",\"method\":\"animate\"},{\"args\":[[\"2004:8:5:6\"],{\"frame\":{\"duration\":0,\"redraw\":true},\"mode\":\"immediate\",\"fromcurrent\":true,\"transition\":{\"duration\":0,\"easing\":\"linear\"}}],\"label\":\"2004:8:5:6\",\"method\":\"animate\"},{\"args\":[[\"2004:8:5:12\"],{\"frame\":{\"duration\":0,\"redraw\":true},\"mode\":\"immediate\",\"fromcurrent\":true,\"transition\":{\"duration\":0,\"easing\":\"linear\"}}],\"label\":\"2004:8:5:12\",\"method\":\"animate\"},{\"args\":[[\"2004:8:5:18\"],{\"frame\":{\"duration\":0,\"redraw\":true},\"mode\":\"immediate\",\"fromcurrent\":true,\"transition\":{\"duration\":0,\"easing\":\"linear\"}}],\"label\":\"2004:8:5:18\",\"method\":\"animate\"},{\"args\":[[\"2004:8:6:0\"],{\"frame\":{\"duration\":0,\"redraw\":true},\"mode\":\"immediate\",\"fromcurrent\":true,\"transition\":{\"duration\":0,\"easing\":\"linear\"}}],\"label\":\"2004:8:6:0\",\"method\":\"animate\"},{\"args\":[[\"2004:8:6:6\"],{\"frame\":{\"duration\":0,\"redraw\":true},\"mode\":\"immediate\",\"fromcurrent\":true,\"transition\":{\"duration\":0,\"easing\":\"linear\"}}],\"label\":\"2004:8:6:6\",\"method\":\"animate\"},{\"args\":[[\"2004:8:6:12\"],{\"frame\":{\"duration\":0,\"redraw\":true},\"mode\":\"immediate\",\"fromcurrent\":true,\"transition\":{\"duration\":0,\"easing\":\"linear\"}}],\"label\":\"2004:8:6:12\",\"method\":\"animate\"}],\"x\":0.1,\"xanchor\":\"left\",\"y\":0,\"yanchor\":\"top\"}]},                        {\"responsive\": true}                    ).then(function(){\n                            Plotly.addFrames('de645be6-1813-4fc8-a871-6e3758137560', [{\"data\":[{\"geo\":\"geo\",\"hovertemplate\":\"<b>%{hovertext}</b><br><br>time=2004:7:31:18<br>tropicalstorm_force_diameter=%{marker.size}<br>lat=%{lat}<br>long=%{lon}<extra></extra>\",\"hovertext\":[\"2004:7:31:18\"],\"ids\":[\"Alex\"],\"lat\":[30.3],\"legendgroup\":\"\",\"lon\":[-78.3],\"marker\":{\"color\":\"#636efa\",\"size\":[0.0],\"sizemode\":\"area\",\"sizeref\":0.95,\"symbol\":\"circle\"},\"mode\":\"markers\",\"name\":\"\",\"showlegend\":false,\"type\":\"scattergeo\"}],\"name\":\"2004:7:31:18\"},{\"data\":[{\"geo\":\"geo\",\"hovertemplate\":\"<b>%{hovertext}</b><br><br>time=2004:8:1:0<br>tropicalstorm_force_diameter=%{marker.size}<br>lat=%{lat}<br>long=%{lon}<extra></extra>\",\"hovertext\":[\"2004:8:1:0\"],\"ids\":[\"Alex\"],\"lat\":[31.0],\"legendgroup\":\"\",\"lon\":[-78.8],\"marker\":{\"color\":\"#636efa\",\"size\":[0.0],\"sizemode\":\"area\",\"sizeref\":0.95,\"symbol\":\"circle\"},\"mode\":\"markers\",\"name\":\"\",\"showlegend\":false,\"type\":\"scattergeo\"}],\"name\":\"2004:8:1:0\"},{\"data\":[{\"geo\":\"geo\",\"hovertemplate\":\"<b>%{hovertext}</b><br><br>time=2004:8:1:6<br>tropicalstorm_force_diameter=%{marker.size}<br>lat=%{lat}<br>long=%{lon}<extra></extra>\",\"hovertext\":[\"2004:8:1:6\"],\"ids\":[\"Alex\"],\"lat\":[31.5],\"legendgroup\":\"\",\"lon\":[-79.0],\"marker\":{\"color\":\"#636efa\",\"size\":[0.0],\"sizemode\":\"area\",\"sizeref\":0.95,\"symbol\":\"circle\"},\"mode\":\"markers\",\"name\":\"\",\"showlegend\":false,\"type\":\"scattergeo\"}],\"name\":\"2004:8:1:6\"},{\"data\":[{\"geo\":\"geo\",\"hovertemplate\":\"<b>%{hovertext}</b><br><br>time=2004:8:1:12<br>tropicalstorm_force_diameter=%{marker.size}<br>lat=%{lat}<br>long=%{lon}<extra></extra>\",\"hovertext\":[\"2004:8:1:12\"],\"ids\":[\"Alex\"],\"lat\":[31.6],\"legendgroup\":\"\",\"lon\":[-79.1],\"marker\":{\"color\":\"#636efa\",\"size\":[0.0],\"sizemode\":\"area\",\"sizeref\":0.95,\"symbol\":\"circle\"},\"mode\":\"markers\",\"name\":\"\",\"showlegend\":false,\"type\":\"scattergeo\"}],\"name\":\"2004:8:1:12\"},{\"data\":[{\"geo\":\"geo\",\"hovertemplate\":\"<b>%{hovertext}</b><br><br>time=2004:8:1:18<br>tropicalstorm_force_diameter=%{marker.size}<br>lat=%{lat}<br>long=%{lon}<extra></extra>\",\"hovertext\":[\"2004:8:1:18\"],\"ids\":[\"Alex\"],\"lat\":[31.6],\"legendgroup\":\"\",\"lon\":[-79.2],\"marker\":{\"color\":\"#636efa\",\"size\":[50.0],\"sizemode\":\"area\",\"sizeref\":0.95,\"symbol\":\"circle\"},\"mode\":\"markers\",\"name\":\"\",\"showlegend\":false,\"type\":\"scattergeo\"}],\"name\":\"2004:8:1:18\"},{\"data\":[{\"geo\":\"geo\",\"hovertemplate\":\"<b>%{hovertext}</b><br><br>time=2004:8:2:0<br>tropicalstorm_force_diameter=%{marker.size}<br>lat=%{lat}<br>long=%{lon}<extra></extra>\",\"hovertext\":[\"2004:8:2:0\"],\"ids\":[\"Alex\"],\"lat\":[31.5],\"legendgroup\":\"\",\"lon\":[-79.3],\"marker\":{\"color\":\"#636efa\",\"size\":[50.0],\"sizemode\":\"area\",\"sizeref\":0.95,\"symbol\":\"circle\"},\"mode\":\"markers\",\"name\":\"\",\"showlegend\":false,\"type\":\"scattergeo\"}],\"name\":\"2004:8:2:0\"},{\"data\":[{\"geo\":\"geo\",\"hovertemplate\":\"<b>%{hovertext}</b><br><br>time=2004:8:2:6<br>tropicalstorm_force_diameter=%{marker.size}<br>lat=%{lat}<br>long=%{lon}<extra></extra>\",\"hovertext\":[\"2004:8:2:6\"],\"ids\":[\"Alex\"],\"lat\":[31.4],\"legendgroup\":\"\",\"lon\":[-79.4],\"marker\":{\"color\":\"#636efa\",\"size\":[150.0],\"sizemode\":\"area\",\"sizeref\":0.95,\"symbol\":\"circle\"},\"mode\":\"markers\",\"name\":\"\",\"showlegend\":false,\"type\":\"scattergeo\"}],\"name\":\"2004:8:2:6\"},{\"data\":[{\"geo\":\"geo\",\"hovertemplate\":\"<b>%{hovertext}</b><br><br>time=2004:8:2:12<br>tropicalstorm_force_diameter=%{marker.size}<br>lat=%{lat}<br>long=%{lon}<extra></extra>\",\"hovertext\":[\"2004:8:2:12\"],\"ids\":[\"Alex\"],\"lat\":[31.3],\"legendgroup\":\"\",\"lon\":[-79.0],\"marker\":{\"color\":\"#636efa\",\"size\":[135.0],\"sizemode\":\"area\",\"sizeref\":0.95,\"symbol\":\"circle\"},\"mode\":\"markers\",\"name\":\"\",\"showlegend\":false,\"type\":\"scattergeo\"}],\"name\":\"2004:8:2:12\"},{\"data\":[{\"geo\":\"geo\",\"hovertemplate\":\"<b>%{hovertext}</b><br><br>time=2004:8:2:18<br>tropicalstorm_force_diameter=%{marker.size}<br>lat=%{lat}<br>long=%{lon}<extra></extra>\",\"hovertext\":[\"2004:8:2:18\"],\"ids\":[\"Alex\"],\"lat\":[31.8],\"legendgroup\":\"\",\"lon\":[-78.7],\"marker\":{\"color\":\"#636efa\",\"size\":[125.0],\"sizemode\":\"area\",\"sizeref\":0.95,\"symbol\":\"circle\"},\"mode\":\"markers\",\"name\":\"\",\"showlegend\":false,\"type\":\"scattergeo\"}],\"name\":\"2004:8:2:18\"},{\"data\":[{\"geo\":\"geo\",\"hovertemplate\":\"<b>%{hovertext}</b><br><br>time=2004:8:3:0<br>tropicalstorm_force_diameter=%{marker.size}<br>lat=%{lat}<br>long=%{lon}<extra></extra>\",\"hovertext\":[\"2004:8:3:0\"],\"ids\":[\"Alex\"],\"lat\":[32.4],\"legendgroup\":\"\",\"lon\":[-78.2],\"marker\":{\"color\":\"#636efa\",\"size\":[125.0],\"sizemode\":\"area\",\"sizeref\":0.95,\"symbol\":\"circle\"},\"mode\":\"markers\",\"name\":\"\",\"showlegend\":false,\"type\":\"scattergeo\"}],\"name\":\"2004:8:3:0\"},{\"data\":[{\"geo\":\"geo\",\"hovertemplate\":\"<b>%{hovertext}</b><br><br>time=2004:8:3:6<br>tropicalstorm_force_diameter=%{marker.size}<br>lat=%{lat}<br>long=%{lon}<extra></extra>\",\"hovertext\":[\"2004:8:3:6\"],\"ids\":[\"Alex\"],\"lat\":[33.0],\"legendgroup\":\"\",\"lon\":[-77.4],\"marker\":{\"color\":\"#636efa\",\"size\":[130.0],\"sizemode\":\"area\",\"sizeref\":0.95,\"symbol\":\"circle\"},\"mode\":\"markers\",\"name\":\"\",\"showlegend\":false,\"type\":\"scattergeo\"}],\"name\":\"2004:8:3:6\"},{\"data\":[{\"geo\":\"geo\",\"hovertemplate\":\"<b>%{hovertext}</b><br><br>time=2004:8:3:12<br>tropicalstorm_force_diameter=%{marker.size}<br>lat=%{lat}<br>long=%{lon}<extra></extra>\",\"hovertext\":[\"2004:8:3:12\"],\"ids\":[\"Alex\"],\"lat\":[34.2],\"legendgroup\":\"\",\"lon\":[-76.4],\"marker\":{\"color\":\"#636efa\",\"size\":[130.0],\"sizemode\":\"area\",\"sizeref\":0.95,\"symbol\":\"circle\"},\"mode\":\"markers\",\"name\":\"\",\"showlegend\":false,\"type\":\"scattergeo\"}],\"name\":\"2004:8:3:12\"},{\"data\":[{\"geo\":\"geo\",\"hovertemplate\":\"<b>%{hovertext}</b><br><br>time=2004:8:3:18<br>tropicalstorm_force_diameter=%{marker.size}<br>lat=%{lat}<br>long=%{lon}<extra></extra>\",\"hovertext\":[\"2004:8:3:18\"],\"ids\":[\"Alex\"],\"lat\":[35.3],\"legendgroup\":\"\",\"lon\":[-75.2],\"marker\":{\"color\":\"#636efa\",\"size\":[165.0],\"sizemode\":\"area\",\"sizeref\":0.95,\"symbol\":\"circle\"},\"mode\":\"markers\",\"name\":\"\",\"showlegend\":false,\"type\":\"scattergeo\"}],\"name\":\"2004:8:3:18\"},{\"data\":[{\"geo\":\"geo\",\"hovertemplate\":\"<b>%{hovertext}</b><br><br>time=2004:8:4:0<br>tropicalstorm_force_diameter=%{marker.size}<br>lat=%{lat}<br>long=%{lon}<extra></extra>\",\"hovertext\":[\"2004:8:4:0\"],\"ids\":[\"Alex\"],\"lat\":[36.0],\"legendgroup\":\"\",\"lon\":[-73.7],\"marker\":{\"color\":\"#636efa\",\"size\":[155.0],\"sizemode\":\"area\",\"sizeref\":0.95,\"symbol\":\"circle\"},\"mode\":\"markers\",\"name\":\"\",\"showlegend\":false,\"type\":\"scattergeo\"}],\"name\":\"2004:8:4:0\"},{\"data\":[{\"geo\":\"geo\",\"hovertemplate\":\"<b>%{hovertext}</b><br><br>time=2004:8:4:6<br>tropicalstorm_force_diameter=%{marker.size}<br>lat=%{lat}<br>long=%{lon}<extra></extra>\",\"hovertext\":[\"2004:8:4:6\"],\"ids\":[\"Alex\"],\"lat\":[36.8],\"legendgroup\":\"\",\"lon\":[-72.1],\"marker\":{\"color\":\"#636efa\",\"size\":[195.0],\"sizemode\":\"area\",\"sizeref\":0.95,\"symbol\":\"circle\"},\"mode\":\"markers\",\"name\":\"\",\"showlegend\":false,\"type\":\"scattergeo\"}],\"name\":\"2004:8:4:6\"},{\"data\":[{\"geo\":\"geo\",\"hovertemplate\":\"<b>%{hovertext}</b><br><br>time=2004:8:4:12<br>tropicalstorm_force_diameter=%{marker.size}<br>lat=%{lat}<br>long=%{lon}<extra></extra>\",\"hovertext\":[\"2004:8:4:12\"],\"ids\":[\"Alex\"],\"lat\":[37.3],\"legendgroup\":\"\",\"lon\":[-70.2],\"marker\":{\"color\":\"#636efa\",\"size\":[195.0],\"sizemode\":\"area\",\"sizeref\":0.95,\"symbol\":\"circle\"},\"mode\":\"markers\",\"name\":\"\",\"showlegend\":false,\"type\":\"scattergeo\"}],\"name\":\"2004:8:4:12\"},{\"data\":[{\"geo\":\"geo\",\"hovertemplate\":\"<b>%{hovertext}</b><br><br>time=2004:8:4:18<br>tropicalstorm_force_diameter=%{marker.size}<br>lat=%{lat}<br>long=%{lon}<extra></extra>\",\"hovertext\":[\"2004:8:4:18\"],\"ids\":[\"Alex\"],\"lat\":[37.8],\"legendgroup\":\"\",\"lon\":[-68.3],\"marker\":{\"color\":\"#636efa\",\"size\":[225.0],\"sizemode\":\"area\",\"sizeref\":0.95,\"symbol\":\"circle\"},\"mode\":\"markers\",\"name\":\"\",\"showlegend\":false,\"type\":\"scattergeo\"}],\"name\":\"2004:8:4:18\"},{\"data\":[{\"geo\":\"geo\",\"hovertemplate\":\"<b>%{hovertext}</b><br><br>time=2004:8:5:0<br>tropicalstorm_force_diameter=%{marker.size}<br>lat=%{lat}<br>long=%{lon}<extra></extra>\",\"hovertext\":[\"2004:8:5:0\"],\"ids\":[\"Alex\"],\"lat\":[38.5],\"legendgroup\":\"\",\"lon\":[-66.0],\"marker\":{\"color\":\"#636efa\",\"size\":[225.0],\"sizemode\":\"area\",\"sizeref\":0.95,\"symbol\":\"circle\"},\"mode\":\"markers\",\"name\":\"\",\"showlegend\":false,\"type\":\"scattergeo\"}],\"name\":\"2004:8:5:0\"},{\"data\":[{\"geo\":\"geo\",\"hovertemplate\":\"<b>%{hovertext}</b><br><br>time=2004:8:5:6<br>tropicalstorm_force_diameter=%{marker.size}<br>lat=%{lat}<br>long=%{lon}<extra></extra>\",\"hovertext\":[\"2004:8:5:6\"],\"ids\":[\"Alex\"],\"lat\":[39.5],\"legendgroup\":\"\",\"lon\":[-63.1],\"marker\":{\"color\":\"#636efa\",\"size\":[300.0],\"sizemode\":\"area\",\"sizeref\":0.95,\"symbol\":\"circle\"},\"mode\":\"markers\",\"name\":\"\",\"showlegend\":false,\"type\":\"scattergeo\"}],\"name\":\"2004:8:5:6\"},{\"data\":[{\"geo\":\"geo\",\"hovertemplate\":\"<b>%{hovertext}</b><br><br>time=2004:8:5:12<br>tropicalstorm_force_diameter=%{marker.size}<br>lat=%{lat}<br>long=%{lon}<extra></extra>\",\"hovertext\":[\"2004:8:5:12\"],\"ids\":[\"Alex\"],\"lat\":[40.8],\"legendgroup\":\"\",\"lon\":[-59.6],\"marker\":{\"color\":\"#636efa\",\"size\":[380.0],\"sizemode\":\"area\",\"sizeref\":0.95,\"symbol\":\"circle\"},\"mode\":\"markers\",\"name\":\"\",\"showlegend\":false,\"type\":\"scattergeo\"}],\"name\":\"2004:8:5:12\"},{\"data\":[{\"geo\":\"geo\",\"hovertemplate\":\"<b>%{hovertext}</b><br><br>time=2004:8:5:18<br>tropicalstorm_force_diameter=%{marker.size}<br>lat=%{lat}<br>long=%{lon}<extra></extra>\",\"hovertext\":[\"2004:8:5:18\"],\"ids\":[\"Alex\"],\"lat\":[42.7],\"legendgroup\":\"\",\"lon\":[-55.0],\"marker\":{\"color\":\"#636efa\",\"size\":[375.0],\"sizemode\":\"area\",\"sizeref\":0.95,\"symbol\":\"circle\"},\"mode\":\"markers\",\"name\":\"\",\"showlegend\":false,\"type\":\"scattergeo\"}],\"name\":\"2004:8:5:18\"},{\"data\":[{\"geo\":\"geo\",\"hovertemplate\":\"<b>%{hovertext}</b><br><br>time=2004:8:6:0<br>tropicalstorm_force_diameter=%{marker.size}<br>lat=%{lat}<br>long=%{lon}<extra></extra>\",\"hovertext\":[\"2004:8:6:0\"],\"ids\":[\"Alex\"],\"lat\":[44.5],\"legendgroup\":\"\",\"lon\":[-49.3],\"marker\":{\"color\":\"#636efa\",\"size\":[375.0],\"sizemode\":\"area\",\"sizeref\":0.95,\"symbol\":\"circle\"},\"mode\":\"markers\",\"name\":\"\",\"showlegend\":false,\"type\":\"scattergeo\"}],\"name\":\"2004:8:6:0\"},{\"data\":[{\"geo\":\"geo\",\"hovertemplate\":\"<b>%{hovertext}</b><br><br>time=2004:8:6:6<br>tropicalstorm_force_diameter=%{marker.size}<br>lat=%{lat}<br>long=%{lon}<extra></extra>\",\"hovertext\":[\"2004:8:6:6\"],\"ids\":[\"Alex\"],\"lat\":[46.1],\"legendgroup\":\"\",\"lon\":[-44.2],\"marker\":{\"color\":\"#636efa\",\"size\":[375.0],\"sizemode\":\"area\",\"sizeref\":0.95,\"symbol\":\"circle\"},\"mode\":\"markers\",\"name\":\"\",\"showlegend\":false,\"type\":\"scattergeo\"}],\"name\":\"2004:8:6:6\"},{\"data\":[{\"geo\":\"geo\",\"hovertemplate\":\"<b>%{hovertext}</b><br><br>time=2004:8:6:12<br>tropicalstorm_force_diameter=%{marker.size}<br>lat=%{lat}<br>long=%{lon}<extra></extra>\",\"hovertext\":[\"2004:8:6:12\"],\"ids\":[\"Alex\"],\"lat\":[47.0],\"legendgroup\":\"\",\"lon\":[-37.5],\"marker\":{\"color\":\"#636efa\",\"size\":[375.0],\"sizemode\":\"area\",\"sizeref\":0.95,\"symbol\":\"circle\"},\"mode\":\"markers\",\"name\":\"\",\"showlegend\":false,\"type\":\"scattergeo\"}],\"name\":\"2004:8:6:12\"}]);\n                        }).then(function(){\n                            \nvar gd = document.getElementById('de645be6-1813-4fc8-a871-6e3758137560');\nvar x = new MutationObserver(function (mutations, observer) {{\n        var display = window.getComputedStyle(gd).display;\n        if (!display || display === 'none') {{\n            console.log([gd, 'removed!']);\n            Plotly.purge(gd);\n            observer.disconnect();\n        }}\n}});\n\n// Listen for the removal of the full notebook cells\nvar notebookContainer = gd.closest('#notebook-container');\nif (notebookContainer) {{\n    x.observe(notebookContainer, {childList: true});\n}}\n\n// Listen for the clearing of the current output cell\nvar outputEl = gd.closest('.output');\nif (outputEl) {{\n    x.observe(outputEl, {childList: true});\n}}\n\n                        })                };                });            </script>        </div>"
     },
     "metadata": {},
     "output_type": "display_data"
    }
   ],
   "source": [
    "import plotly.express as px\n",
    "\n",
    "fig = px.scatter_geo(alex, lat=\"lat\", lon=\"long\", hover_name=\"time\", size=\"tropicalstorm_force_diameter\", animation_frame=\"time\", animation_group=\"name\")\n",
    "fig.show()\n",
    "\n",
    "# fig = px.scatter_geo(storms, lat=\"lat\", lon=\"long\", size=\"tropicalstorm_force_diameter\", color=\"name\")\n",
    "# fig.show()"
   ],
   "metadata": {
    "collapsed": false,
    "pycharm": {
     "name": "#%%\n"
    }
   }
  }
 ],
 "metadata": {
  "kernelspec": {
   "display_name": "Python 3 (ipykernel)",
   "language": "python",
   "name": "python3"
  },
  "language_info": {
   "codemirror_mode": {
    "name": "ipython",
    "version": 3
   },
   "file_extension": ".py",
   "mimetype": "text/x-python",
   "name": "python",
   "nbconvert_exporter": "python",
   "pygments_lexer": "ipython3",
   "version": "3.9.7"
  }
 },
 "nbformat": 4,
 "nbformat_minor": 5
}