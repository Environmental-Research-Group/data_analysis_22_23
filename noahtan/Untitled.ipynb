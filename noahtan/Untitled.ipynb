{
 "cells": [
  {
   "cell_type": "code",
   "execution_count": 2,
   "id": "f3ec98c5",
   "metadata": {},
   "outputs": [],
   "source": [
    "import numpy as np\n",
    "import pandas as pd\n",
    "import matplotlib.pyplot as plt"
   ]
  },
  {
   "cell_type": "code",
   "execution_count": 3,
   "id": "eee289dd",
   "metadata": {},
   "outputs": [],
   "source": [
    "df = pd.read_csv(\"Results.csv\")"
   ]
  },
  {
   "cell_type": "code",
   "execution_count": 4,
   "id": "ade4ef61",
   "metadata": {},
   "outputs": [
    {
     "name": "stderr",
     "output_type": "stream",
     "text": [
      "C:\\Users\\tnatn\\AppData\\Local\\Temp\\ipykernel_9156\\3568273333.py:4: SettingWithCopyWarning: \n",
      "A value is trying to be set on a copy of a slice from a DataFrame\n",
      "\n",
      "See the caveats in the documentation: https://pandas.pydata.org/pandas-docs/stable/user_guide/indexing.html#returning-a-view-versus-a-copy\n",
      "  df[a][b] = 0\n"
     ]
    },
    {
     "data": {
      "text/html": [
       "<div>\n",
       "<style scoped>\n",
       "    .dataframe tbody tr th:only-of-type {\n",
       "        vertical-align: middle;\n",
       "    }\n",
       "\n",
       "    .dataframe tbody tr th {\n",
       "        vertical-align: top;\n",
       "    }\n",
       "\n",
       "    .dataframe thead th {\n",
       "        text-align: right;\n",
       "    }\n",
       "</style>\n",
       "<table border=\"1\" class=\"dataframe\">\n",
       "  <thead>\n",
       "    <tr style=\"text-align: right;\">\n",
       "      <th></th>\n",
       "      <th>Identity</th>\n",
       "      <th>Date Sampled</th>\n",
       "      <th>Address</th>\n",
       "      <th>Draw1</th>\n",
       "      <th>Draw2</th>\n",
       "      <th>Draw3</th>\n",
       "      <th>Draw4</th>\n",
       "      <th>Draw5</th>\n",
       "      <th>Draw6</th>\n",
       "      <th>Draw7</th>\n",
       "      <th>Draw8</th>\n",
       "      <th>Draw9</th>\n",
       "      <th>Draw10</th>\n",
       "      <th>Draw11</th>\n",
       "      <th>Minute3</th>\n",
       "      <th>Minute5</th>\n",
       "      <th>Minute7</th>\n",
       "      <th>Minute10</th>\n",
       "      <th>Minute15</th>\n",
       "      <th>Minute20</th>\n",
       "    </tr>\n",
       "  </thead>\n",
       "  <tbody>\n",
       "    <tr>\n",
       "      <th>0</th>\n",
       "      <td>1</td>\n",
       "      <td>0</td>\n",
       "      <td>0</td>\n",
       "      <td>1.52</td>\n",
       "      <td>1.37</td>\n",
       "      <td>1.59</td>\n",
       "      <td>2.53</td>\n",
       "      <td>0</td>\n",
       "      <td>0</td>\n",
       "      <td>0</td>\n",
       "      <td>0</td>\n",
       "      <td>0</td>\n",
       "      <td>0</td>\n",
       "      <td>0</td>\n",
       "      <td>0</td>\n",
       "      <td>NaN</td>\n",
       "      <td>NaN</td>\n",
       "      <td>NaN</td>\n",
       "      <td>NaN</td>\n",
       "      <td>NaN</td>\n",
       "    </tr>\n",
       "    <tr>\n",
       "      <th>1</th>\n",
       "      <td>2</td>\n",
       "      <td>0</td>\n",
       "      <td>0</td>\n",
       "      <td>3.70</td>\n",
       "      <td>2.62</td>\n",
       "      <td>8.83</td>\n",
       "      <td>13.80</td>\n",
       "      <td>0</td>\n",
       "      <td>0</td>\n",
       "      <td>0</td>\n",
       "      <td>0</td>\n",
       "      <td>0</td>\n",
       "      <td>0</td>\n",
       "      <td>0</td>\n",
       "      <td>0</td>\n",
       "      <td>NaN</td>\n",
       "      <td>NaN</td>\n",
       "      <td>NaN</td>\n",
       "      <td>NaN</td>\n",
       "      <td>NaN</td>\n",
       "    </tr>\n",
       "    <tr>\n",
       "      <th>2</th>\n",
       "      <td>3</td>\n",
       "      <td>0</td>\n",
       "      <td>0</td>\n",
       "      <td>4.02</td>\n",
       "      <td>5.35</td>\n",
       "      <td>6.97</td>\n",
       "      <td>6.55</td>\n",
       "      <td>0</td>\n",
       "      <td>0</td>\n",
       "      <td>0</td>\n",
       "      <td>0</td>\n",
       "      <td>0</td>\n",
       "      <td>0</td>\n",
       "      <td>0</td>\n",
       "      <td>0</td>\n",
       "      <td>NaN</td>\n",
       "      <td>NaN</td>\n",
       "      <td>NaN</td>\n",
       "      <td>NaN</td>\n",
       "      <td>NaN</td>\n",
       "    </tr>\n",
       "    <tr>\n",
       "      <th>3</th>\n",
       "      <td>4</td>\n",
       "      <td>0</td>\n",
       "      <td>0</td>\n",
       "      <td>14.00</td>\n",
       "      <td>11.00</td>\n",
       "      <td>8.83</td>\n",
       "      <td>8.12</td>\n",
       "      <td>0</td>\n",
       "      <td>0</td>\n",
       "      <td>0</td>\n",
       "      <td>0</td>\n",
       "      <td>0</td>\n",
       "      <td>0</td>\n",
       "      <td>NaN</td>\n",
       "      <td>0</td>\n",
       "      <td>2.54</td>\n",
       "      <td>NaN</td>\n",
       "      <td>NaN</td>\n",
       "      <td>NaN</td>\n",
       "      <td>NaN</td>\n",
       "    </tr>\n",
       "    <tr>\n",
       "      <th>4</th>\n",
       "      <td>5</td>\n",
       "      <td>0</td>\n",
       "      <td>0</td>\n",
       "      <td>9.54</td>\n",
       "      <td>7.31</td>\n",
       "      <td>6.95</td>\n",
       "      <td>5.63</td>\n",
       "      <td>0</td>\n",
       "      <td>0</td>\n",
       "      <td>0</td>\n",
       "      <td>0</td>\n",
       "      <td>0</td>\n",
       "      <td>0</td>\n",
       "      <td>0</td>\n",
       "      <td>0</td>\n",
       "      <td>NaN</td>\n",
       "      <td>NaN</td>\n",
       "      <td>NaN</td>\n",
       "      <td>NaN</td>\n",
       "      <td>NaN</td>\n",
       "    </tr>\n",
       "    <tr>\n",
       "      <th>...</th>\n",
       "      <td>...</td>\n",
       "      <td>...</td>\n",
       "      <td>...</td>\n",
       "      <td>...</td>\n",
       "      <td>...</td>\n",
       "      <td>...</td>\n",
       "      <td>...</td>\n",
       "      <td>...</td>\n",
       "      <td>...</td>\n",
       "      <td>...</td>\n",
       "      <td>...</td>\n",
       "      <td>...</td>\n",
       "      <td>...</td>\n",
       "      <td>...</td>\n",
       "      <td>...</td>\n",
       "      <td>...</td>\n",
       "      <td>...</td>\n",
       "      <td>...</td>\n",
       "      <td>...</td>\n",
       "      <td>...</td>\n",
       "    </tr>\n",
       "    <tr>\n",
       "      <th>1803</th>\n",
       "      <td>1804</td>\n",
       "      <td>0</td>\n",
       "      <td>0</td>\n",
       "      <td>6.20</td>\n",
       "      <td>7.00</td>\n",
       "      <td>7.20</td>\n",
       "      <td>8.90</td>\n",
       "      <td>0</td>\n",
       "      <td>0</td>\n",
       "      <td>0</td>\n",
       "      <td>0</td>\n",
       "      <td>0</td>\n",
       "      <td>0</td>\n",
       "      <td>0</td>\n",
       "      <td>0</td>\n",
       "      <td>2.00</td>\n",
       "      <td>2.10</td>\n",
       "      <td>1.90</td>\n",
       "      <td>NaN</td>\n",
       "      <td>NaN</td>\n",
       "    </tr>\n",
       "    <tr>\n",
       "      <th>1804</th>\n",
       "      <td>1805</td>\n",
       "      <td>0</td>\n",
       "      <td>0</td>\n",
       "      <td>2.01</td>\n",
       "      <td>2.38</td>\n",
       "      <td>3.07</td>\n",
       "      <td>3.74</td>\n",
       "      <td>0</td>\n",
       "      <td>0</td>\n",
       "      <td>0</td>\n",
       "      <td>0</td>\n",
       "      <td>0</td>\n",
       "      <td>0</td>\n",
       "      <td>0</td>\n",
       "      <td>0</td>\n",
       "      <td>NaN</td>\n",
       "      <td>NaN</td>\n",
       "      <td>NaN</td>\n",
       "      <td>NaN</td>\n",
       "      <td>NaN</td>\n",
       "    </tr>\n",
       "    <tr>\n",
       "      <th>1805</th>\n",
       "      <td>1806</td>\n",
       "      <td>0</td>\n",
       "      <td>0</td>\n",
       "      <td>11.00</td>\n",
       "      <td>11.40</td>\n",
       "      <td>8.06</td>\n",
       "      <td>8.49</td>\n",
       "      <td>0</td>\n",
       "      <td>0</td>\n",
       "      <td>0</td>\n",
       "      <td>0</td>\n",
       "      <td>0</td>\n",
       "      <td>0</td>\n",
       "      <td>0</td>\n",
       "      <td>0</td>\n",
       "      <td>NaN</td>\n",
       "      <td>NaN</td>\n",
       "      <td>NaN</td>\n",
       "      <td>NaN</td>\n",
       "      <td>NaN</td>\n",
       "    </tr>\n",
       "    <tr>\n",
       "      <th>1806</th>\n",
       "      <td>1807</td>\n",
       "      <td>0</td>\n",
       "      <td>0</td>\n",
       "      <td>4.41</td>\n",
       "      <td>5.43</td>\n",
       "      <td>4.96</td>\n",
       "      <td>3.87</td>\n",
       "      <td>0</td>\n",
       "      <td>0</td>\n",
       "      <td>0</td>\n",
       "      <td>0</td>\n",
       "      <td>0</td>\n",
       "      <td>0</td>\n",
       "      <td>0</td>\n",
       "      <td>0</td>\n",
       "      <td>NaN</td>\n",
       "      <td>NaN</td>\n",
       "      <td>NaN</td>\n",
       "      <td>NaN</td>\n",
       "      <td>NaN</td>\n",
       "    </tr>\n",
       "    <tr>\n",
       "      <th>1807</th>\n",
       "      <td>1808</td>\n",
       "      <td>0</td>\n",
       "      <td>0</td>\n",
       "      <td>5.79</td>\n",
       "      <td>5.23</td>\n",
       "      <td>5.38</td>\n",
       "      <td>5.38</td>\n",
       "      <td>0</td>\n",
       "      <td>0</td>\n",
       "      <td>0</td>\n",
       "      <td>0</td>\n",
       "      <td>0</td>\n",
       "      <td>0</td>\n",
       "      <td>0</td>\n",
       "      <td>0</td>\n",
       "      <td>9.72</td>\n",
       "      <td>3.19</td>\n",
       "      <td>2.38</td>\n",
       "      <td>NaN</td>\n",
       "      <td>NaN</td>\n",
       "    </tr>\n",
       "  </tbody>\n",
       "</table>\n",
       "<p>1808 rows × 20 columns</p>\n",
       "</div>"
      ],
      "text/plain": [
       "      Identity Date Sampled Address  Draw1  Draw2  Draw3  Draw4 Draw5 Draw6  \\\n",
       "0            1            0       0   1.52   1.37   1.59   2.53     0     0   \n",
       "1            2            0       0   3.70   2.62   8.83  13.80     0     0   \n",
       "2            3            0       0   4.02   5.35   6.97   6.55     0     0   \n",
       "3            4            0       0  14.00  11.00   8.83   8.12     0     0   \n",
       "4            5            0       0   9.54   7.31   6.95   5.63     0     0   \n",
       "...        ...          ...     ...    ...    ...    ...    ...   ...   ...   \n",
       "1803      1804            0       0   6.20   7.00   7.20   8.90     0     0   \n",
       "1804      1805            0       0   2.01   2.38   3.07   3.74     0     0   \n",
       "1805      1806            0       0  11.00  11.40   8.06   8.49     0     0   \n",
       "1806      1807            0       0   4.41   5.43   4.96   3.87     0     0   \n",
       "1807      1808            0       0   5.79   5.23   5.38   5.38     0     0   \n",
       "\n",
       "     Draw7 Draw8 Draw9 Draw10 Draw11 Minute3  Minute5  Minute7  Minute10  \\\n",
       "0        0     0     0      0      0       0      NaN      NaN       NaN   \n",
       "1        0     0     0      0      0       0      NaN      NaN       NaN   \n",
       "2        0     0     0      0      0       0      NaN      NaN       NaN   \n",
       "3        0     0     0      0    NaN       0     2.54      NaN       NaN   \n",
       "4        0     0     0      0      0       0      NaN      NaN       NaN   \n",
       "...    ...   ...   ...    ...    ...     ...      ...      ...       ...   \n",
       "1803     0     0     0      0      0       0     2.00     2.10      1.90   \n",
       "1804     0     0     0      0      0       0      NaN      NaN       NaN   \n",
       "1805     0     0     0      0      0       0      NaN      NaN       NaN   \n",
       "1806     0     0     0      0      0       0      NaN      NaN       NaN   \n",
       "1807     0     0     0      0      0       0     9.72     3.19      2.38   \n",
       "\n",
       "      Minute15  Minute20  \n",
       "0          NaN       NaN  \n",
       "1          NaN       NaN  \n",
       "2          NaN       NaN  \n",
       "3          NaN       NaN  \n",
       "4          NaN       NaN  \n",
       "...        ...       ...  \n",
       "1803       NaN       NaN  \n",
       "1804       NaN       NaN  \n",
       "1805       NaN       NaN  \n",
       "1806       NaN       NaN  \n",
       "1807       NaN       NaN  \n",
       "\n",
       "[1808 rows x 20 columns]"
      ]
     },
     "execution_count": 4,
     "metadata": {},
     "output_type": "execute_result"
    }
   ],
   "source": [
    "for a in df:\n",
    "    for b in range(len(df[a])):\n",
    "        if type(df[a][b]) is str:\n",
    "            df[a][b] = 0\n",
    "df"
   ]
  },
  {
   "cell_type": "code",
   "execution_count": 5,
   "id": "a3473617",
   "metadata": {},
   "outputs": [
    {
     "data": {
      "text/plain": [
       "[<matplotlib.lines.Line2D at 0x2a22b3a5400>]"
      ]
     },
     "execution_count": 5,
     "metadata": {},
     "output_type": "execute_result"
    },
    {
     "data": {
      "image/png": "[encoded data removed]",
      "text/plain": [
       "<Figure size 640x480 with 1 Axes>"
      ]
     },
     "metadata": {},
     "output_type": "display_data"
    }
   ],
   "source": [
    "plt.plot(df.Identity,df.Draw1)"
   ]
  },
  {
   "cell_type": "code",
   "execution_count": 6,
   "id": "c1d1ca7f",
   "metadata": {},
   "outputs": [
    {
     "data": {
      "text/plain": [
       "<matplotlib.collections.PathCollection at 0x2a22bb2c220>"
      ]
     },
     "execution_count": 6,
     "metadata": {},
     "output_type": "execute_result"
    },
    {
     "data": {
      "image/png": "[encoded data removed]",
      "text/plain": [
       "<Figure size 640x480 with 1 Axes>"
      ]
     },
     "metadata": {},
     "output_type": "display_data"
    }
   ],
   "source": [
    "plt.scatter(df.Draw1, df[\"Draw2\"])"
   ]
  },
  {
   "cell_type": "code",
   "execution_count": 10,
   "id": "9d944f3f",
   "metadata": {},
   "outputs": [],
   "source": [
    "df[\"difference\"] = df.Draw1 - df.Draw2"
   ]
  },
  {
   "cell_type": "code",
   "execution_count": 11,
   "id": "75138d40",
   "metadata": {},
   "outputs": [
    {
     "data": {
      "text/plain": [
       "0       0.15\n",
       "1       1.08\n",
       "2      -1.33\n",
       "3       3.00\n",
       "4       2.23\n",
       "        ... \n",
       "1803   -0.80\n",
       "1804   -0.37\n",
       "1805   -0.40\n",
       "1806   -1.02\n",
       "1807    0.56\n",
       "Name: difference, Length: 1808, dtype: float64"
      ]
     },
     "execution_count": 11,
     "metadata": {},
     "output_type": "execute_result"
    }
   ],
   "source": [
    "df[\"difference\"]"
   ]
  },
  {
   "cell_type": "code",
   "execution_count": 12,
   "id": "d25b3aa9",
   "metadata": {},
   "outputs": [
    {
     "data": {
      "text/plain": [
       "0        1.37\n",
       "1        2.62\n",
       "2        5.35\n",
       "3       11.00\n",
       "4        7.31\n",
       "        ...  \n",
       "1803     7.00\n",
       "1804     2.38\n",
       "1805    11.40\n",
       "1806     5.43\n",
       "1807     5.23\n",
       "Name: Draw2, Length: 1808, dtype: float64"
      ]
     },
     "execution_count": 12,
     "metadata": {},
     "output_type": "execute_result"
    }
   ],
   "source": [
    "df[\"Draw2\"]"
   ]
  },
  {
   "cell_type": "code",
   "execution_count": 13,
   "id": "2f96153f",
   "metadata": {},
   "outputs": [
    {
     "data": {
      "text/plain": [
       "<matplotlib.collections.PathCollection at 0x2a22bb9e340>"
      ]
     },
     "execution_count": 13,
     "metadata": {},
     "output_type": "execute_result"
    },
    {
     "data": {
      "image/png": "[encoded data removed]",
      "text/plain": [
       "<Figure size 640x480 with 1 Axes>"
      ]
     },
     "metadata": {},
     "output_type": "display_data"
    }
   ],
   "source": [
    "plt.scatter(df.Draw1, df.difference)"
   ]
  },
  {
   "cell_type": "code",
   "execution_count": null,
   "id": "7a02169f",
   "metadata": {},
   "outputs": [],
   "source": []
  }
 ],
 "metadata": {
  "kernelspec": {
   "display_name": "Python 3 (ipykernel)",
   "language": "python",
   "name": "python3"
  },
  "language_info": {
   "codemirror_mode": {
    "name": "ipython",
    "version": 3
   },
   "file_extension": ".py",
   "mimetype": "text/x-python",
   "name": "python",
   "nbconvert_exporter": "python",
   "pygments_lexer": "ipython3",
   "version": "3.9.13"
  }
 },
 "nbformat": 4,
 "nbformat_minor": 5
}
