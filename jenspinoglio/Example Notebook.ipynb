{
 "cells": [
  {
   "cell_type": "markdown",
   "id": "0fbf0a82",
   "metadata": {},
   "source": [
    "# Pandas and Data Visualization"
   ]
  },
  {
   "cell_type": "code",
   "execution_count": 1,
   "id": "39c0fb3d",
   "metadata": {},
   "outputs": [],
   "source": [
    "#Import APIs!\n",
    "import pandas as pd\n",
    "import numpy as np\n",
    "import matplotlib\n",
    "%matplotlib inline\n",
    "import matplotlib.pyplot as plt\n",
    "plt.style.use('fivethirtyeight')\n",
    "import seaborn as sns\n",
    "import altair as alt\n",
    "import plotnine as p9"
   ]
  },
  {
   "cell_type": "markdown",
   "id": "f175e8ea",
   "metadata": {},
   "source": [
    "### Read In Data:"
   ]
  },
  {
   "cell_type": "code",
   "execution_count": 2,
   "id": "7fcb1c73",
   "metadata": {},
   "outputs": [
    {
     "data": {
      "text/html": [
       "<div>\n",
       "<style scoped>\n",
       "    .dataframe tbody tr th:only-of-type {\n",
       "        vertical-align: middle;\n",
       "    }\n",
       "\n",
       "    .dataframe tbody tr th {\n",
       "        vertical-align: top;\n",
       "    }\n",
       "\n",
       "    .dataframe thead th {\n",
       "        text-align: right;\n",
       "    }\n",
       "</style>\n",
       "<table border=\"1\" class=\"dataframe\">\n",
       "  <thead>\n",
       "    <tr style=\"text-align: right;\">\n",
       "      <th></th>\n",
       "      <th>Votes</th>\n",
       "      <th>Rating</th>\n",
       "      <th>Title</th>\n",
       "      <th>Year</th>\n",
       "      <th>Decade</th>\n",
       "    </tr>\n",
       "  </thead>\n",
       "  <tbody>\n",
       "    <tr>\n",
       "      <th>0</th>\n",
       "      <td>88355</td>\n",
       "      <td>8.4</td>\n",
       "      <td>M</td>\n",
       "      <td>1931</td>\n",
       "      <td>1930</td>\n",
       "    </tr>\n",
       "    <tr>\n",
       "      <th>1</th>\n",
       "      <td>132823</td>\n",
       "      <td>8.3</td>\n",
       "      <td>Singin' in the Rain</td>\n",
       "      <td>1952</td>\n",
       "      <td>1950</td>\n",
       "    </tr>\n",
       "    <tr>\n",
       "      <th>2</th>\n",
       "      <td>74178</td>\n",
       "      <td>8.3</td>\n",
       "      <td>All About Eve</td>\n",
       "      <td>1950</td>\n",
       "      <td>1950</td>\n",
       "    </tr>\n",
       "    <tr>\n",
       "      <th>3</th>\n",
       "      <td>635139</td>\n",
       "      <td>8.6</td>\n",
       "      <td>Léon</td>\n",
       "      <td>1994</td>\n",
       "      <td>1990</td>\n",
       "    </tr>\n",
       "    <tr>\n",
       "      <th>4</th>\n",
       "      <td>145514</td>\n",
       "      <td>8.2</td>\n",
       "      <td>The Elephant Man</td>\n",
       "      <td>1980</td>\n",
       "      <td>1980</td>\n",
       "    </tr>\n",
       "    <tr>\n",
       "      <th>...</th>\n",
       "      <td>...</td>\n",
       "      <td>...</td>\n",
       "      <td>...</td>\n",
       "      <td>...</td>\n",
       "      <td>...</td>\n",
       "    </tr>\n",
       "    <tr>\n",
       "      <th>245</th>\n",
       "      <td>1078416</td>\n",
       "      <td>8.7</td>\n",
       "      <td>Forrest Gump</td>\n",
       "      <td>1994</td>\n",
       "      <td>1990</td>\n",
       "    </tr>\n",
       "    <tr>\n",
       "      <th>246</th>\n",
       "      <td>31003</td>\n",
       "      <td>8.1</td>\n",
       "      <td>Le salaire de la peur</td>\n",
       "      <td>1953</td>\n",
       "      <td>1950</td>\n",
       "    </tr>\n",
       "    <tr>\n",
       "      <th>247</th>\n",
       "      <td>167076</td>\n",
       "      <td>8.2</td>\n",
       "      <td>3 Idiots</td>\n",
       "      <td>2009</td>\n",
       "      <td>2000</td>\n",
       "    </tr>\n",
       "    <tr>\n",
       "      <th>248</th>\n",
       "      <td>91689</td>\n",
       "      <td>8.1</td>\n",
       "      <td>Network</td>\n",
       "      <td>1976</td>\n",
       "      <td>1970</td>\n",
       "    </tr>\n",
       "    <tr>\n",
       "      <th>249</th>\n",
       "      <td>589477</td>\n",
       "      <td>8.3</td>\n",
       "      <td>Eternal Sunshine of the Spotless Mind</td>\n",
       "      <td>2004</td>\n",
       "      <td>2000</td>\n",
       "    </tr>\n",
       "  </tbody>\n",
       "</table>\n",
       "<p>250 rows × 5 columns</p>\n",
       "</div>"
      ],
      "text/plain": [
       "       Votes  Rating                                  Title  Year  Decade\n",
       "0      88355     8.4                                      M  1931    1930\n",
       "1     132823     8.3                    Singin' in the Rain  1952    1950\n",
       "2      74178     8.3                          All About Eve  1950    1950\n",
       "3     635139     8.6                                   Léon  1994    1990\n",
       "4     145514     8.2                       The Elephant Man  1980    1980\n",
       "..       ...     ...                                    ...   ...     ...\n",
       "245  1078416     8.7                           Forrest Gump  1994    1990\n",
       "246    31003     8.1                  Le salaire de la peur  1953    1950\n",
       "247   167076     8.2                               3 Idiots  2009    2000\n",
       "248    91689     8.1                                Network  1976    1970\n",
       "249   589477     8.3  Eternal Sunshine of the Spotless Mind  2004    2000\n",
       "\n",
       "[250 rows x 5 columns]"
      ]
     },
     "execution_count": 2,
     "metadata": {},
     "output_type": "execute_result"
    }
   ],
   "source": [
    "imdb = pd.read_csv(\"imdb.csv\")\n",
    "imdb"
   ]
  },
  {
   "cell_type": "markdown",
   "id": "4b1cfd96",
   "metadata": {},
   "source": [
    "### Analyze Data"
   ]
  },
  {
   "cell_type": "code",
   "execution_count": 3,
   "id": "e2df6f52",
   "metadata": {},
   "outputs": [
    {
     "data": {
      "text/plain": [
       "0                                          M\n",
       "1                        Singin' in the Rain\n",
       "2                              All About Eve\n",
       "3                                       Léon\n",
       "4                           The Elephant Man\n",
       "                       ...                  \n",
       "245                             Forrest Gump\n",
       "246                    Le salaire de la peur\n",
       "247                                 3 Idiots\n",
       "248                                  Network\n",
       "249    Eternal Sunshine of the Spotless Mind\n",
       "Name: Title, Length: 250, dtype: object"
      ]
     },
     "execution_count": 3,
     "metadata": {},
     "output_type": "execute_result"
    }
   ],
   "source": [
    "#View \"Title\" columns\n",
    "imdb[\"Title\"]"
   ]
  },
  {
   "cell_type": "code",
   "execution_count": 4,
   "id": "c815208c",
   "metadata": {},
   "outputs": [
    {
     "data": {
      "text/plain": [
       "0                      M\n",
       "1    Singin' in the Rain\n",
       "2          All About Eve\n",
       "3                   Léon\n",
       "4       The Elephant Man\n",
       "Name: Title, dtype: object"
      ]
     },
     "execution_count": 4,
     "metadata": {},
     "output_type": "execute_result"
    }
   ],
   "source": [
    "#View first element in \"Title\"\n",
    "imdb.Title.head()"
   ]
  },
  {
   "cell_type": "code",
   "execution_count": 7,
   "id": "40e147e6",
   "metadata": {},
   "outputs": [
    {
     "data": {
      "text/plain": [
       "22     9.2\n",
       "53     9.2\n",
       "91     9.0\n",
       "105    8.9\n",
       "57     8.9\n",
       "      ... \n",
       "168    8.0\n",
       "166    8.0\n",
       "46     8.0\n",
       "51     8.0\n",
       "125    8.0\n",
       "Name: Rating, Length: 250, dtype: float64"
      ]
     },
     "execution_count": 7,
     "metadata": {},
     "output_type": "execute_result"
    }
   ],
   "source": [
    "#View highest rating\n",
    "imdb.Rating.sort_values(ascending=False)"
   ]
  },
  {
   "cell_type": "code",
   "execution_count": 9,
   "id": "91864cc9",
   "metadata": {},
   "outputs": [
    {
     "data": {
      "text/plain": [
       "53     1498733\n",
       "76     1473049\n",
       "81     1271949\n",
       "87     1177098\n",
       "224    1166532\n",
       "Name: Votes, dtype: int64"
      ]
     },
     "execution_count": 9,
     "metadata": {},
     "output_type": "execute_result"
    }
   ],
   "source": [
    "#View movies with 5 most reviews\n",
    "imdb.Votes.sort_values(ascending=False).head()"
   ]
  },
  {
   "cell_type": "code",
   "execution_count": 10,
   "id": "0fa8d504",
   "metadata": {},
   "outputs": [
    {
     "data": {
      "text/html": [
       "<div>\n",
       "<style scoped>\n",
       "    .dataframe tbody tr th:only-of-type {\n",
       "        vertical-align: middle;\n",
       "    }\n",
       "\n",
       "    .dataframe tbody tr th {\n",
       "        vertical-align: top;\n",
       "    }\n",
       "\n",
       "    .dataframe thead th {\n",
       "        text-align: right;\n",
       "    }\n",
       "</style>\n",
       "<table border=\"1\" class=\"dataframe\">\n",
       "  <thead>\n",
       "    <tr style=\"text-align: right;\">\n",
       "      <th></th>\n",
       "      <th>Votes</th>\n",
       "      <th>Rating</th>\n",
       "      <th>Title</th>\n",
       "      <th>Year</th>\n",
       "      <th>Decade</th>\n",
       "    </tr>\n",
       "  </thead>\n",
       "  <tbody>\n",
       "    <tr>\n",
       "      <th>22</th>\n",
       "      <td>1027398</td>\n",
       "      <td>9.2</td>\n",
       "      <td>The Godfather</td>\n",
       "      <td>1972</td>\n",
       "      <td>1970</td>\n",
       "    </tr>\n",
       "    <tr>\n",
       "      <th>53</th>\n",
       "      <td>1498733</td>\n",
       "      <td>9.2</td>\n",
       "      <td>The Shawshank Redemption</td>\n",
       "      <td>1994</td>\n",
       "      <td>1990</td>\n",
       "    </tr>\n",
       "    <tr>\n",
       "      <th>91</th>\n",
       "      <td>692753</td>\n",
       "      <td>9.0</td>\n",
       "      <td>The Godfather: Part II</td>\n",
       "      <td>1974</td>\n",
       "      <td>1970</td>\n",
       "    </tr>\n",
       "    <tr>\n",
       "      <th>105</th>\n",
       "      <td>384187</td>\n",
       "      <td>8.9</td>\n",
       "      <td>12 Angry Men</td>\n",
       "      <td>1957</td>\n",
       "      <td>1950</td>\n",
       "    </tr>\n",
       "    <tr>\n",
       "      <th>57</th>\n",
       "      <td>447875</td>\n",
       "      <td>8.9</td>\n",
       "      <td>Il buono, il brutto, il cattivo (1966)</td>\n",
       "      <td>1966</td>\n",
       "      <td>1960</td>\n",
       "    </tr>\n",
       "    <tr>\n",
       "      <th>...</th>\n",
       "      <td>...</td>\n",
       "      <td>...</td>\n",
       "      <td>...</td>\n",
       "      <td>...</td>\n",
       "      <td>...</td>\n",
       "    </tr>\n",
       "    <tr>\n",
       "      <th>168</th>\n",
       "      <td>500576</td>\n",
       "      <td>8.0</td>\n",
       "      <td>Monsters, Inc. (2001)</td>\n",
       "      <td>2001</td>\n",
       "      <td>2000</td>\n",
       "    </tr>\n",
       "    <tr>\n",
       "      <th>166</th>\n",
       "      <td>59578</td>\n",
       "      <td>8.0</td>\n",
       "      <td>The Big Sleep</td>\n",
       "      <td>1946</td>\n",
       "      <td>1940</td>\n",
       "    </tr>\n",
       "    <tr>\n",
       "      <th>46</th>\n",
       "      <td>427099</td>\n",
       "      <td>8.0</td>\n",
       "      <td>X-Men: Days of Future Past</td>\n",
       "      <td>2014</td>\n",
       "      <td>2010</td>\n",
       "    </tr>\n",
       "    <tr>\n",
       "      <th>51</th>\n",
       "      <td>87437</td>\n",
       "      <td>8.0</td>\n",
       "      <td>Roman Holiday</td>\n",
       "      <td>1953</td>\n",
       "      <td>1950</td>\n",
       "    </tr>\n",
       "    <tr>\n",
       "      <th>125</th>\n",
       "      <td>26012</td>\n",
       "      <td>8.0</td>\n",
       "      <td>Kumonosu-jô</td>\n",
       "      <td>1957</td>\n",
       "      <td>1950</td>\n",
       "    </tr>\n",
       "  </tbody>\n",
       "</table>\n",
       "<p>250 rows × 5 columns</p>\n",
       "</div>"
      ],
      "text/plain": [
       "       Votes  Rating                                   Title  Year  Decade\n",
       "22   1027398     9.2                           The Godfather  1972    1970\n",
       "53   1498733     9.2                The Shawshank Redemption  1994    1990\n",
       "91    692753     9.0                  The Godfather: Part II  1974    1970\n",
       "105   384187     8.9                            12 Angry Men  1957    1950\n",
       "57    447875     8.9  Il buono, il brutto, il cattivo (1966)  1966    1960\n",
       "..       ...     ...                                     ...   ...     ...\n",
       "168   500576     8.0                   Monsters, Inc. (2001)  2001    2000\n",
       "166    59578     8.0                           The Big Sleep  1946    1940\n",
       "46    427099     8.0              X-Men: Days of Future Past  2014    2010\n",
       "51     87437     8.0                           Roman Holiday  1953    1950\n",
       "125    26012     8.0                             Kumonosu-jô  1957    1950\n",
       "\n",
       "[250 rows x 5 columns]"
      ]
     },
     "execution_count": 10,
     "metadata": {},
     "output_type": "execute_result"
    }
   ],
   "source": [
    "#Sort table by highest rating\n",
    "imdb.sort_values(\"Rating\",ascending=False)"
   ]
  },
  {
   "cell_type": "code",
   "execution_count": 15,
   "id": "bb115ff4",
   "metadata": {},
   "outputs": [
    {
     "data": {
      "text/html": [
       "<div>\n",
       "<style scoped>\n",
       "    .dataframe tbody tr th:only-of-type {\n",
       "        vertical-align: middle;\n",
       "    }\n",
       "\n",
       "    .dataframe tbody tr th {\n",
       "        vertical-align: top;\n",
       "    }\n",
       "\n",
       "    .dataframe thead th {\n",
       "        text-align: right;\n",
       "    }\n",
       "</style>\n",
       "<table border=\"1\" class=\"dataframe\">\n",
       "  <thead>\n",
       "    <tr style=\"text-align: right;\">\n",
       "      <th></th>\n",
       "      <th>Votes</th>\n",
       "      <th>Rating</th>\n",
       "      <th>Title</th>\n",
       "      <th>Year</th>\n",
       "      <th>Decade</th>\n",
       "    </tr>\n",
       "  </thead>\n",
       "  <tbody>\n",
       "    <tr>\n",
       "      <th>21</th>\n",
       "      <td>55793</td>\n",
       "      <td>8.1</td>\n",
       "      <td>The Grapes of Wrath</td>\n",
       "      <td>1940</td>\n",
       "      <td>1940</td>\n",
       "    </tr>\n",
       "    <tr>\n",
       "      <th>50</th>\n",
       "      <td>86715</td>\n",
       "      <td>8.3</td>\n",
       "      <td>Double Indemnity</td>\n",
       "      <td>1944</td>\n",
       "      <td>1940</td>\n",
       "    </tr>\n",
       "    <tr>\n",
       "      <th>72</th>\n",
       "      <td>101754</td>\n",
       "      <td>8.1</td>\n",
       "      <td>The Maltese Falcon</td>\n",
       "      <td>1941</td>\n",
       "      <td>1940</td>\n",
       "    </tr>\n",
       "    <tr>\n",
       "      <th>75</th>\n",
       "      <td>71003</td>\n",
       "      <td>8.3</td>\n",
       "      <td>The Treasure of the Sierra Madre</td>\n",
       "      <td>1948</td>\n",
       "      <td>1940</td>\n",
       "    </tr>\n",
       "    <tr>\n",
       "      <th>102</th>\n",
       "      <td>35983</td>\n",
       "      <td>8.1</td>\n",
       "      <td>The Best Years of Our Lives</td>\n",
       "      <td>1946</td>\n",
       "      <td>1940</td>\n",
       "    </tr>\n",
       "    <tr>\n",
       "      <th>118</th>\n",
       "      <td>81887</td>\n",
       "      <td>8.3</td>\n",
       "      <td>Ladri di biciclette</td>\n",
       "      <td>1948</td>\n",
       "      <td>1940</td>\n",
       "    </tr>\n",
       "    <tr>\n",
       "      <th>120</th>\n",
       "      <td>66622</td>\n",
       "      <td>8.0</td>\n",
       "      <td>Notorious</td>\n",
       "      <td>1946</td>\n",
       "      <td>1940</td>\n",
       "    </tr>\n",
       "    <tr>\n",
       "      <th>158</th>\n",
       "      <td>350551</td>\n",
       "      <td>8.5</td>\n",
       "      <td>Casablanca</td>\n",
       "      <td>1942</td>\n",
       "      <td>1940</td>\n",
       "    </tr>\n",
       "    <tr>\n",
       "      <th>166</th>\n",
       "      <td>59578</td>\n",
       "      <td>8.0</td>\n",
       "      <td>The Big Sleep</td>\n",
       "      <td>1946</td>\n",
       "      <td>1940</td>\n",
       "    </tr>\n",
       "    <tr>\n",
       "      <th>167</th>\n",
       "      <td>78216</td>\n",
       "      <td>8.2</td>\n",
       "      <td>Rebecca</td>\n",
       "      <td>1940</td>\n",
       "      <td>1940</td>\n",
       "    </tr>\n",
       "    <tr>\n",
       "      <th>213</th>\n",
       "      <td>242353</td>\n",
       "      <td>8.6</td>\n",
       "      <td>It's a Wonderful Life</td>\n",
       "      <td>1946</td>\n",
       "      <td>1940</td>\n",
       "    </tr>\n",
       "    <tr>\n",
       "      <th>215</th>\n",
       "      <td>101785</td>\n",
       "      <td>8.3</td>\n",
       "      <td>The Third Man</td>\n",
       "      <td>1949</td>\n",
       "      <td>1940</td>\n",
       "    </tr>\n",
       "    <tr>\n",
       "      <th>240</th>\n",
       "      <td>117590</td>\n",
       "      <td>8.4</td>\n",
       "      <td>The Great Dictator</td>\n",
       "      <td>1940</td>\n",
       "      <td>1940</td>\n",
       "    </tr>\n",
       "    <tr>\n",
       "      <th>243</th>\n",
       "      <td>268905</td>\n",
       "      <td>8.4</td>\n",
       "      <td>Citizen Kane</td>\n",
       "      <td>1941</td>\n",
       "      <td>1940</td>\n",
       "    </tr>\n",
       "  </tbody>\n",
       "</table>\n",
       "</div>"
      ],
      "text/plain": [
       "      Votes  Rating                             Title  Year  Decade\n",
       "21    55793     8.1               The Grapes of Wrath  1940    1940\n",
       "50    86715     8.3                  Double Indemnity  1944    1940\n",
       "72   101754     8.1                The Maltese Falcon  1941    1940\n",
       "75    71003     8.3  The Treasure of the Sierra Madre  1948    1940\n",
       "102   35983     8.1       The Best Years of Our Lives  1946    1940\n",
       "118   81887     8.3               Ladri di biciclette  1948    1940\n",
       "120   66622     8.0                         Notorious  1946    1940\n",
       "158  350551     8.5                        Casablanca  1942    1940\n",
       "166   59578     8.0                     The Big Sleep  1946    1940\n",
       "167   78216     8.2                           Rebecca  1940    1940\n",
       "213  242353     8.6             It's a Wonderful Life  1946    1940\n",
       "215  101785     8.3                     The Third Man  1949    1940\n",
       "240  117590     8.4                The Great Dictator  1940    1940\n",
       "243  268905     8.4                      Citizen Kane  1941    1940"
      ]
     },
     "execution_count": 15,
     "metadata": {},
     "output_type": "execute_result"
    }
   ],
   "source": [
    "#View only movies made in the 1940s\n",
    "imdb40s=imdb.iloc[np.where(imdb.Decade==1940)]\n",
    "imdb40s"
   ]
  },
  {
   "cell_type": "code",
   "execution_count": 16,
   "id": "01a4447c",
   "metadata": {},
   "outputs": [
    {
     "data": {
      "text/plain": [
       "8.257142857142858"
      ]
     },
     "execution_count": 16,
     "metadata": {},
     "output_type": "execute_result"
    }
   ],
   "source": [
    "#View average rating for movie made in 1940s\n",
    "imdb40s.Rating.mean()"
   ]
  },
  {
   "cell_type": "code",
   "execution_count": 22,
   "id": "1019a911",
   "metadata": {},
   "outputs": [
    {
     "data": {
      "text/plain": [
       "Decade\n",
       "1920     4\n",
       "1930     7\n",
       "1940    14\n",
       "1950    30\n",
       "1960    22\n",
       "1970    21\n",
       "1980    31\n",
       "1990    42\n",
       "2000    50\n",
       "2010    29\n",
       "Name: Title, dtype: int64"
      ]
     },
     "execution_count": 22,
     "metadata": {},
     "output_type": "execute_result"
    }
   ],
   "source": [
    "#See how many movies were made in each decade\n",
    "imdb.groupby(\"Decade\").Title.count()"
   ]
  },
  {
   "cell_type": "markdown",
   "id": "f01b7ac4",
   "metadata": {},
   "source": [
    "### Make Visualizations"
   ]
  },
  {
   "cell_type": "code",
   "execution_count": 19,
   "id": "0c48bb0c",
   "metadata": {},
   "outputs": [
    {
     "data": {
      "text/plain": [
       "Text(0.5, 0, 'Number of Reviews')"
      ]
     },
     "execution_count": 19,
     "metadata": {},
     "output_type": "execute_result"
    },
    {
     "data": {
      "image/png": "[encoded data removed]",
      "text/plain": [
       "<Figure size 432x288 with 1 Axes>"
      ]
     },
     "metadata": {},
     "output_type": "display_data"
    }
   ],
   "source": [
    "#Plot distribution of number of reviews\n",
    "plt.hist(imdb.Votes)\n",
    "plt.title(\"Number of Reviews in IMDB Top 250\")\n",
    "plt.xlabel(\"Number of Reviews\")"
   ]
  },
  {
   "cell_type": "code",
   "execution_count": 20,
   "id": "55f9dd20",
   "metadata": {},
   "outputs": [
    {
     "data": {
      "text/plain": [
       "<matplotlib.collections.PathCollection at 0x7ff2b4fede50>"
      ]
     },
     "execution_count": 20,
     "metadata": {},
     "output_type": "execute_result"
    },
    {
     "data": {
      "image/png": "[encoded data removed]",
      "text/plain": [
       "<Figure size 432x288 with 1 Axes>"
      ]
     },
     "metadata": {},
     "output_type": "display_data"
    }
   ],
   "source": [
    "#Plot every movie by year and rating\n",
    "plt.scatter(x=imdb.Year,y=imdb.Rating)"
   ]
  },
  {
   "cell_type": "markdown",
   "id": "b47f9c8c",
   "metadata": {},
   "source": [
    "### Other Functions"
   ]
  },
  {
   "cell_type": "code",
   "execution_count": null,
   "id": "ecb38991",
   "metadata": {},
   "outputs": [],
   "source": [
    "#Find average rating for every decade"
   ]
  }
 ],
 "metadata": {
  "kernelspec": {
   "display_name": "Python 3",
   "language": "python",
   "name": "python3"
  },
  "language_info": {
   "codemirror_mode": {
    "name": "ipython",
    "version": 3
   },
   "file_extension": ".py",
   "mimetype": "text/x-python",
   "name": "python",
   "nbconvert_exporter": "python",
   "pygments_lexer": "ipython3",
   "version": "3.8.8"
  }
 },
 "nbformat": 4,
 "nbformat_minor": 5
}
